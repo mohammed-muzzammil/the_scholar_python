{
  "nbformat": 4,
  "nbformat_minor": 0,
  "metadata": {
    "colab": {
      "name": "Class3.ipynb",
      "provenance": []
    },
    "kernelspec": {
      "name": "python3",
      "display_name": "Python 3"
    },
    "language_info": {
      "name": "python"
    }
  },
  "cells": [
    {
      "cell_type": "code",
      "execution_count": 3,
      "metadata": {
        "colab": {
          "base_uri": "https://localhost:8080/"
        },
        "id": "s1Nh3XSm4_lM",
        "outputId": "beeacdf7-58b7-49a7-aab8-458f90c89a51"
      },
      "outputs": [
        {
          "output_type": "stream",
          "name": "stdout",
          "text": [
            "1234\n",
            "The value you entered is \n",
            "1234\n"
          ]
        }
      ],
      "source": [
        "# Inputs in Python\n",
        "# We are using this because we need the value at run time from the user\n",
        "\n",
        "a = input()\n",
        "b = input()\n",
        "\n",
        "\n",
        "print(\"The value you entered is \")\n",
        "print(a)"
      ]
    },
    {
      "cell_type": "code",
      "source": [
        "a = input(\"Please enter a number \")\n",
        "b = input(\"Please enter 2nd number\")\n",
        "\n",
        "c = a + b\n",
        "\n",
        "print(c)\n"
      ],
      "metadata": {
        "colab": {
          "base_uri": "https://localhost:8080/"
        },
        "id": "TmtzHVi36P-n",
        "outputId": "2da9e5f1-f941-4d74-e0f8-a47b01b8cfef"
      },
      "execution_count": 7,
      "outputs": [
        {
          "output_type": "stream",
          "name": "stdout",
          "text": [
            "Please enter a number 10\n",
            "Please enter 2nd number20\n",
            "1020\n"
          ]
        }
      ]
    },
    {
      "cell_type": "code",
      "source": [
        "# how to take integer as input\n",
        "\n",
        "# int() is function which will convert string to integer\n",
        "\n",
        "a = \"101212121212121\"\n",
        "print(type(a))\n",
        "\n",
        "b = int(a)\n",
        "print(type(b))"
      ],
      "metadata": {
        "colab": {
          "base_uri": "https://localhost:8080/"
        },
        "id": "IQXFVnkd7d71",
        "outputId": "71d84aa8-3a1f-4d57-abf4-30f09f7c4936"
      },
      "execution_count": 12,
      "outputs": [
        {
          "output_type": "stream",
          "name": "stdout",
          "text": [
            "<class 'str'>\n",
            "<class 'int'>\n"
          ]
        }
      ]
    },
    {
      "cell_type": "code",
      "source": [
        "# Taking integer in input\n",
        "\n",
        "a = input(\"Please enter a number\")\n",
        "\n",
        "b = int(a)\n",
        "\n",
        "print(type(b))\n"
      ],
      "metadata": {
        "colab": {
          "base_uri": "https://localhost:8080/"
        },
        "id": "HS4HwYmT8lzU",
        "outputId": "6ad141ad-4739-4f43-9f36-c55db8ef4888"
      },
      "execution_count": 13,
      "outputs": [
        {
          "output_type": "stream",
          "name": "stdout",
          "text": [
            "Please enter a number10\n",
            "<class 'int'>\n"
          ]
        }
      ]
    },
    {
      "cell_type": "code",
      "source": [
        "a = int(input(\"Please enter a number \"))\n",
        "b = int(input(\"please enter 2nd number\"))\n",
        "\n",
        "c = a + b\n",
        "print(\"Addition is \")\n",
        "print(c)\n"
      ],
      "metadata": {
        "colab": {
          "base_uri": "https://localhost:8080/"
        },
        "id": "bztLVC_E-T6B",
        "outputId": "f466b314-6376-403a-fadd-93aebd2fb9de"
      },
      "execution_count": 15,
      "outputs": [
        {
          "output_type": "stream",
          "name": "stdout",
          "text": [
            "Please enter a number 10\n",
            "please enter 2nd number20\n",
            "Addition is \n",
            "30\n"
          ]
        }
      ]
    },
    {
      "cell_type": "code",
      "source": [
        "a = int(input(\"Please enter a number \"))\n",
        "b = int(input(\"please enter 2nd number\"))\n",
        "\n",
        "c = a + b\n",
        "print(\"Addition is {} of number {} and number {}\".format(c, a, b))\n"
      ],
      "metadata": {
        "colab": {
          "base_uri": "https://localhost:8080/"
        },
        "id": "hvZTU8k7-u8k",
        "outputId": "9a55be64-85b2-4a4a-ad84-ec1c8ac652db"
      },
      "execution_count": 21,
      "outputs": [
        {
          "output_type": "stream",
          "name": "stdout",
          "text": [
            "Please enter a number 10\n",
            "please enter 2nd number20\n",
            "Addition is 30 of number 10 and number 20\n"
          ]
        }
      ]
    },
    {
      "cell_type": "code",
      "source": [
        "# Taking Float as input\n",
        "\n",
        "a = float(input(\"Please enter a value with decimals\"))\n",
        "\n",
        "print(a)\n",
        "print(type(a))\n",
        "\n"
      ],
      "metadata": {
        "colab": {
          "base_uri": "https://localhost:8080/"
        },
        "id": "Ai2JyHL8_O2i",
        "outputId": "66fa559c-d285-4e27-98e7-62dab146a5da"
      },
      "execution_count": 25,
      "outputs": [
        {
          "output_type": "stream",
          "name": "stdout",
          "text": [
            "Please enter a value with decimals120.322\n",
            "120.322\n",
            "<class 'float'>\n"
          ]
        }
      ]
    },
    {
      "cell_type": "code",
      "source": [
        "# Write a program to input employee id and employee name and emp salary\n",
        "\n",
        "e_name = input(\"please enter employee name\")\n",
        "\n",
        "emp_id = int(input(\"Please enter employee id as string\"))\n",
        "\n",
        "\n",
        "emp_salary = float(input(\"Please enter employee salary\"))\n",
        "\n",
        "print(\"The {} with id {} has salary of {} rs\".format(e_name, emp_id, emp_salary))\n",
        "\n",
        "\n"
      ],
      "metadata": {
        "colab": {
          "base_uri": "https://localhost:8080/"
        },
        "id": "2gFC6y6yAZJw",
        "outputId": "053b41f1-38a3-491d-f80f-9988ab4a2a54"
      },
      "execution_count": 26,
      "outputs": [
        {
          "output_type": "stream",
          "name": "stdout",
          "text": [
            "please enter employee nameMuzzzammil\n",
            "Please enter employee id01\n",
            "Please enter employee salary7000.783\n",
            "The Muzzzammil with id 1 has salary of 7000.783 rs\n"
          ]
        }
      ]
    },
    {
      "cell_type": "code",
      "source": [
        "# Map function\n",
        "\n",
        "# map(input1, input2) the first input is a function for int, float the second input is a iterable for list or a tuple\n",
        "\n"
      ],
      "metadata": {
        "id": "qUXgpVrmBeTa"
      },
      "execution_count": 27,
      "outputs": []
    },
    {
      "cell_type": "code",
      "source": [
        "l1 = map(float, [\"10\", \"20\"])\n",
        "\n",
        "print(list(l1))"
      ],
      "metadata": {
        "colab": {
          "base_uri": "https://localhost:8080/"
        },
        "id": "2jEcycBLDMZ8",
        "outputId": "230d9b0e-d9aa-4c73-a9c5-c6692924d4b4"
      },
      "execution_count": 35,
      "outputs": [
        {
          "output_type": "stream",
          "name": "stdout",
          "text": [
            "[10.0, 20.0]\n"
          ]
        }
      ]
    },
    {
      "cell_type": "code",
      "source": [
        "# Take list as a input\n",
        "\n",
        "l3 = map(int, input())\n",
        "print(list(l3))"
      ],
      "metadata": {
        "colab": {
          "base_uri": "https://localhost:8080/"
        },
        "id": "K2qd_4c_DeOL",
        "outputId": "9c34b921-4a2b-4dad-cca9-d72c5af78e27"
      },
      "execution_count": 37,
      "outputs": [
        {
          "output_type": "stream",
          "name": "stdout",
          "text": [
            "10\n",
            "[1, 0]\n"
          ]
        }
      ]
    },
    {
      "cell_type": "code",
      "source": [
        "# taking the list of strings as a input\n",
        "c = input(\"Please enter multiple numbers separated by a ,\").split(\",\")\n",
        "\n",
        "print(c)"
      ],
      "metadata": {
        "colab": {
          "base_uri": "https://localhost:8080/"
        },
        "id": "DjmxUvA0D6Oa",
        "outputId": "38bf76fc-c27d-443a-cd34-0809c1f2bb08"
      },
      "execution_count": 44,
      "outputs": [
        {
          "output_type": "stream",
          "name": "stdout",
          "text": [
            "Please enter multiple numbers separated by a ,ABC, 123, True\n",
            "['ABC', ' 123', ' True']\n"
          ]
        }
      ]
    },
    {
      "cell_type": "code",
      "source": [
        "# Taking integer list as input\n",
        "\n",
        "integer_list = map(int, input(\"Please enter multiple numbers separated by a ,\").split(\",\"))\n",
        "\n",
        "print(list(integer_list))\n"
      ],
      "metadata": {
        "colab": {
          "base_uri": "https://localhost:8080/"
        },
        "id": "DZjICfuSE0fU",
        "outputId": "f172ad09-d18b-4625-a568-6107b3653665"
      },
      "execution_count": 41,
      "outputs": [
        {
          "output_type": "stream",
          "name": "stdout",
          "text": [
            "Please enter multiple numbers separated by a ,10,20,30,40\n",
            "[10, 20, 30, 40]\n"
          ]
        }
      ]
    },
    {
      "cell_type": "code",
      "source": [
        "# Taking float list as input\n",
        "\n",
        "float_list = map(float, input(\"Please enter multiple numbers separated by a ,\").split(\",\"))\n",
        "\n",
        "print(list(float_list))\n"
      ],
      "metadata": {
        "colab": {
          "base_uri": "https://localhost:8080/",
          "height": 218
        },
        "id": "r5CCpfWfFttC",
        "outputId": "00df3120-b205-492a-8457-7aa2c1c8fe6b"
      },
      "execution_count": 43,
      "outputs": [
        {
          "name": "stdout",
          "output_type": "stream",
          "text": [
            "Please enter multiple numbers separated by a ,ABC, 123, True\n"
          ]
        },
        {
          "output_type": "error",
          "ename": "ValueError",
          "evalue": "ignored",
          "traceback": [
            "\u001b[0;31m---------------------------------------------------------------------------\u001b[0m",
            "\u001b[0;31mValueError\u001b[0m                                Traceback (most recent call last)",
            "\u001b[0;32m<ipython-input-43-4301b1584390>\u001b[0m in \u001b[0;36m<module>\u001b[0;34m\u001b[0m\n\u001b[1;32m      3\u001b[0m \u001b[0mfloat_list\u001b[0m \u001b[0;34m=\u001b[0m \u001b[0mmap\u001b[0m\u001b[0;34m(\u001b[0m\u001b[0mfloat\u001b[0m\u001b[0;34m,\u001b[0m \u001b[0minput\u001b[0m\u001b[0;34m(\u001b[0m\u001b[0;34m\"Please enter multiple numbers separated by a ,\"\u001b[0m\u001b[0;34m)\u001b[0m\u001b[0;34m.\u001b[0m\u001b[0msplit\u001b[0m\u001b[0;34m(\u001b[0m\u001b[0;34m\",\"\u001b[0m\u001b[0;34m)\u001b[0m\u001b[0;34m)\u001b[0m\u001b[0;34m\u001b[0m\u001b[0;34m\u001b[0m\u001b[0m\n\u001b[1;32m      4\u001b[0m \u001b[0;34m\u001b[0m\u001b[0m\n\u001b[0;32m----> 5\u001b[0;31m \u001b[0mprint\u001b[0m\u001b[0;34m(\u001b[0m\u001b[0mlist\u001b[0m\u001b[0;34m(\u001b[0m\u001b[0mfloat_list\u001b[0m\u001b[0;34m)\u001b[0m\u001b[0;34m)\u001b[0m\u001b[0;34m\u001b[0m\u001b[0;34m\u001b[0m\u001b[0m\n\u001b[0m",
            "\u001b[0;31mValueError\u001b[0m: could not convert string to float: 'ABC'"
          ]
        }
      ]
    },
    {
      "cell_type": "code",
      "source": [
        "# taking the list of strings as a input\n",
        "c = input(\"Please enter multiple numbers separated by a space\").split(\"-\")\n",
        "\n",
        "print(c)"
      ],
      "metadata": {
        "colab": {
          "base_uri": "https://localhost:8080/"
        },
        "id": "TWSAfY7kF9c_",
        "outputId": "21df487e-162a-41fa-e91a-0973d60ac884"
      },
      "execution_count": 49,
      "outputs": [
        {
          "output_type": "stream",
          "name": "stdout",
          "text": [
            "Please enter multiple numbers separated by a space10,20,30,40-100,400\n",
            "['10,20,30,40', '100,400']\n"
          ]
        }
      ]
    },
    {
      "cell_type": "code",
      "source": [
        "# Outputs\n",
        "\n",
        "# print()\n",
        "# Replacement operator \n",
        "# .format\n",
        "\n"
      ],
      "metadata": {
        "id": "MmYkJQLHHkSo"
      },
      "execution_count": 50,
      "outputs": []
    },
    {
      "cell_type": "code",
      "source": [
        "# Replacement operator\n",
        "a = 10\n",
        "\n",
        "print(\"The value is {}\".format(a))"
      ],
      "metadata": {
        "colab": {
          "base_uri": "https://localhost:8080/"
        },
        "id": "ERb3Pei3Ibgg",
        "outputId": "aa8594e6-c253-4665-be65-c41df038b73f"
      },
      "execution_count": 52,
      "outputs": [
        {
          "output_type": "stream",
          "name": "stdout",
          "text": [
            "The value is 10\n"
          ]
        }
      ]
    },
    {
      "cell_type": "code",
      "source": [
        "a = 10\n",
        "b = 20 \n",
        "c = 30\n",
        "\n",
        "print(a,b,c, sep='-')"
      ],
      "metadata": {
        "colab": {
          "base_uri": "https://localhost:8080/"
        },
        "id": "BmvBEqUnIiB_",
        "outputId": "3c6d5a19-cce3-4420-8912-8cbf8578e302"
      },
      "execution_count": 55,
      "outputs": [
        {
          "output_type": "stream",
          "name": "stdout",
          "text": [
            "10-20-30\n"
          ]
        }
      ]
    },
    {
      "cell_type": "code",
      "source": [
        ""
      ],
      "metadata": {
        "id": "H73kBPVII2c6"
      },
      "execution_count": null,
      "outputs": []
    }
  ]
}