{
  "nbformat": 4,
  "nbformat_minor": 0,
  "metadata": {
    "colab": {
      "provenance": []
    },
    "kernelspec": {
      "name": "python3",
      "display_name": "Python 3"
    },
    "language_info": {
      "name": "python"
    }
  },
  "cells": [
    {
      "cell_type": "code",
      "execution_count": 6,
      "metadata": {
        "id": "p_Z_KNudA1Wz"
      },
      "outputs": [],
      "source": [
        "# Assignment Question\n",
        "\n",
        "# Input - b4a1d3\n",
        "# Output - abd134\n",
        "\n",
        "# Step 1 - TO separate the characters and numbers\n",
        "# Step 2 - Sort them separately\n",
        "# Step 3 - Join them\n",
        "\n",
        "# Generic Approach for solving problems\n",
        "\n",
        "# Reverse Engineer (Look at the output and think of how to tranform the input to the output)\n",
        "# Derive a solution in a step wise manner"
      ]
    },
    {
      "cell_type": "code",
      "source": [
        "def separate_sort(str1):\n",
        "  number_list = []\n",
        "  alphabet_list = []\n",
        "  for i in str1:\n",
        "    if i.isdigit():\n",
        "      number_list.append(int(i))\n",
        "\n",
        "    elif i.isalpha():\n",
        "      alphabet_list.append(i)\n",
        "\n",
        "  number_list.sort()\n",
        "  alphabet_list.sort()\n",
        "\n",
        "  output = str()\n",
        "\n",
        "  for i in alphabet_list:\n",
        "    output += i\n",
        "\n",
        "  for i in number_list:\n",
        "    output += str(i)\n",
        "\n",
        "  print(output)\n",
        "\n",
        "\n",
        "separate_sort(\"b4a1d3\")\n",
        "\n",
        "\n",
        "\n",
        "\n",
        "\n",
        "\n",
        "\n"
      ],
      "metadata": {
        "colab": {
          "base_uri": "https://localhost:8080/"
        },
        "id": "9zXneG28CEtV",
        "outputId": "20b4bdf3-92bd-48d5-d1c1-dfd1aa57541d"
      },
      "execution_count": 5,
      "outputs": [
        {
          "output_type": "stream",
          "name": "stdout",
          "text": [
            "abd134\n"
          ]
        }
      ]
    },
    {
      "cell_type": "code",
      "source": [
        "# Types of Inheritance:\n",
        "\n",
        "# Multiple Inheritance\n",
        "# Hybrid inheritance\n",
        "\n",
        "\n",
        "# Multiple Inheritance\n",
        "\n",
        "\n",
        "# Base Class   # Base Class\n",
        "#     |              |\n",
        "\n",
        "#       Child Class"
      ],
      "metadata": {
        "id": "GkT7avt0Dgsg"
      },
      "execution_count": 7,
      "outputs": []
    },
    {
      "cell_type": "code",
      "source": [
        "class P1:\n",
        "  def m1(self):\n",
        "    print(\"Inside Parent 1 Method\")\n",
        "\n",
        "class P2:\n",
        "  def m1(self):\n",
        "    print(\"Inside Parent 2 Method\")\n",
        "\n",
        "\n",
        "class C(P1,P2):\n",
        "  def m3(self):\n",
        "    print(\"Inside Child Method\")\n",
        "\n"
      ],
      "metadata": {
        "id": "xPXA0X1BFwVN"
      },
      "execution_count": 8,
      "outputs": []
    },
    {
      "cell_type": "code",
      "source": [
        "c1 = C()\n",
        "c1.m3()\n",
        "c1.m1()\n",
        "\n",
        "# MRO - Method Resolution Order - Which determines what method to run based on the inheritance order"
      ],
      "metadata": {
        "colab": {
          "base_uri": "https://localhost:8080/"
        },
        "id": "YUp7seRFGObY",
        "outputId": "509b003e-e9da-4949-9248-a1e13c5f4077"
      },
      "execution_count": 11,
      "outputs": [
        {
          "output_type": "stream",
          "name": "stdout",
          "text": [
            "Inside Chile Method\n",
            "Inside Parent 1 Method\n"
          ]
        }
      ]
    },
    {
      "cell_type": "code",
      "source": [
        "class P1:\n",
        "  def m1(self):\n",
        "    print(\"Inside Parent 1 Method\")\n",
        "\n",
        "class P2:\n",
        "  def m1(self):\n",
        "    print(\"Inside Parent 2 Method\")\n",
        "\n",
        "\n",
        "class C(P2,P1):\n",
        "  def m3(self):\n",
        "    print(\"Inside Child Method\")\n",
        "\n"
      ],
      "metadata": {
        "id": "AM53b2jQGTOw"
      },
      "execution_count": 12,
      "outputs": []
    },
    {
      "cell_type": "code",
      "source": [
        "c2 = C()\n",
        "c2.m1()"
      ],
      "metadata": {
        "colab": {
          "base_uri": "https://localhost:8080/"
        },
        "id": "Q4QNEPoAHVbE",
        "outputId": "052aa279-dd71-4e11-b9f5-927024329f20"
      },
      "execution_count": 13,
      "outputs": [
        {
          "output_type": "stream",
          "name": "stdout",
          "text": [
            "Inside Parent 2 Method\n"
          ]
        }
      ]
    },
    {
      "cell_type": "code",
      "source": [
        "# 2 Example\n",
        "\n",
        "class Dog:\n",
        "  def eat(self):\n",
        "    print(\"Dog is eating\")\n",
        "\n",
        "class Cat:\n",
        "  def eat(self):\n",
        "    print(\"Cat is eating\")\n",
        "\n",
        "\n",
        "class Animal(Dog,Cat):\n",
        "  def eat(self):\n",
        "    print(\"Animal is eating\")\n",
        "\n",
        "\n",
        "a1 = Animal()\n",
        "a1.eat()"
      ],
      "metadata": {
        "colab": {
          "base_uri": "https://localhost:8080/"
        },
        "id": "6D9oMIoFHYOZ",
        "outputId": "0c4fd2d3-3b38-405d-ff5b-25369fc74e19"
      },
      "execution_count": 14,
      "outputs": [
        {
          "output_type": "stream",
          "name": "stdout",
          "text": [
            "Animal is eating\n"
          ]
        }
      ]
    },
    {
      "cell_type": "code",
      "source": [
        "# 2 Example\n",
        "\n",
        "class Dog:\n",
        "  def eat(self):\n",
        "    print(\"Dog is eating\")\n",
        "\n",
        "class Cat:\n",
        "  def eat(self):\n",
        "    print(\"Cat is eating\")\n",
        "\n",
        "\n",
        "class Animal(Dog,Cat):\n",
        "  pass\n",
        "\n",
        "a1 = Animal()\n",
        "a1.eat()"
      ],
      "metadata": {
        "colab": {
          "base_uri": "https://localhost:8080/"
        },
        "id": "DcW-xDi8ITlM",
        "outputId": "101d33ec-64d0-4b71-a95a-f082a2702323"
      },
      "execution_count": 17,
      "outputs": [
        {
          "output_type": "stream",
          "name": "stdout",
          "text": [
            "Dog is eating\n"
          ]
        }
      ]
    },
    {
      "cell_type": "code",
      "source": [
        "# Hybrid Inheritance - Mixed of all the inheritance types \n",
        "\n",
        "# In this example we have Multi level and Multiple inheritance\n",
        "\n",
        "\n",
        "class D:\n",
        "  pass\n",
        "\n",
        "class E:\n",
        "  pass\n",
        "\n",
        "class F:\n",
        "  pass\n",
        "\n",
        "class B(D,E):\n",
        "  pass\n",
        "\n",
        "class C(D,F):\n",
        "  pass\n",
        "\n",
        "class A(B,C):\n",
        "  pass\n",
        "\n",
        "\n",
        "\n",
        "print(A.mro())"
      ],
      "metadata": {
        "colab": {
          "base_uri": "https://localhost:8080/"
        },
        "id": "N-7d4t9MIi6e",
        "outputId": "e842dfca-b39b-4ab8-c1fc-ddfce8aed892"
      },
      "execution_count": 18,
      "outputs": [
        {
          "output_type": "stream",
          "name": "stdout",
          "text": [
            "[<class '__main__.A'>, <class '__main__.B'>, <class '__main__.C'>, <class '__main__.D'>, <class '__main__.E'>, <class '__main__.F'>, <class 'object'>]\n"
          ]
        }
      ]
    },
    {
      "cell_type": "code",
      "source": [
        "# super ()\n",
        "\n",
        "# super method is used to call the parent class method, constructor, variables from the child class\n",
        "\n",
        "\n"
      ],
      "metadata": {
        "id": "Kd6RbfoBKCDE"
      },
      "execution_count": 19,
      "outputs": []
    },
    {
      "cell_type": "code",
      "source": [
        "#Super method Example\n",
        "\n",
        "class Dog:\n",
        "  def __init__(self):\n",
        "    self.a = 10\n",
        "\n",
        "  def eat(self):\n",
        "    print(\"Dog is eating\")\n",
        "\n",
        "\n",
        "class Animal(Dog):\n",
        "  def eat(self):\n",
        "    print(super().eat())\n",
        "\n",
        "a1 = Animal()\n",
        "a1.eat()"
      ],
      "metadata": {
        "colab": {
          "base_uri": "https://localhost:8080/"
        },
        "id": "jW_LBa7VLEsl",
        "outputId": "683eaf49-c350-4acc-d745-2603712e3daa"
      },
      "execution_count": 30,
      "outputs": [
        {
          "output_type": "stream",
          "name": "stdout",
          "text": [
            "Dog is eating\n",
            "None\n"
          ]
        }
      ]
    },
    {
      "cell_type": "code",
      "source": [
        "# Method Overiding\n",
        "\n",
        "# Method overiding is determining the what function which is of same name should run at run time\n",
        "# So here in this example the objects are determining what function to run which is of same name\n",
        "\n",
        "class Duck:\n",
        "  def eat(self):\n",
        "    print(\"Duck is eating fish\")\n",
        "\n",
        "class Dog:\n",
        "  def eat(self):\n",
        "    print(\"Dog is eating meat\")\n",
        "\n",
        "class Cat:\n",
        "  def eat(self):\n",
        "    print(\"Cat is eating cat food\")\n",
        "\n",
        "class Goat:\n",
        "  def eat(self):\n",
        "    print(\"Goat is eating grass\")\n",
        "\n",
        "\n",
        "def f1(obj):\n",
        "  obj.eat()\n",
        "\n",
        "l = [Duck(), Dog(), Cat(), Goat()]\n",
        "\n",
        "for obj in l:\n",
        "  f1(obj)\n"
      ],
      "metadata": {
        "colab": {
          "base_uri": "https://localhost:8080/"
        },
        "id": "TvxUQTgxLNBS",
        "outputId": "945faca1-2eb1-4592-be29-851b19e21a4f"
      },
      "execution_count": 31,
      "outputs": [
        {
          "output_type": "stream",
          "name": "stdout",
          "text": [
            "Duck is eating fish\n",
            "Dog is eating meat\n",
            "Cat is eating cat food\n",
            "Goat is eating grass\n"
          ]
        }
      ]
    },
    {
      "cell_type": "code",
      "source": [
        "# Method Overiding\n",
        "\n",
        "# Method overiding is determining the what function which is of same name should run at run time\n",
        "# So here in this example the objects are determining what function to run which is of same name\n",
        "\n",
        "class Duck:\n",
        "  def eat(self):\n",
        "    print(\"Duck is eating fish\")\n",
        "\n",
        "class Dog:\n",
        "  def eat(self):\n",
        "    print(\"Dog is eating meat\")\n",
        "\n",
        "class Cat:\n",
        "  def eat(self):\n",
        "    print(\"Cat is eating cat food\")\n",
        "\n",
        "class Goat:\n",
        "  def eat(self):\n",
        "    print(\"Goat is eating grass\")\n",
        "\n",
        "\n",
        "duck = Duck()\n",
        "duck.eat()\n",
        "\n",
        "dog = Dog()\n",
        "dog.eat()"
      ],
      "metadata": {
        "colab": {
          "base_uri": "https://localhost:8080/"
        },
        "id": "wvQEvqm8QJCE",
        "outputId": "8e8077b9-6e9d-4538-f5ef-9f20c3080ea4"
      },
      "execution_count": 33,
      "outputs": [
        {
          "output_type": "stream",
          "name": "stdout",
          "text": [
            "Duck is eating fish\n",
            "Dog is eating meat\n"
          ]
        }
      ]
    },
    {
      "cell_type": "code",
      "source": [
        "# Method Overloading\n",
        "\n",
        "class Test:\n",
        "  def m1(self):\n",
        "    print(\"Zero argument method\")\n",
        "\n",
        "  def m1(self, a):\n",
        "    print(\"1 Argument method\")\n",
        "\n",
        "  def m1(self, a, b):\n",
        "    print(\"2 Argument method\")\n",
        "\n",
        "\n",
        "t = Test()\n",
        "t.m1(10, 10)\n",
        "\n",
        "\n"
      ],
      "metadata": {
        "colab": {
          "base_uri": "https://localhost:8080/"
        },
        "id": "xm20TVbwQ_GD",
        "outputId": "77a4adae-5038-4eb1-c780-bdb3b930174a"
      },
      "execution_count": 38,
      "outputs": [
        {
          "output_type": "stream",
          "name": "stdout",
          "text": [
            "2 Argument method\n"
          ]
        }
      ]
    },
    {
      "cell_type": "code",
      "source": [
        "# Method Overloading\n",
        "\n",
        "class Test:\n",
        "  def m1(self, a=None, b=None):\n",
        "    if a != None and b != None:\n",
        "      print(\"2 argument if condition\")\n",
        "\n",
        "    elif a != None or b != None:\n",
        "      print(\"1 arguement if condition\")\n",
        "\n",
        "    else:\n",
        "      print(\"zero argument if condition\")\n",
        "\n",
        "\n",
        "\n",
        "\n"
      ],
      "metadata": {
        "id": "2JMxebesR_pA"
      },
      "execution_count": 39,
      "outputs": []
    },
    {
      "cell_type": "code",
      "source": [
        "t = Test()\n",
        "t.m1(10, 10)"
      ],
      "metadata": {
        "colab": {
          "base_uri": "https://localhost:8080/"
        },
        "id": "8zak1OtGTR_L",
        "outputId": "528e4ca4-b02f-4f10-fee0-f9e1f16e983b"
      },
      "execution_count": 42,
      "outputs": [
        {
          "output_type": "stream",
          "name": "stdout",
          "text": [
            "2 argument if condition\n"
          ]
        }
      ]
    },
    {
      "cell_type": "code",
      "source": [],
      "metadata": {
        "id": "ytmkfUTlTVWq"
      },
      "execution_count": 45,
      "outputs": []
    },
    {
      "cell_type": "code",
      "source": [],
      "metadata": {
        "id": "EJ0M6vv5U7pA"
      },
      "execution_count": 45,
      "outputs": []
    },
    {
      "cell_type": "code",
      "source": [],
      "metadata": {
        "id": "pBnYaeuPVHa0"
      },
      "execution_count": null,
      "outputs": []
    }
  ]
}
