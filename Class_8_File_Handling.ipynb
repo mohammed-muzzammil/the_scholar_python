{
  "nbformat": 4,
  "nbformat_minor": 0,
  "metadata": {
    "colab": {
      "provenance": []
    },
    "kernelspec": {
      "name": "python3",
      "display_name": "Python 3"
    },
    "language_info": {
      "name": "python"
    }
  },
  "cells": [
    {
      "cell_type": "code",
      "execution_count": 11,
      "metadata": {
        "id": "c9_refdewn1U"
      },
      "outputs": [],
      "source": [
        "# There are 2 options for storing the data\n",
        "\n",
        "# File System - When the data is very less the best option if file system\n",
        "# DataBase - When the data is huge then we use DataBase"
      ]
    },
    {
      "cell_type": "code",
      "source": [
        "# Types of files\n",
        "\n",
        "# Text File - Log File, Program File.\n",
        "# Binary File - Image or Video "
      ],
      "metadata": {
        "id": "fzNevoyLwq62"
      },
      "execution_count": 9,
      "outputs": []
    },
    {
      "cell_type": "code",
      "source": [
        "# To perform any operation on file\n",
        "# Open a file by specifying the name of the file and you have to specify why you are opening the file."
      ],
      "metadata": {
        "id": "tPqougzMw-yA"
      },
      "execution_count": 9,
      "outputs": []
    },
    {
      "cell_type": "code",
      "source": [
        "# open()"
      ],
      "metadata": {
        "id": "Jtk5DzFRxDNJ"
      },
      "execution_count": 9,
      "outputs": []
    },
    {
      "cell_type": "code",
      "source": [
        "f = open(\"sample_file.txt\", \"w\")"
      ],
      "metadata": {
        "id": "a_yWpjjtxVul"
      },
      "execution_count": 12,
      "outputs": []
    },
    {
      "cell_type": "code",
      "source": [
        "f.write(\"Hello this is a sample file \\n This is a new line\")\n",
        "f.close()"
      ],
      "metadata": {
        "id": "JqwYjzTnxYc3"
      },
      "execution_count": 13,
      "outputs": []
    },
    {
      "cell_type": "code",
      "source": [
        "!ls"
      ],
      "metadata": {
        "colab": {
          "base_uri": "https://localhost:8080/"
        },
        "id": "fk7NzKYCxhS6",
        "outputId": "5a04410e-41ad-4507-ff52-23ac49befca6"
      },
      "execution_count": 15,
      "outputs": [
        {
          "output_type": "stream",
          "name": "stdout",
          "text": [
            "paresh.txt  sample_data  sample_file.txt\n"
          ]
        }
      ]
    },
    {
      "cell_type": "code",
      "source": [
        "f = open(\"sample_file_2.txt\", \"w\")"
      ],
      "metadata": {
        "id": "BJDKlpeL5JPV"
      },
      "execution_count": 16,
      "outputs": []
    },
    {
      "cell_type": "code",
      "source": [
        "!ls"
      ],
      "metadata": {
        "colab": {
          "base_uri": "https://localhost:8080/"
        },
        "id": "EsjeLA3S5-kd",
        "outputId": "9c5dc450-92fa-4497-8317-4cf6534570e5"
      },
      "execution_count": 17,
      "outputs": [
        {
          "output_type": "stream",
          "name": "stdout",
          "text": [
            "paresh.txt  sample_data  sample_file_2.txt  sample_file.txt\n"
          ]
        }
      ]
    },
    {
      "cell_type": "code",
      "source": [
        "# write mode - \"w\" - Open a file and it will write something to it, if the file is not present it will create the file and then write the data,\n",
        "# if you have some previous data it will overwrite it.\n",
        "\n"
      ],
      "metadata": {
        "id": "3ZKm7OLW5_3N"
      },
      "execution_count": 18,
      "outputs": []
    },
    {
      "cell_type": "code",
      "source": [
        "f = open(\"sample_file.txt\", \"w\")\n",
        "f.write(\"Hello this is a sample file \\n This is a new line\")\n",
        "f.write(\"/n This is again a new line\")\n",
        "f.close()\n",
        "\n",
        "\n"
      ],
      "metadata": {
        "id": "vio__jzA6kaM"
      },
      "execution_count": 19,
      "outputs": []
    },
    {
      "cell_type": "code",
      "source": [
        "!ls\n"
      ],
      "metadata": {
        "colab": {
          "base_uri": "https://localhost:8080/"
        },
        "id": "mPAnqZGt6yC-",
        "outputId": "b30592fb-1ec2-4c6e-8f80-07699bbc8fb6"
      },
      "execution_count": 20,
      "outputs": [
        {
          "output_type": "stream",
          "name": "stdout",
          "text": [
            "paresh.txt  sample_data  sample_file_2.txt  sample_file.txt\n"
          ]
        }
      ]
    },
    {
      "cell_type": "code",
      "source": [
        "# To get the current working directory\n",
        "import os\n",
        "os.getcwd()"
      ],
      "metadata": {
        "colab": {
          "base_uri": "https://localhost:8080/",
          "height": 35
        },
        "id": "GgP_JF8R6zPl",
        "outputId": "4bc21730-f948-49cb-c7d5-4426dc5deb14"
      },
      "execution_count": 22,
      "outputs": [
        {
          "output_type": "execute_result",
          "data": {
            "text/plain": [
              "'/content'"
            ],
            "application/vnd.google.colaboratory.intrinsic+json": {
              "type": "string"
            }
          },
          "metadata": {},
          "execution_count": 22
        }
      ]
    },
    {
      "cell_type": "code",
      "source": [
        "# Writelines \n",
        "\n",
        "text_list = [\"This is line 1 \\n\", \"This is line 2 \\n\", \"This is line 3\"]\n",
        "\n",
        "f = open(\"sample_file.txt\", \"w\")\n",
        "f.writelines(text_list)\n",
        "\n",
        "f.close()"
      ],
      "metadata": {
        "id": "jM5Mm8Ys69Pg"
      },
      "execution_count": 41,
      "outputs": []
    },
    {
      "cell_type": "code",
      "source": [
        "# using for loop\n",
        "\n",
        "text_list = [\"This is line 1\", \"This is line 2\", \"This is line 3\"]\n",
        "\n",
        "f = open(\"sample_file.txt\", \"w\")\n",
        "for i in text_list:\n",
        "  f.write(i)\n",
        "\n",
        "f.close()"
      ],
      "metadata": {
        "id": "g2E_4S4g7wEk"
      },
      "execution_count": 24,
      "outputs": []
    },
    {
      "cell_type": "code",
      "source": [
        "# Read mode - \"r\"  - open an existing file - default mode."
      ],
      "metadata": {
        "id": "N1b0rTFY76aM"
      },
      "execution_count": 25,
      "outputs": []
    },
    {
      "cell_type": "code",
      "source": [
        "f = open(\"sample_file.txt\", \"r\")\n",
        "data = f.read()\n",
        "print(data)"
      ],
      "metadata": {
        "colab": {
          "base_uri": "https://localhost:8080/"
        },
        "id": "uAMIKaVz8hqy",
        "outputId": "26a1ae08-18ce-4ecf-a5a0-bcf4e6352c73"
      },
      "execution_count": 28,
      "outputs": [
        {
          "output_type": "stream",
          "name": "stdout",
          "text": [
            "This is line 1 \n",
            "This is line 2 \n",
            "This is line 3\n"
          ]
        }
      ]
    },
    {
      "cell_type": "code",
      "source": [
        "f = open(\"sample_file.txt\", \"r\")\n",
        "data = f.read(30)\n",
        "print(data)"
      ],
      "metadata": {
        "colab": {
          "base_uri": "https://localhost:8080/"
        },
        "id": "qVrGcCsu8uHJ",
        "outputId": "bb2c3f04-154e-46ed-de2c-b81aa622a7d5"
      },
      "execution_count": 29,
      "outputs": [
        {
          "output_type": "stream",
          "name": "stdout",
          "text": [
            "This is line 1 \n",
            "This is line 2\n"
          ]
        }
      ]
    },
    {
      "cell_type": "code",
      "source": [
        "f = open(\"sample_file.txt\", \"r\")\n",
        "data = f.readline(100)\n",
        "print(data)"
      ],
      "metadata": {
        "colab": {
          "base_uri": "https://localhost:8080/"
        },
        "id": "XLecJlH69AMn",
        "outputId": "58f72b21-39c9-447d-fee4-0806b58faa3e"
      },
      "execution_count": 32,
      "outputs": [
        {
          "output_type": "stream",
          "name": "stdout",
          "text": [
            "This is line 1 \n",
            "\n"
          ]
        }
      ]
    },
    {
      "cell_type": "code",
      "source": [
        "f = open(\"sample_file.txt\")"
      ],
      "metadata": {
        "id": "2_jzAbHP9JRA"
      },
      "execution_count": 34,
      "outputs": []
    },
    {
      "cell_type": "code",
      "source": [
        "print(f.read())"
      ],
      "metadata": {
        "colab": {
          "base_uri": "https://localhost:8080/"
        },
        "id": "YBIltV5d9eJn",
        "outputId": "841dd9f5-cff0-4163-a485-145a2dbd176a"
      },
      "execution_count": 35,
      "outputs": [
        {
          "output_type": "stream",
          "name": "stdout",
          "text": [
            "This is line 1 \n",
            "This is line 2 \n",
            "This is line 3\n"
          ]
        }
      ]
    },
    {
      "cell_type": "code",
      "source": [
        "# Append mode (a) - Append mode will append the new data afer the previous data, so the data is not lost, if the file is not present it will create one."
      ],
      "metadata": {
        "id": "q4d4Gusp9pmK"
      },
      "execution_count": 36,
      "outputs": []
    },
    {
      "cell_type": "code",
      "source": [
        "f = open(\"sample_file.txt\", \"a\")\n",
        "f.write(\"\\n This is line 4\")\n",
        "f.close()"
      ],
      "metadata": {
        "id": "jvh_lJ5T-KhS"
      },
      "execution_count": 42,
      "outputs": []
    },
    {
      "cell_type": "code",
      "source": [
        "f = open(\"sample_file.txt\", \"r\")\n",
        "print(f.read())"
      ],
      "metadata": {
        "colab": {
          "base_uri": "https://localhost:8080/"
        },
        "id": "HdYtMlzF-W3t",
        "outputId": "bd672660-d5d6-422c-db87-868d54af755f"
      },
      "execution_count": 43,
      "outputs": [
        {
          "output_type": "stream",
          "name": "stdout",
          "text": [
            "This is line 1 \n",
            "This is line 2 \n",
            "This is line 3\n",
            " This is line 4\n"
          ]
        }
      ]
    },
    {
      "cell_type": "code",
      "source": [
        "# Read and write data (r+) - Read and write the data, previous data will not be deleted, file pointer will start at the start of file, the file have to exist."
      ],
      "metadata": {
        "id": "G8uv0lHm-eG_"
      },
      "execution_count": 44,
      "outputs": []
    },
    {
      "cell_type": "code",
      "source": [
        "f = open(\"sample_file.txt\", \"r+\")\n",
        "print(f.read())\n",
        "\n",
        "f.write(\"\\nThis is line 5\")\n",
        "f.close()"
      ],
      "metadata": {
        "colab": {
          "base_uri": "https://localhost:8080/"
        },
        "id": "NVvsUV_N_M70",
        "outputId": "9dfb7e95-eeec-4655-d4cd-e372abb420d2"
      },
      "execution_count": 49,
      "outputs": [
        {
          "output_type": "stream",
          "name": "stdout",
          "text": [
            "This is line 1 \n",
            "This is line 2 \n",
            "This is line 3\n",
            " This is line 4\n",
            "This is line 5\n"
          ]
        }
      ]
    },
    {
      "cell_type": "code",
      "source": [
        "# Various properties of file\n",
        "\n",
        "f = open(\"sample_file.txt\", \"r\")\n",
        "print(\"File name \", f.name)\n",
        "print(\"File Mode \", f.mode)\n",
        "print(\"Readable ? \", f.readable())\n",
        "print(\"Writable ? \", f.writable())\n",
        "print(\"Is file Closed ? \", f.closed)\n",
        "f.close()\n",
        "print(\"Is file Closed ? \", f.closed)"
      ],
      "metadata": {
        "colab": {
          "base_uri": "https://localhost:8080/"
        },
        "id": "ZgZFJkpK_ZmB",
        "outputId": "45294aa7-9de6-49b1-a8c6-66927c64c1a1"
      },
      "execution_count": 52,
      "outputs": [
        {
          "output_type": "stream",
          "name": "stdout",
          "text": [
            "File name  sample_file.txt\n",
            "File Mode  r\n",
            "Readable ?  True\n",
            "Writable ?  False\n",
            "Is file Closed ?  False\n",
            "Is file Closed ?  True\n"
          ]
        }
      ]
    },
    {
      "cell_type": "code",
      "source": [
        "# \"w+\" - Write and read - Previous data will be deleted"
      ],
      "metadata": {
        "id": "eLGfLkQhAwFG"
      },
      "execution_count": 53,
      "outputs": []
    },
    {
      "cell_type": "code",
      "source": [
        "f = open(\"sample_file_5.txt\", \"w+\")\n",
        "f.write(\"This is sample file 5\")\n",
        "data = f.read()\n",
        "\n",
        "# Not able to read from the file in w+\n"
      ],
      "metadata": {
        "id": "J6zMOm04BflV"
      },
      "execution_count": 59,
      "outputs": []
    },
    {
      "cell_type": "code",
      "source": [
        "# \"a+ \" - Append and read - it will not overwrite the previous data"
      ],
      "metadata": {
        "id": "3wJH2oi2B_Kj"
      },
      "execution_count": 60,
      "outputs": []
    },
    {
      "cell_type": "code",
      "source": [
        "f = open(\"sample_file.txt\", \"a+\")\n",
        "f.write(\"\\n This is line 6\")\n",
        "f.close()"
      ],
      "metadata": {
        "id": "HJZh74-lCahf"
      },
      "execution_count": 62,
      "outputs": []
    },
    {
      "cell_type": "code",
      "source": [
        "f = open(\"sample_file.txt\", \"r\")\n",
        "print(f.read())"
      ],
      "metadata": {
        "colab": {
          "base_uri": "https://localhost:8080/"
        },
        "id": "krGcnFW4CrN8",
        "outputId": "c9b87194-bf48-4dc8-e756-622cb04dae0a"
      },
      "execution_count": 63,
      "outputs": [
        {
          "output_type": "stream",
          "name": "stdout",
          "text": [
            "This is line 1 \n",
            "This is line 2 \n",
            "This is line 3\n",
            " This is line 4\n",
            "This is line 5\n",
            "This is line 5\n",
            " This is line 6\n"
          ]
        }
      ]
    },
    {
      "cell_type": "code",
      "source": [
        "# With satement\n",
        "  # with statement can be used to open a file\n",
        "  # it will take care of closing the file"
      ],
      "metadata": {
        "id": "7fH-sMeLC1zG"
      },
      "execution_count": 64,
      "outputs": []
    },
    {
      "cell_type": "code",
      "source": [
        "with open(\"sample_file.txt\", \"r\") as f:\n",
        "  print(f.read())\n",
        "  print(f.closed)\n",
        "\n",
        "\n",
        "\n",
        "print(f.closed)\n"
      ],
      "metadata": {
        "colab": {
          "base_uri": "https://localhost:8080/"
        },
        "id": "weObgdO9DyMi",
        "outputId": "a716a34a-9621-4b8c-9405-8e4a762df1b2"
      },
      "execution_count": 65,
      "outputs": [
        {
          "output_type": "stream",
          "name": "stdout",
          "text": [
            "This is line 1 \n",
            "This is line 2 \n",
            "This is line 3\n",
            " This is line 4\n",
            "This is line 5\n",
            "This is line 5\n",
            " This is line 6\n",
            "False\n",
            "True\n"
          ]
        }
      ]
    },
    {
      "cell_type": "code",
      "source": [
        "# tell() - it will give you the current position of the cursor / pointer\n",
        "\n",
        "f = open(\"tell.txt\", \"w\")\n",
        "print(f.tell())\n",
        "\n",
        "f.write(\"12345\")\n",
        "print(f.tell())\n",
        "f.write(\"67\")\n",
        "print(f.tell())\n",
        "\n",
        "f.close"
      ],
      "metadata": {
        "colab": {
          "base_uri": "https://localhost:8080/"
        },
        "id": "WuHQ9i_UEKFm",
        "outputId": "5822b611-1a43-4785-dd90-7c14a798188d"
      },
      "execution_count": 67,
      "outputs": [
        {
          "output_type": "stream",
          "name": "stdout",
          "text": [
            "0\n",
            "5\n",
            "7\n"
          ]
        },
        {
          "output_type": "execute_result",
          "data": {
            "text/plain": [
              "<function TextIOWrapper.close()>"
            ]
          },
          "metadata": {},
          "execution_count": 67
        }
      ]
    },
    {
      "cell_type": "code",
      "source": [
        "# seek () - \n",
        "# Takes you to the cursor position you define\n",
        "\n",
        "#f.seek(offset, fromwhere)\n",
        "# offset -  the position you want to go \n",
        "# fromwhere - from which position you want to go\n",
        "\n",
        "# 0 - from the begining of the file (default)\n",
        "# 1 - from the current position\n",
        "# 2 - from the end of the file\n"
      ],
      "metadata": {
        "id": "iB-D51FFEwaU"
      },
      "execution_count": 68,
      "outputs": []
    },
    {
      "cell_type": "code",
      "source": [
        "f = open(\"tell.txt\", \"w\")\n",
        "print(f.tell())\n",
        "\n",
        "f.write(\"12345\")\n",
        "f.write(\"67890\")\n",
        "print(f.tell())\n",
        "\n",
        "f.seek(-2, 1)\n",
        "\n",
        "print(f.tell())\n",
        "\n",
        "f.close()\n",
        "\n",
        "# Check why it is not working."
      ],
      "metadata": {
        "colab": {
          "base_uri": "https://localhost:8080/",
          "height": 270
        },
        "id": "knbZHrdgF78L",
        "outputId": "faabe272-fa12-42fe-8685-51538daa5209"
      },
      "execution_count": 78,
      "outputs": [
        {
          "output_type": "stream",
          "name": "stdout",
          "text": [
            "0\n",
            "10\n"
          ]
        },
        {
          "output_type": "error",
          "ename": "UnsupportedOperation",
          "evalue": "ignored",
          "traceback": [
            "\u001b[0;31m---------------------------------------------------------------------------\u001b[0m",
            "\u001b[0;31mUnsupportedOperation\u001b[0m                      Traceback (most recent call last)",
            "\u001b[0;32m<ipython-input-78-f526213d6bcd>\u001b[0m in \u001b[0;36m<module>\u001b[0;34m\u001b[0m\n\u001b[1;32m      6\u001b[0m \u001b[0mprint\u001b[0m\u001b[0;34m(\u001b[0m\u001b[0mf\u001b[0m\u001b[0;34m.\u001b[0m\u001b[0mtell\u001b[0m\u001b[0;34m(\u001b[0m\u001b[0;34m)\u001b[0m\u001b[0;34m)\u001b[0m\u001b[0;34m\u001b[0m\u001b[0;34m\u001b[0m\u001b[0m\n\u001b[1;32m      7\u001b[0m \u001b[0;34m\u001b[0m\u001b[0m\n\u001b[0;32m----> 8\u001b[0;31m \u001b[0mf\u001b[0m\u001b[0;34m.\u001b[0m\u001b[0mseek\u001b[0m\u001b[0;34m(\u001b[0m\u001b[0;34m-\u001b[0m\u001b[0;36m2\u001b[0m\u001b[0;34m,\u001b[0m \u001b[0;36m1\u001b[0m\u001b[0;34m)\u001b[0m\u001b[0;34m\u001b[0m\u001b[0;34m\u001b[0m\u001b[0m\n\u001b[0m\u001b[1;32m      9\u001b[0m \u001b[0;34m\u001b[0m\u001b[0m\n\u001b[1;32m     10\u001b[0m \u001b[0mprint\u001b[0m\u001b[0;34m(\u001b[0m\u001b[0mf\u001b[0m\u001b[0;34m.\u001b[0m\u001b[0mtell\u001b[0m\u001b[0;34m(\u001b[0m\u001b[0;34m)\u001b[0m\u001b[0;34m)\u001b[0m\u001b[0;34m\u001b[0m\u001b[0;34m\u001b[0m\u001b[0m\n",
            "\u001b[0;31mUnsupportedOperation\u001b[0m: can't do nonzero cur-relative seeks"
          ]
        }
      ]
    },
    {
      "cell_type": "code",
      "source": [
        "# For binary file \n",
        "\n",
        "# rb - read binary\n",
        "# wb - write binary\n",
        "# ab - append binary\n",
        "# r+b - read, write binary\n",
        "# w+b - write, read binary\n",
        "# a+b -  append, read binary\n",
        "\n"
      ],
      "metadata": {
        "id": "cCNFgvqvGNWK"
      },
      "execution_count": 79,
      "outputs": []
    },
    {
      "cell_type": "code",
      "source": [
        "# CSV File \n",
        "\n",
        "import csv\n",
        "with open(\"employee.csv\", \"w\") as f:\n",
        "\n",
        "  # Defining the csv writer\n",
        "  w = csv.writer(f)\n",
        "\n",
        "  w.writerow(['ENO', \"ENAME\", \"ESAL\"])\n",
        "\n",
        "  w.writerow([10, \"Muzzammil\", 200])\n",
        "  w.writerow([20, \"ABC\", 300])\n",
        "\n",
        "\n",
        "\n",
        "\n",
        "\n"
      ],
      "metadata": {
        "id": "KgAVE4YrIGSC"
      },
      "execution_count": 80,
      "outputs": []
    },
    {
      "cell_type": "code",
      "source": [
        "# Read from csv file\n",
        "\n",
        "\n",
        "import csv\n",
        "with open(\"employee.csv\", \"r\") as f:\n",
        "\n",
        "  # Defining a csv reader\n",
        "  r = csv.reader(f)\n",
        "\n",
        "  for row in r:\n",
        "    print(row)\n",
        "\n",
        "  "
      ],
      "metadata": {
        "colab": {
          "base_uri": "https://localhost:8080/"
        },
        "id": "wYo5lHl6JrGX",
        "outputId": "874cc65f-6dd0-4240-e423-28b7aabf1013"
      },
      "execution_count": 82,
      "outputs": [
        {
          "output_type": "stream",
          "name": "stdout",
          "text": [
            "['ENO', 'ENAME', 'ESAL']\n",
            "['10', 'Muzzammil', '200']\n",
            "['20', 'ABC', '300']\n"
          ]
        }
      ]
    },
    {
      "cell_type": "code",
      "source": [],
      "metadata": {
        "id": "dv1101YqJs_w"
      },
      "execution_count": 84,
      "outputs": []
    },
    {
      "cell_type": "code",
      "source": [],
      "metadata": {
        "id": "ws_pOD_mLI-x"
      },
      "execution_count": null,
      "outputs": []
    }
  ]
}