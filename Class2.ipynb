{
  "nbformat": 4,
  "nbformat_minor": 0,
  "metadata": {
    "colab": {
      "name": "Class2.ipynb",
      "provenance": [],
      "collapsed_sections": []
    },
    "kernelspec": {
      "name": "python3",
      "display_name": "Python 3"
    },
    "language_info": {
      "name": "python"
    }
  },
  "cells": [
    {
      "cell_type": "code",
      "execution_count": 1,
      "metadata": {
        "id": "TwMpO5IXr1Ih"
      },
      "outputs": [],
      "source": [
        "# Operators\n",
        "\n",
        "# Operators are special symbol in python that carry out arithmatic or logical etc computation\n",
        "\n",
        "# Arithmatic operators\n",
        "\n",
        "# Addition - \"+\"\n",
        "# Substraction - \"-\"\n",
        "# Multiplication - \"*\"\n",
        "# Division - \"/\" \n",
        "# Modulo - \"%\"\n",
        "# Floor Division - \"//\"\n",
        "# Power or Exponent operator - \"**\"\n",
        "\n",
        "\n"
      ]
    },
    {
      "cell_type": "code",
      "source": [
        "# Addition\n",
        "\n",
        "# Int Data type\n",
        "#print(10+10)\n",
        "a = 10\n",
        "b = 10\n",
        "\n",
        "#print(a+b)\n",
        "\n",
        "# String Data Type\n",
        "\n",
        "s1 = \"ABC\"\n",
        "s2 = \"DEF\"\n",
        "#print(s1+s2)\n",
        "\n",
        "# Float Data type\n",
        "\n",
        "f1 = 10.01\n",
        "f2 = 10.02\n",
        "\n",
        "#print(f1+f2)\n",
        "\n",
        "# Boolean Data type\n",
        "\n",
        "b1 = True\n",
        "b2 = True\n",
        "\n",
        "print(b1+b2)\n",
        "\n",
        "b3 = False\n",
        "b4 = False\n",
        "\n",
        "print(b3+b1)\n",
        "\n",
        "d1 = 10\n",
        "d2 = \"muzz\"\n",
        "\n",
        "c = b1 + b2\n",
        "print(c)"
      ],
      "metadata": {
        "colab": {
          "base_uri": "https://localhost:8080/"
        },
        "id": "c0w58tVYs9Ko",
        "outputId": "618d9ec3-96b4-4923-a83b-d6ddd59147f5"
      },
      "execution_count": 13,
      "outputs": [
        {
          "output_type": "stream",
          "name": "stdout",
          "text": [
            "2\n",
            "1\n",
            "2\n"
          ]
        }
      ]
    },
    {
      "cell_type": "code",
      "source": [
        "# Substraction\n",
        "\n",
        "# Int Data type\n",
        "print(10-10)\n",
        "a = 10\n",
        "b = 10\n",
        "\n",
        "print(a-b)\n",
        "\n",
        "# String Data Type\n",
        "\n",
        "s1 = \"ABC\"\n",
        "s2 = \"DEF\"\n",
        "#print(s1-s2) - Not possible\n",
        "\n",
        "# Float Data type\n",
        "\n",
        "f1 = 10.01\n",
        "f2 = 10.02\n",
        "\n",
        "print(f1-f2)\n",
        "\n",
        "# Boolean Data type\n",
        "\n",
        "b1 = True\n",
        "b2 = True\n",
        "\n",
        "print(b1-b2)\n",
        "\n",
        "b3 = False\n",
        "b4 = False\n",
        "\n",
        "print(b3-b1)\n",
        "\n",
        "d1 = 10\n",
        "d2 = \"muzz\"\n",
        "\n",
        "#print(d1-d2)\n"
      ],
      "metadata": {
        "colab": {
          "base_uri": "https://localhost:8080/",
          "height": 270
        },
        "id": "DYFWi0CAtD-T",
        "outputId": "ee8669c0-4e39-4497-c18e-26c953c8d2e6"
      },
      "execution_count": 19,
      "outputs": [
        {
          "output_type": "stream",
          "name": "stdout",
          "text": [
            "0\n",
            "0\n"
          ]
        },
        {
          "output_type": "error",
          "ename": "TypeError",
          "evalue": "ignored",
          "traceback": [
            "\u001b[0;31m---------------------------------------------------------------------------\u001b[0m",
            "\u001b[0;31mTypeError\u001b[0m                                 Traceback (most recent call last)",
            "\u001b[0;32m<ipython-input-19-16787754ab2f>\u001b[0m in \u001b[0;36m<module>\u001b[0;34m\u001b[0m\n\u001b[1;32m     12\u001b[0m \u001b[0ms1\u001b[0m \u001b[0;34m=\u001b[0m \u001b[0;34m\"ABC\"\u001b[0m\u001b[0;34m\u001b[0m\u001b[0;34m\u001b[0m\u001b[0m\n\u001b[1;32m     13\u001b[0m \u001b[0ms2\u001b[0m \u001b[0;34m=\u001b[0m \u001b[0;34m\"DEF\"\u001b[0m\u001b[0;34m\u001b[0m\u001b[0;34m\u001b[0m\u001b[0m\n\u001b[0;32m---> 14\u001b[0;31m \u001b[0mprint\u001b[0m\u001b[0;34m(\u001b[0m\u001b[0ms1\u001b[0m\u001b[0;34m-\u001b[0m\u001b[0ms2\u001b[0m\u001b[0;34m)\u001b[0m\u001b[0;34m\u001b[0m\u001b[0;34m\u001b[0m\u001b[0m\n\u001b[0m\u001b[1;32m     15\u001b[0m \u001b[0;34m\u001b[0m\u001b[0m\n\u001b[1;32m     16\u001b[0m \u001b[0;31m# Float Data type\u001b[0m\u001b[0;34m\u001b[0m\u001b[0;34m\u001b[0m\u001b[0;34m\u001b[0m\u001b[0m\n",
            "\u001b[0;31mTypeError\u001b[0m: unsupported operand type(s) for -: 'str' and 'str'"
          ]
        }
      ]
    },
    {
      "cell_type": "code",
      "source": [
        "# Multiplication\n",
        "\n",
        "# Int Data type\n",
        "print(10*10)\n",
        "a = 10\n",
        "b = 10\n",
        "\n",
        "print(a*b)\n",
        "\n",
        "# String Data Type\n",
        "\n",
        "s1 = \"ABC\"\n",
        "s2 = \"DEF\"\n",
        "#print(s1-s2) - Not possible\n",
        "\n",
        "# Float Data type\n",
        "\n",
        "f1 = 10.01\n",
        "f2 = 10.02\n",
        "\n",
        "print(f1*a)\n",
        "\n",
        "# Boolean Data type\n",
        "\n",
        "b1 = True\n",
        "b2 = True\n",
        "\n",
        "print(b1*b2)\n",
        "\n",
        "b3 = False\n",
        "b4 = False\n",
        "\n",
        "#print(b3-b1)\n",
        "\n",
        "d1 = 10\n",
        "d2 = \"muzz\"\n",
        "\n",
        "print(d1*d2)"
      ],
      "metadata": {
        "colab": {
          "base_uri": "https://localhost:8080/"
        },
        "id": "TH-m8Gpvvmmq",
        "outputId": "7012684f-b39b-4c05-dab2-4b3010779262"
      },
      "execution_count": 26,
      "outputs": [
        {
          "output_type": "stream",
          "name": "stdout",
          "text": [
            "100\n",
            "100\n",
            "100.1\n",
            "1\n",
            "muzzmuzzmuzzmuzzmuzzmuzzmuzzmuzzmuzzmuzz\n"
          ]
        }
      ]
    },
    {
      "cell_type": "code",
      "source": [
        "# Division - output will be in float always\n",
        "\n",
        "# Int Data type\n",
        "print(10/10)\n",
        "a = 10\n",
        "b = 10\n",
        "\n",
        "print(a/b)\n",
        "\n",
        "# String Data Type\n",
        "\n",
        "s1 = \"ABC\"\n",
        "s2 = \"DEF\"\n",
        "#print(s1/s2) - not possible\n",
        "\n",
        "# Float Data type\n",
        "\n",
        "f1 = 10.01\n",
        "f2 = 10.02\n",
        "\n",
        "print(f1/f2)\n",
        "\n",
        "# Boolean Data type\n",
        "\n",
        "b1 = True\n",
        "b2 = True\n",
        "\n",
        "print(b1/b2)\n",
        "\n",
        "b3 = False\n",
        "b4 = False\n",
        "\n",
        "#print(b3-b1)\n",
        "\n",
        "d1 = 10\n",
        "d2 = \"muzz\"\n",
        "\n",
        "#print(d1/d2)\n",
        "\n",
        "print(10.01/10)"
      ],
      "metadata": {
        "colab": {
          "base_uri": "https://localhost:8080/"
        },
        "id": "uMJLKahVwSeM",
        "outputId": "7af12e0d-01b0-456e-d568-2c35aaeab91c"
      },
      "execution_count": 34,
      "outputs": [
        {
          "output_type": "stream",
          "name": "stdout",
          "text": [
            "1.0\n",
            "1.0\n",
            "0.999001996007984\n",
            "1.0\n",
            "1.001\n"
          ]
        }
      ]
    },
    {
      "cell_type": "code",
      "source": [
        "# Modulo or mod\n",
        "\n",
        "print(10.1%2)"
      ],
      "metadata": {
        "colab": {
          "base_uri": "https://localhost:8080/"
        },
        "id": "dFgJsP90xEfq",
        "outputId": "d2fd762e-0758-42c4-e97c-270cabc70f12"
      },
      "execution_count": 38,
      "outputs": [
        {
          "output_type": "stream",
          "name": "stdout",
          "text": [
            "0.09999999999999964\n"
          ]
        }
      ]
    },
    {
      "cell_type": "code",
      "source": [
        "# Floor Divison - Output will be in integer\n",
        "\n",
        "# Int Data type\n",
        "print(10//10)\n",
        "a = 10\n",
        "b = 10\n",
        "\n",
        "print(a//b)\n",
        "\n",
        "# String Data Type\n",
        "\n",
        "s1 = \"ABC\"\n",
        "s2 = \"DEF\"\n",
        "#print(s1/s2) - not possible\n",
        "\n",
        "# Float Data type\n",
        "\n",
        "f1 = 10.50\n",
        "f2 = 10.02\n",
        "\n",
        "print(f1//f2)\n",
        "\n",
        "# Boolean Data type\n",
        "\n",
        "b1 = True\n",
        "b2 = True\n",
        "\n",
        "#print(b1/b2)\n",
        "\n",
        "b3 = False\n",
        "b4 = False\n",
        "\n",
        "#print(b3-b1)\n",
        "\n",
        "d1 = 10\n",
        "d2 = \"muzz\"\n",
        "\n",
        "#print(d1//d2)\n",
        "\n",
        "#print(10.01/10)\n",
        "\n"
      ],
      "metadata": {
        "colab": {
          "base_uri": "https://localhost:8080/"
        },
        "id": "3kNfreHayUQw",
        "outputId": "1f6043a9-0503-4dc8-e04c-af8cfd156087"
      },
      "execution_count": 44,
      "outputs": [
        {
          "output_type": "stream",
          "name": "stdout",
          "text": [
            "1\n",
            "1\n",
            "1.0\n"
          ]
        }
      ]
    },
    {
      "cell_type": "code",
      "source": [
        "# Power or exponent operator\n",
        "\n",
        "a = 10\n",
        "b = 2\n",
        "print(10**4)\n",
        "\n",
        "s1 = \"muzz\"\n",
        "s2 = 10\n",
        "#print(s1)"
      ],
      "metadata": {
        "colab": {
          "base_uri": "https://localhost:8080/",
          "height": 218
        },
        "id": "zfkht-6By41Q",
        "outputId": "259c12f3-870b-4a3c-b217-9f270d60819a"
      },
      "execution_count": 48,
      "outputs": [
        {
          "output_type": "stream",
          "name": "stdout",
          "text": [
            "10000\n"
          ]
        },
        {
          "output_type": "error",
          "ename": "TypeError",
          "evalue": "ignored",
          "traceback": [
            "\u001b[0;31m---------------------------------------------------------------------------\u001b[0m",
            "\u001b[0;31mTypeError\u001b[0m                                 Traceback (most recent call last)",
            "\u001b[0;32m<ipython-input-48-606f723c0d8f>\u001b[0m in \u001b[0;36m<module>\u001b[0;34m\u001b[0m\n\u001b[1;32m      7\u001b[0m \u001b[0ms1\u001b[0m \u001b[0;34m=\u001b[0m \u001b[0;34m\"muzz\"\u001b[0m\u001b[0;34m\u001b[0m\u001b[0;34m\u001b[0m\u001b[0m\n\u001b[1;32m      8\u001b[0m \u001b[0ms2\u001b[0m \u001b[0;34m=\u001b[0m \u001b[0;36m10\u001b[0m\u001b[0;34m\u001b[0m\u001b[0;34m\u001b[0m\u001b[0m\n\u001b[0;32m----> 9\u001b[0;31m \u001b[0mprint\u001b[0m\u001b[0;34m(\u001b[0m\u001b[0ms1\u001b[0m\u001b[0;34m**\u001b[0m\u001b[0ms2\u001b[0m\u001b[0;34m)\u001b[0m\u001b[0;34m\u001b[0m\u001b[0;34m\u001b[0m\u001b[0m\n\u001b[0m",
            "\u001b[0;31mTypeError\u001b[0m: unsupported operand type(s) for ** or pow(): 'str' and 'int'"
          ]
        }
      ]
    },
    {
      "cell_type": "code",
      "source": [
        "# Relational operator \n",
        "# The output of relational operator will always be boolean\n",
        "\n",
        "a = 10\n",
        "b = 20\n",
        "\n",
        "# > greater than\n",
        "\n",
        "print(a>b)\n",
        "\n",
        "# < less than\n",
        "print(a<b)\n",
        "\n",
        "# == equality \n",
        "\n",
        "print(a == b)\n",
        "\n",
        "# >=\n",
        "\n",
        "print(a>=b)\n",
        "\n",
        "# <=\n",
        "print(a<=b)\n",
        "\n",
        "# != Not Equal\n",
        "print(a!=b)\n",
        "\n",
        "\n",
        "\n"
      ],
      "metadata": {
        "colab": {
          "base_uri": "https://localhost:8080/"
        },
        "id": "wB_2RhUFzVE4",
        "outputId": "bd2ea27f-34a6-4ba2-b5bf-05e416c9d5c1"
      },
      "execution_count": 68,
      "outputs": [
        {
          "output_type": "stream",
          "name": "stdout",
          "text": [
            "False\n",
            "True\n",
            "False\n",
            "False\n",
            "True\n",
            "True\n"
          ]
        }
      ]
    },
    {
      "cell_type": "code",
      "source": [
        "# with Strings\n",
        "\n",
        "s1 = \"abcd\"\n",
        "s2 = \"abcd\"\n",
        "\n",
        "print(s1<s2)\n",
        "\n",
        "# with > or < the comparison will happen on length of the strings\n",
        "\n",
        "\n",
        "# With == the string itself will compared\n",
        "\n",
        "print(s1==s2)\n",
        "\n",
        "print(s1!=s2)\n"
      ],
      "metadata": {
        "colab": {
          "base_uri": "https://localhost:8080/"
        },
        "id": "NUefR0bb1qWH",
        "outputId": "be5cb5c9-e68b-495e-9366-5d2b5d4ae39f"
      },
      "execution_count": 69,
      "outputs": [
        {
          "output_type": "stream",
          "name": "stdout",
          "text": [
            "False\n",
            "True\n",
            "False\n"
          ]
        }
      ]
    },
    {
      "cell_type": "code",
      "source": [
        "# logical operator - Always works with boolean data type\n",
        "\n",
        "# and -> if both the condtions are true it will be true else false\n",
        "# or -> if any one condition is true then true else false\n",
        "# not -> It works as a converter"
      ],
      "metadata": {
        "id": "IyfBNct026pi"
      },
      "execution_count": 70,
      "outputs": []
    },
    {
      "cell_type": "code",
      "source": [
        "a = False\n",
        "b = True\n",
        "\n",
        "print(a and b)\n"
      ],
      "metadata": {
        "colab": {
          "base_uri": "https://localhost:8080/"
        },
        "id": "yEh_0NVD4nqY",
        "outputId": "25854003-b6c7-42d1-b26d-f796b59ae3f3"
      },
      "execution_count": 73,
      "outputs": [
        {
          "output_type": "stream",
          "name": "stdout",
          "text": [
            "False\n"
          ]
        }
      ]
    },
    {
      "cell_type": "code",
      "source": [
        "a = False\n",
        "b = False\n",
        "\n",
        "print(a or b)"
      ],
      "metadata": {
        "colab": {
          "base_uri": "https://localhost:8080/"
        },
        "id": "Vr05qdZF40KU",
        "outputId": "839256c2-6443-45a5-c80f-f98f4c321b42"
      },
      "execution_count": 77,
      "outputs": [
        {
          "output_type": "stream",
          "name": "stdout",
          "text": [
            "False\n"
          ]
        }
      ]
    },
    {
      "cell_type": "code",
      "source": [
        "a = True\n",
        "b = False\n",
        "print(not b)"
      ],
      "metadata": {
        "colab": {
          "base_uri": "https://localhost:8080/"
        },
        "id": "G7L1diYZ5EmK",
        "outputId": "439268e8-0f8d-4e06-d428-79e7d487128d"
      },
      "execution_count": 80,
      "outputs": [
        {
          "output_type": "stream",
          "name": "stdout",
          "text": [
            "True\n"
          ]
        }
      ]
    },
    {
      "cell_type": "code",
      "source": [
        "# Equality Operator \n",
        "\n",
        "# == \n",
        "# is \n",
        "\n",
        "a = 10\n",
        "b = 10\n",
        "\n",
        "if a is b:\n",
        "  print(\"Hello\")\n"
      ],
      "metadata": {
        "colab": {
          "base_uri": "https://localhost:8080/"
        },
        "id": "bU-4nPMg5dVd",
        "outputId": "dc92d427-be58-4ae5-bbce-4fa0c405e666"
      },
      "execution_count": 85,
      "outputs": [
        {
          "output_type": "stream",
          "name": "stdout",
          "text": [
            "Hello\n"
          ]
        }
      ]
    },
    {
      "cell_type": "code",
      "source": [
        "# Assignment operator\n",
        "\n",
        "# =\n",
        "\n",
        "a = 10\n",
        "b = a\n",
        "\n",
        "print(b)"
      ],
      "metadata": {
        "colab": {
          "base_uri": "https://localhost:8080/"
        },
        "id": "TeiFbxQn6YcM",
        "outputId": "06f657fc-3d67-4d57-cd57-b5d353cce4f8"
      },
      "execution_count": 87,
      "outputs": [
        {
          "output_type": "stream",
          "name": "stdout",
          "text": [
            "10\n"
          ]
        }
      ]
    },
    {
      "cell_type": "code",
      "source": [
        "l1 = [10]\n",
        "a = 2\n",
        "\n",
        "print(l1 * a)\n",
        "\n",
        "# So with list and tuple it will multiply the list that many time"
      ],
      "metadata": {
        "colab": {
          "base_uri": "https://localhost:8080/"
        },
        "id": "KcTorFzP635g",
        "outputId": "2d42814c-e6be-417b-a9b7-df5991b9e44d"
      },
      "execution_count": 101,
      "outputs": [
        {
          "output_type": "stream",
          "name": "stdout",
          "text": [
            "[10, 10]\n"
          ]
        }
      ]
    },
    {
      "cell_type": "code",
      "source": [
        ""
      ],
      "metadata": {
        "id": "RofLseJK7Myy"
      },
      "execution_count": 105,
      "outputs": []
    },
    {
      "cell_type": "code",
      "source": [
        ""
      ],
      "metadata": {
        "id": "YfL5GY5A7t1j"
      },
      "execution_count": null,
      "outputs": []
    }
  ]
}