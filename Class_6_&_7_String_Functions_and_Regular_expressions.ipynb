{
  "nbformat": 4,
  "nbformat_minor": 0,
  "metadata": {
    "colab": {
      "provenance": []
    },
    "kernelspec": {
      "name": "python3",
      "display_name": "Python 3"
    },
    "language_info": {
      "name": "python"
    }
  },
  "cells": [
    {
      "cell_type": "code",
      "execution_count": null,
      "metadata": {
        "id": "7I0d8hHYwOQX"
      },
      "outputs": [],
      "source": [
        "# Python String Functions"
      ]
    },
    {
      "cell_type": "code",
      "source": [
        "# Lstrip() # Remove the white spaces from the left side of the string\n",
        "# Rstrip # Remove the white spaces from the right side\n",
        "\n",
        "str1 = \"    Hello\"\n",
        "print(str1.lstrip())"
      ],
      "metadata": {
        "colab": {
          "base_uri": "https://localhost:8080/"
        },
        "id": "QabU8qN1wWZi",
        "outputId": "e4d1e601-525a-4c91-a313-de11b62ed5a3"
      },
      "execution_count": null,
      "outputs": [
        {
          "output_type": "stream",
          "name": "stdout",
          "text": [
            "Hello\n"
          ]
        }
      ]
    },
    {
      "cell_type": "code",
      "source": [
        "# Function to find the city is available using lstrip\n",
        "\n",
        "def find_city(city_name):\n",
        "  city_list = [\"Mumbai\", \"Delhi\", \"Banglore\", \"Chennai\"]\n",
        "\n",
        "  if city_name.lstrip() in city_list:\n",
        "    print(\"The city is available\")\n",
        "\n",
        "  else:\n",
        "    print(\"city is not available\")\n",
        "\n",
        "city_name = input(\"Please enter a city name\")\n",
        "find_city(city_name)"
      ],
      "metadata": {
        "colab": {
          "base_uri": "https://localhost:8080/"
        },
        "id": "nWG3JSFfyWp1",
        "outputId": "05b7557a-838f-47f8-e12a-e7417679e31b"
      },
      "execution_count": null,
      "outputs": [
        {
          "output_type": "stream",
          "name": "stdout",
          "text": [
            "Please enter a city name        Mumbai\n",
            "The city is available\n"
          ]
        }
      ]
    },
    {
      "cell_type": "code",
      "source": [
        "# Function to find the city is available rstrip\n",
        "\n",
        "def find_city(city_name):\n",
        "  city_list = [\"Mumbai\", \"Delhi\", \"Banglore\", \"Chennai\"]\n",
        "\n",
        "  if city_name.rstrip() in city_list:\n",
        "    print(\"The city is available\")\n",
        "\n",
        "  else:\n",
        "    print(\"city is not available\")\n",
        "\n",
        "city_name = input(\"Please enter a city name\")\n",
        "find_city(city_name)"
      ],
      "metadata": {
        "colab": {
          "base_uri": "https://localhost:8080/"
        },
        "id": "wA5B7se4zHhs",
        "outputId": "c0289345-3dbe-4a39-aeaf-752a699c1aab"
      },
      "execution_count": null,
      "outputs": [
        {
          "output_type": "stream",
          "name": "stdout",
          "text": [
            "Please enter a city nameMumbai  \n",
            "The city is available\n"
          ]
        }
      ]
    },
    {
      "cell_type": "code",
      "source": [
        "# Function to find the city is available using both\n",
        "\n",
        "def find_city(city_name):\n",
        "  city_list = [\"Mumbai\", \"Delhi\", \"Banglore\", \"Chennai\"]\n",
        "  city_name = city_name.lstrip() \n",
        "  city_name = city_name.rstrip()\n",
        "\n",
        "  if city_name in city_list:\n",
        "    print(\"The city is available\")\n",
        "\n",
        "  else:\n",
        "    print(\"city is not available\")\n",
        "\n",
        "city_name = input(\"Please enter a city name\")\n",
        "find_city(city_name)"
      ],
      "metadata": {
        "colab": {
          "base_uri": "https://localhost:8080/"
        },
        "id": "zOe2D0ZFz06o",
        "outputId": "d7f5d9f4-6b14-4483-e7ed-700b2e5b489f"
      },
      "execution_count": null,
      "outputs": [
        {
          "output_type": "stream",
          "name": "stdout",
          "text": [
            "Please enter a city name     Mumbai  \n",
            "The city is available\n"
          ]
        }
      ]
    },
    {
      "cell_type": "code",
      "source": [
        "# Find Function\n",
        "\n",
        "\n",
        "str1 = \"Hello my name is Muzzammil\"\n",
        "\n",
        "str1.find('xml')"
      ],
      "metadata": {
        "colab": {
          "base_uri": "https://localhost:8080/"
        },
        "id": "Ukr2UvOt0Htc",
        "outputId": "040a9989-01b4-4fc9-ff2a-c710402ca20a"
      },
      "execution_count": null,
      "outputs": [
        {
          "output_type": "execute_result",
          "data": {
            "text/plain": [
              "-1"
            ]
          },
          "metadata": {},
          "execution_count": 10
        }
      ]
    },
    {
      "cell_type": "code",
      "source": [
        "# Input: a4b3c2\n",
        "\n",
        "# Output: aaaabbbcc\n",
        "\n",
        "\n",
        "def generate_string(input_string):\n",
        "  number_list = []\n",
        "  alphabet_list = []\n",
        "  final_str = \"\"\n",
        "\n",
        "  for i in input_string:\n",
        "\n",
        "    if i.isdigit():\n",
        "\n",
        "      number_list.append(int(i))\n",
        "\n",
        "    elif i.isalpha():\n",
        "\n",
        "      alphabet_list.append(i)\n",
        "\n",
        "    \n",
        "  for num in range(len(number_list)):\n",
        "    final_str = final_str + (alphabet_list[num] * number_list[num])\n",
        "\n",
        "  print(final_str)\n",
        "    \n",
        "\n",
        "\n",
        "\n",
        "generate_string(\"a4b3c2\")"
      ],
      "metadata": {
        "colab": {
          "base_uri": "https://localhost:8080/"
        },
        "id": "SDPjle8f0rDJ",
        "outputId": "3199ea47-8bac-40de-a803-c4e48417648b"
      },
      "execution_count": null,
      "outputs": [
        {
          "output_type": "stream",
          "name": "stdout",
          "text": [
            "aaaabbbcc\n"
          ]
        }
      ]
    },
    {
      "cell_type": "code",
      "source": [
        "# input: s1: john\n",
        "        #s2: Jame\n",
        "\n",
        "# Output: jjoahmne\n",
        "\n",
        "def func2(str1, str2):\n",
        "  final_str = \"\"\n",
        "  for i in range(len(str1)):\n",
        "    final_str += str1[i] + str2[i]\n",
        "\n",
        "  print(final_str)\n",
        "\n",
        "func2(\"john\", \"Jame\")\n",
        "\n",
        "\n",
        "\n",
        "\n"
      ],
      "metadata": {
        "colab": {
          "base_uri": "https://localhost:8080/"
        },
        "id": "oM0ngoQJ2lXg",
        "outputId": "559744d0-4ea3-4ad3-ea19-07bb8f3a90b6"
      },
      "execution_count": null,
      "outputs": [
        {
          "output_type": "stream",
          "name": "stdout",
          "text": [
            "jJoahmne\n"
          ]
        }
      ]
    },
    {
      "cell_type": "code",
      "source": [
        "# Assgiment Questions\n",
        "\n",
        "# 1\n",
        "\n",
        "# input: Thescholar\n",
        "#.       0123456789\n",
        "# Output: # Even Character Index\n",
        "            # Tecoa\n",
        "\n",
        "          # Odd Character Index\n",
        "          # hshlr\n",
        "\n",
        "\n",
        "# 2 \n",
        "\n",
        "# Input: b4a1d3\n",
        "# output: abd134\n"
      ],
      "metadata": {
        "id": "OZqDWPB95x1I"
      },
      "execution_count": null,
      "outputs": []
    },
    {
      "cell_type": "markdown",
      "source": [
        "# REGULAR EXPRESSION"
      ],
      "metadata": {
        "id": "m6QetAB27_qg"
      }
    },
    {
      "cell_type": "code",
      "source": [
        "# Installing the packages\n",
        "!pip install pandas"
      ],
      "metadata": {
        "colab": {
          "base_uri": "https://localhost:8080/"
        },
        "id": "aTvGreJG6tTU",
        "outputId": "9882cd05-3879-489b-ef6c-3cf76f893808"
      },
      "execution_count": null,
      "outputs": [
        {
          "output_type": "stream",
          "name": "stdout",
          "text": [
            "Looking in indexes: https://pypi.org/simple, https://us-python.pkg.dev/colab-wheels/public/simple/\n",
            "\u001b[31mERROR: Could not find a version that satisfies the requirement re (from versions: none)\u001b[0m\n",
            "\u001b[31mERROR: No matching distribution found for re\u001b[0m\n"
          ]
        }
      ]
    },
    {
      "cell_type": "code",
      "source": [
        "import re\n",
        "\n",
        "count = 0\n",
        "pattern = re.compile(\"cd\")\n",
        "\n",
        "matcher = pattern.finditer(\"cdcdcdcdcdcdcdcdcdcdcdcdcdcdc\")\n",
        "\n",
        "for match in matcher:\n",
        "  print(\"The start index is \", match.start(), \"The end index is \", match.end(), match.group())"
      ],
      "metadata": {
        "colab": {
          "base_uri": "https://localhost:8080/"
        },
        "id": "Dl44jEXF9cwF",
        "outputId": "821fa6ed-c7ad-4406-829c-b245b05e5a92"
      },
      "execution_count": null,
      "outputs": [
        {
          "output_type": "stream",
          "name": "stdout",
          "text": [
            "The start index is  0 The end index is  2 cd\n",
            "The start index is  2 The end index is  4 cd\n",
            "The start index is  4 The end index is  6 cd\n",
            "The start index is  6 The end index is  8 cd\n",
            "The start index is  8 The end index is  10 cd\n",
            "The start index is  10 The end index is  12 cd\n",
            "The start index is  12 The end index is  14 cd\n",
            "The start index is  14 The end index is  16 cd\n",
            "The start index is  16 The end index is  18 cd\n",
            "The start index is  18 The end index is  20 cd\n",
            "The start index is  20 The end index is  22 cd\n",
            "The start index is  22 The end index is  24 cd\n",
            "The start index is  24 The end index is  26 cd\n",
            "The start index is  26 The end index is  28 cd\n"
          ]
        }
      ]
    },
    {
      "cell_type": "code",
      "source": [
        "# Pattern \n",
        "\n",
        "# [abc] -> either a or b or c\n",
        "\n",
        "import re\n",
        "\n",
        "count = 0\n",
        "pattern = re.compile(\"[abc]\")\n",
        "\n",
        "matcher = pattern.finditer(\"cdcdcdcdcdcdcdcdcdcdcdcdcdcdcabababa\")\n",
        "\n",
        "for match in matcher:\n",
        "  print(\"The start index is \", match.start(), \"The end index is \", match.end(), match.group())"
      ],
      "metadata": {
        "colab": {
          "base_uri": "https://localhost:8080/"
        },
        "id": "7i4u-owB-Rjm",
        "outputId": "f462b225-2c8d-4f72-f08f-f13ee62e685e"
      },
      "execution_count": null,
      "outputs": [
        {
          "output_type": "stream",
          "name": "stdout",
          "text": [
            "The start index is  0 The end index is  1 c\n",
            "The start index is  2 The end index is  3 c\n",
            "The start index is  4 The end index is  5 c\n",
            "The start index is  6 The end index is  7 c\n",
            "The start index is  8 The end index is  9 c\n",
            "The start index is  10 The end index is  11 c\n",
            "The start index is  12 The end index is  13 c\n",
            "The start index is  14 The end index is  15 c\n",
            "The start index is  16 The end index is  17 c\n",
            "The start index is  18 The end index is  19 c\n",
            "The start index is  20 The end index is  21 c\n",
            "The start index is  22 The end index is  23 c\n",
            "The start index is  24 The end index is  25 c\n",
            "The start index is  26 The end index is  27 c\n",
            "The start index is  28 The end index is  29 c\n",
            "The start index is  29 The end index is  30 a\n",
            "The start index is  30 The end index is  31 b\n",
            "The start index is  31 The end index is  32 a\n",
            "The start index is  32 The end index is  33 b\n",
            "The start index is  33 The end index is  34 a\n",
            "The start index is  34 The end index is  35 b\n",
            "The start index is  35 The end index is  36 a\n"
          ]
        }
      ]
    },
    {
      "cell_type": "code",
      "source": [
        "# [^abc] -> except a and b and c\n",
        "\n",
        "# [a-z] -> all the small letters from a-z\n",
        "# [A-Z] -> All the upper letters from A-Z\n",
        "# [0-9] -> ALL the digits from 0-9\n",
        "\n"
      ],
      "metadata": {
        "id": "uCGe3d1H_p3O"
      },
      "execution_count": null,
      "outputs": []
    },
    {
      "cell_type": "code",
      "source": [
        "import re\n",
        "matcher = re.finditer('[acx]', \"a7b@#$%c*&^x\")\n",
        "for i in matcher:\n",
        "  print(i.start(), i.end(), i.group())\n",
        "\n",
        "  \n"
      ],
      "metadata": {
        "colab": {
          "base_uri": "https://localhost:8080/"
        },
        "id": "JSksFK3bAW3k",
        "outputId": "80cc3489-69f2-423f-ae3b-eddb78507f96"
      },
      "execution_count": null,
      "outputs": [
        {
          "output_type": "stream",
          "name": "stdout",
          "text": [
            "0 1 a\n",
            "7 8 c\n",
            "11 12 x\n"
          ]
        }
      ]
    },
    {
      "cell_type": "code",
      "source": [
        "import re\n",
        "matcher = re.finditer('[a-z]', \"a7b@#$%c*&^x\")\n",
        "for i in matcher:\n",
        "  print(i.start(), i.end(), i.group())\n",
        "\n",
        "  \n"
      ],
      "metadata": {
        "colab": {
          "base_uri": "https://localhost:8080/"
        },
        "id": "ex-iTf4fAwkb",
        "outputId": "0d879fd0-c5be-4d09-e54b-18674faef3c8"
      },
      "execution_count": null,
      "outputs": [
        {
          "output_type": "stream",
          "name": "stdout",
          "text": [
            "0 1 a\n",
            "2 3 b\n",
            "7 8 c\n",
            "11 12 x\n"
          ]
        }
      ]
    },
    {
      "cell_type": "code",
      "source": [
        "import re\n",
        "matcher = re.finditer('[a-zA-Z0-9]', \"a7b@#$%c*&^xA*&((BSDSD\")\n",
        "for i in matcher:\n",
        "  print(i.start(), i.end(), i.group())\n",
        "\n",
        "  \n"
      ],
      "metadata": {
        "colab": {
          "base_uri": "https://localhost:8080/"
        },
        "id": "Yv52oTKCBKUC",
        "outputId": "d80e2aa9-29c4-4d8a-c125-4bfcfce3f335"
      },
      "execution_count": null,
      "outputs": [
        {
          "output_type": "stream",
          "name": "stdout",
          "text": [
            "0 1 a\n",
            "1 2 7\n",
            "2 3 b\n",
            "7 8 c\n",
            "11 12 x\n",
            "12 13 A\n",
            "17 18 B\n",
            "18 19 S\n",
            "19 20 D\n",
            "20 21 S\n",
            "21 22 D\n"
          ]
        }
      ]
    },
    {
      "cell_type": "code",
      "source": [
        "# \\s -> Search for white space\n",
        "# \\S -> Except the space\n",
        "# \\d -> Search for digits\n",
        "# \\D -> Except for Digits\n",
        "# \\w -> any alphabet\n",
        "# \\W -> Any character except alphanumeric (special chars)\n",
        "\n"
      ],
      "metadata": {
        "id": "_awnwQ9lBOxf"
      },
      "execution_count": null,
      "outputs": []
    },
    {
      "cell_type": "code",
      "source": [
        "import re\n",
        "\n",
        "matcher = re.finditer(\"\\s\", \"ASCSm.  ASAS.  SDSDSD\")\n",
        "for i in matcher:\n",
        "  print(i.start(), i.end(), i.group())"
      ],
      "metadata": {
        "colab": {
          "base_uri": "https://localhost:8080/"
        },
        "id": "PFzmWmDYC5zC",
        "outputId": "d7a0e86c-80bd-42a5-ea99-5f4997b587ff"
      },
      "execution_count": null,
      "outputs": [
        {
          "output_type": "stream",
          "name": "stdout",
          "text": [
            "6 7  \n",
            "7 8  \n",
            "13 14  \n",
            "14 15  \n"
          ]
        }
      ]
    },
    {
      "cell_type": "code",
      "source": [
        "import re\n",
        "\n",
        "matcher = re.finditer(\"\\S\", \"ASCSm.  ASAS.  SDSDSD\")\n",
        "for i in matcher:\n",
        "  print(i.start(), i.end(), i.group())"
      ],
      "metadata": {
        "colab": {
          "base_uri": "https://localhost:8080/"
        },
        "id": "RY5CkXWyDKZv",
        "outputId": "e8b9a3c3-acb1-4d5c-c8a4-307529cdc07d"
      },
      "execution_count": null,
      "outputs": [
        {
          "output_type": "stream",
          "name": "stdout",
          "text": [
            "0 1 A\n",
            "1 2 S\n",
            "2 3 C\n",
            "3 4 S\n",
            "4 5 m\n",
            "5 6 .\n",
            "8 9 A\n",
            "9 10 S\n",
            "10 11 A\n",
            "11 12 S\n",
            "12 13 .\n",
            "15 16 S\n",
            "16 17 D\n",
            "17 18 S\n",
            "18 19 D\n",
            "19 20 S\n",
            "20 21 D\n"
          ]
        }
      ]
    },
    {
      "cell_type": "code",
      "source": [
        "import re\n",
        "\n",
        "matcher = re.finditer(\"\\d\", \"ASCSm.  ASAS.  SDSDSD 232323 2323 2312\")\n",
        "for i in matcher:\n",
        "  print(i.start(), i.end(), i.group())"
      ],
      "metadata": {
        "colab": {
          "base_uri": "https://localhost:8080/"
        },
        "id": "nWXDuhO4DO_e",
        "outputId": "5aa2c422-16bc-4809-af0b-6103ea55ff2d"
      },
      "execution_count": null,
      "outputs": [
        {
          "output_type": "stream",
          "name": "stdout",
          "text": [
            "22 23 2\n",
            "23 24 3\n",
            "24 25 2\n",
            "25 26 3\n",
            "26 27 2\n",
            "27 28 3\n",
            "29 30 2\n",
            "30 31 3\n",
            "31 32 2\n",
            "32 33 3\n",
            "34 35 2\n",
            "35 36 3\n",
            "36 37 1\n",
            "37 38 2\n"
          ]
        }
      ]
    },
    {
      "cell_type": "code",
      "source": [
        "import re\n",
        "\n",
        "matcher = re.finditer(\"\\W\", \"ASCSm.  ASAS.  SDSDSD 232323 2323 2312 $ % #$#$#(*\")\n",
        "for i in matcher:\n",
        "  print(i.start(), i.end(), i.group())"
      ],
      "metadata": {
        "colab": {
          "base_uri": "https://localhost:8080/"
        },
        "id": "tR09mB4GDXdL",
        "outputId": "121333a8-4704-4cc0-e8f8-f1c8aad538e3"
      },
      "execution_count": 1,
      "outputs": [
        {
          "output_type": "stream",
          "name": "stdout",
          "text": [
            "5 6 .\n",
            "6 7  \n",
            "7 8  \n",
            "12 13 .\n",
            "13 14  \n",
            "14 15  \n",
            "21 22  \n",
            "28 29  \n",
            "33 34  \n",
            "38 39  \n",
            "39 40 $\n",
            "40 41  \n",
            "41 42 %\n",
            "42 43  \n",
            "43 44 #\n",
            "44 45 $\n",
            "45 46 #\n",
            "46 47 $\n",
            "47 48 #\n",
            "48 49 (\n",
            "49 50 *\n"
          ]
        }
      ]
    },
    {
      "cell_type": "code",
      "source": [
        "# . ALL the items of the string\n",
        "\n",
        "import re\n",
        "matcher = re.finditer(\".\", \"Aasdjhds. wejkwej jhwhej %^&\")\n",
        "\n",
        "for i in matcher:\n",
        "  print(i.start(), i.end(), i.group())"
      ],
      "metadata": {
        "id": "osxNTzWODhri",
        "colab": {
          "base_uri": "https://localhost:8080/"
        },
        "outputId": "d313fcb5-b0eb-4f9b-b84a-37ddff6f1b9c"
      },
      "execution_count": 3,
      "outputs": [
        {
          "output_type": "stream",
          "name": "stdout",
          "text": [
            "0 1 A\n",
            "1 2 a\n",
            "2 3 s\n",
            "3 4 d\n",
            "4 5 j\n",
            "5 6 h\n",
            "6 7 d\n",
            "7 8 s\n",
            "8 9 .\n",
            "9 10  \n",
            "10 11 w\n",
            "11 12 e\n",
            "12 13 j\n",
            "13 14 k\n",
            "14 15 w\n",
            "15 16 e\n",
            "16 17 j\n",
            "17 18  \n",
            "18 19 j\n",
            "19 20 h\n",
            "20 21 w\n",
            "21 22 h\n",
            "22 23 e\n",
            "23 24 j\n",
            "24 25  \n",
            "25 26 %\n",
            "26 27 ^\n",
            "27 28 &\n"
          ]
        }
      ]
    },
    {
      "cell_type": "code",
      "source": [
        "# + -> one or more occurences of the pattern\n",
        "\n",
        "import re\n",
        "matcher = re.finditer(\"c+\", \"Aasdjhds. wejkwej jhwhej ccsdsdsd cccccc %^&\")\n",
        "\n",
        "for i in matcher:\n",
        "  print(i.start(), i.end(), i.group())"
      ],
      "metadata": {
        "colab": {
          "base_uri": "https://localhost:8080/"
        },
        "id": "5qdtvqG48yxk",
        "outputId": "12af6100-07be-434f-aa28-56e1d4e371bc"
      },
      "execution_count": 5,
      "outputs": [
        {
          "output_type": "stream",
          "name": "stdout",
          "text": [
            "25 27 cc\n",
            "34 40 cccccc\n"
          ]
        }
      ]
    },
    {
      "cell_type": "code",
      "source": [
        "# * -> zero or more occurences of the pattern\n",
        "# Any number c's including 0\n",
        "\n",
        "import re\n",
        "matcher = re.finditer(\"c*\", \"Aasdjhds. wejkwej jhwhej ccsdsdsd cccccc %^&\")\n",
        "\n",
        "for i in matcher:\n",
        "  print(i.start(), i.end(), i.group())"
      ],
      "metadata": {
        "colab": {
          "base_uri": "https://localhost:8080/"
        },
        "id": "slh82abU9ZFD",
        "outputId": "5c71a8dc-0e4f-4fad-86df-81aabafd9bc8"
      },
      "execution_count": 6,
      "outputs": [
        {
          "output_type": "stream",
          "name": "stdout",
          "text": [
            "0 0 \n",
            "1 1 \n",
            "2 2 \n",
            "3 3 \n",
            "4 4 \n",
            "5 5 \n",
            "6 6 \n",
            "7 7 \n",
            "8 8 \n",
            "9 9 \n",
            "10 10 \n",
            "11 11 \n",
            "12 12 \n",
            "13 13 \n",
            "14 14 \n",
            "15 15 \n",
            "16 16 \n",
            "17 17 \n",
            "18 18 \n",
            "19 19 \n",
            "20 20 \n",
            "21 21 \n",
            "22 22 \n",
            "23 23 \n",
            "24 24 \n",
            "25 27 cc\n",
            "27 27 \n",
            "28 28 \n",
            "29 29 \n",
            "30 30 \n",
            "31 31 \n",
            "32 32 \n",
            "33 33 \n",
            "34 40 cccccc\n",
            "40 40 \n",
            "41 41 \n",
            "42 42 \n",
            "43 43 \n",
            "44 44 \n"
          ]
        }
      ]
    },
    {
      "cell_type": "code",
      "source": [
        "# ? -> Atmost one pattern\n",
        "\n",
        "import re\n",
        "matcher = re.finditer(\"c?\", \"Aasdjhds. wejkwej jhwhej ccsdsdsd cccccc %^&\")\n",
        "\n",
        "for i in matcher:\n",
        "  print(i.start(), i.end(), i.group())"
      ],
      "metadata": {
        "colab": {
          "base_uri": "https://localhost:8080/"
        },
        "id": "BeUNq4q29rxm",
        "outputId": "be53c2f2-609c-4337-d2fe-8a8499364640"
      },
      "execution_count": 9,
      "outputs": [
        {
          "output_type": "stream",
          "name": "stdout",
          "text": [
            "0 0 \n",
            "1 1 \n",
            "2 2 \n",
            "3 3 \n",
            "4 4 \n",
            "5 5 \n",
            "6 6 \n",
            "7 7 \n",
            "8 8 \n",
            "9 9 \n",
            "10 10 \n",
            "11 11 \n",
            "12 12 \n",
            "13 13 \n",
            "14 14 \n",
            "15 15 \n",
            "16 16 \n",
            "17 17 \n",
            "18 18 \n",
            "19 19 \n",
            "20 20 \n",
            "21 21 \n",
            "22 22 \n",
            "23 23 \n",
            "24 24 \n",
            "25 26 c\n",
            "26 27 c\n",
            "27 27 \n",
            "28 28 \n",
            "29 29 \n",
            "30 30 \n",
            "31 31 \n",
            "32 32 \n",
            "33 33 \n",
            "34 35 c\n",
            "35 36 c\n",
            "36 37 c\n",
            "37 38 c\n",
            "38 39 c\n",
            "39 40 c\n",
            "40 40 \n",
            "41 41 \n",
            "42 42 \n",
            "43 43 \n",
            "44 44 \n"
          ]
        }
      ]
    },
    {
      "cell_type": "code",
      "source": [
        "# {n} -> n- the number of occurences of pattern\n",
        "\n",
        "import re\n",
        "matcher = re.finditer(\"c{6}\", \"Aasdjhds. wejkwej jhwhej ccsdsdsd cccccc %^&\")\n",
        "\n",
        "for i in matcher:\n",
        "  print(i.start(), i.end(), i.group())"
      ],
      "metadata": {
        "colab": {
          "base_uri": "https://localhost:8080/"
        },
        "id": "qOb8xWaa-F9q",
        "outputId": "85583ac4-d642-49a2-d3a7-002775202737"
      },
      "execution_count": 13,
      "outputs": [
        {
          "output_type": "stream",
          "name": "stdout",
          "text": [
            "34 40 cccccc\n"
          ]
        }
      ]
    },
    {
      "cell_type": "code",
      "source": [
        "# {m,n} -> m,n- the range of occurences of pattern\n",
        "\n",
        "import re\n",
        "matcher = re.finditer(\"c{2,5}\", \"Aasdjhds. wejkwej jhwhej ccsdsdsd cccccc %^&\")\n",
        "\n",
        "for i in matcher:\n",
        "  print(i)\n",
        "  print(i.start(), i.end(), i.group())\n",
        "\n",
        "print(matcher)"
      ],
      "metadata": {
        "colab": {
          "base_uri": "https://localhost:8080/"
        },
        "id": "m-h7FdBm-eyl",
        "outputId": "a01d2c0c-d47b-46cf-8a53-d4744d3c9e6a"
      },
      "execution_count": 32,
      "outputs": [
        {
          "output_type": "stream",
          "name": "stdout",
          "text": [
            "<re.Match object; span=(25, 27), match='cc'>\n",
            "25 27 cc\n",
            "<re.Match object; span=(34, 39), match='ccccc'>\n",
            "34 39 ccccc\n",
            "<callable_iterator object at 0x7fbafdf4db10>\n"
          ]
        }
      ]
    },
    {
      "cell_type": "code",
      "source": [
        "# ^ -> Whether it is starting from pattern or not\n",
        "\n",
        "import re\n",
        "matcher = re.finditer(\"^c\", \"cAasdjhds. wejkwej jhwhej ccsdsdsd cccccc %^&\")\n",
        "\n",
        "for i in matcher:\n",
        "  print(i.start(), i.end(), i.group())"
      ],
      "metadata": {
        "colab": {
          "base_uri": "https://localhost:8080/"
        },
        "id": "JzQW_naM-1S7",
        "outputId": "c663f9e6-1117-4645-a794-ca1f2c35cc81"
      },
      "execution_count": 20,
      "outputs": [
        {
          "output_type": "stream",
          "name": "stdout",
          "text": [
            "0 1 c\n"
          ]
        }
      ]
    },
    {
      "cell_type": "code",
      "source": [
        "# $ -> Whether it is ending from pattern or not\n",
        "\n",
        "import re\n",
        "matcher = re.finditer(\"c$\", \"cAasdjhds. wejkwej jhwhej ccsdsdsd cccccc %^& c\")\n",
        "\n",
        "for i in matcher:\n",
        "  print(i.start(), i.end(), i.group())"
      ],
      "metadata": {
        "colab": {
          "base_uri": "https://localhost:8080/"
        },
        "id": "IOElbjzF_L01",
        "outputId": "3016aa74-d848-43a6-f603-191721e2e09a"
      },
      "execution_count": 22,
      "outputs": [
        {
          "output_type": "stream",
          "name": "stdout",
          "text": [
            "46 47 c\n"
          ]
        }
      ]
    },
    {
      "cell_type": "code",
      "source": [
        "# Important functions in RE Module\n",
        "\n",
        "\n",
        "# finditer()\n",
        "# compile()\n",
        "# match()\n",
        "# fullmatch() -> to look into full match\n",
        "# search()\n",
        "# sub()\n",
        "# split()"
      ],
      "metadata": {
        "id": "jsuPJ3Ke_ucu"
      },
      "execution_count": 23,
      "outputs": []
    },
    {
      "cell_type": "code",
      "source": [
        "import re\n",
        "\n",
        "s = \"1asdsd@gmail.com  1asdsd@gmail.com\"\n",
        "m = re.match(\"1asdsd@gmail.com\", s)\n",
        "\n",
        "if m is not None:\n",
        "  print(\"Match is available\")\n",
        "\n",
        "else:\n",
        "  print(\"Match is not available\")\n"
      ],
      "metadata": {
        "colab": {
          "base_uri": "https://localhost:8080/"
        },
        "id": "oNvg83wbA6gc",
        "outputId": "3eb11aa0-060b-4ee4-94b0-9ed286e25291"
      },
      "execution_count": 30,
      "outputs": [
        {
          "output_type": "stream",
          "name": "stdout",
          "text": [
            "Match is available\n",
            "<re.Match object; span=(0, 16), match='1asdsd@gmail.com'>\n"
          ]
        }
      ]
    },
    {
      "cell_type": "code",
      "source": [
        "import re\n",
        "\n",
        "s = \"hey my email is 1asdsd@gmail.com\"\n",
        "m = re.fullmatch(\"1asdsd@gmail.com\", s)\n",
        "\n",
        "print(m)\n"
      ],
      "metadata": {
        "colab": {
          "base_uri": "https://localhost:8080/"
        },
        "id": "jvHv1xa1BOxZ",
        "outputId": "9aa45d4e-a438-489a-d6b9-24abefe6fdbb"
      },
      "execution_count": 37,
      "outputs": [
        {
          "output_type": "stream",
          "name": "stdout",
          "text": [
            "None\n"
          ]
        }
      ]
    },
    {
      "cell_type": "code",
      "source": [
        "import re\n",
        "\n",
        "s = \"hey my email is 1asdsd@gmail.com\"\n",
        "m = re.search(\"1asdsd@gmail.com\", s)\n",
        "\n",
        "print(m.group(), m.start(), m.end())\n"
      ],
      "metadata": {
        "colab": {
          "base_uri": "https://localhost:8080/"
        },
        "id": "khWht5shCe7w",
        "outputId": "b0d49ea8-f6a7-4fe3-840f-1b5ebbeb0ec1"
      },
      "execution_count": 40,
      "outputs": [
        {
          "output_type": "stream",
          "name": "stdout",
          "text": [
            "1asdsd@gmail.com 16 32\n"
          ]
        }
      ]
    },
    {
      "cell_type": "code",
      "source": [
        "import re\n",
        "\n",
        "s = \"hey my email is 1asdsd@gmail.com\"\n",
        "m = re.sub(\"1asdsd@gmail.com\", \"my@gmail.com\", s)\n",
        "\n",
        "print(m)\n"
      ],
      "metadata": {
        "colab": {
          "base_uri": "https://localhost:8080/"
        },
        "id": "KNbYzsWHDAmv",
        "outputId": "760f3fae-2027-4df8-aad4-032c67e239ef"
      },
      "execution_count": 41,
      "outputs": [
        {
          "output_type": "stream",
          "name": "stdout",
          "text": [
            "hey my email is my@gmail.com\n"
          ]
        }
      ]
    },
    {
      "cell_type": "code",
      "source": [
        "l = \"10,20,30,40,50,60\"\n",
        "\n",
        "print(l.split(','))\n",
        "\n"
      ],
      "metadata": {
        "colab": {
          "base_uri": "https://localhost:8080/"
        },
        "id": "dWAUr5DIDnoh",
        "outputId": "cd895dd3-aadb-456e-d4e4-12cc3ed2cc9a"
      },
      "execution_count": 42,
      "outputs": [
        {
          "output_type": "stream",
          "name": "stdout",
          "text": [
            "['10', '20', '30', '40', '50', '60']\n"
          ]
        }
      ]
    },
    {
      "cell_type": "code",
      "source": [
        "import re\n",
        "s = \"An Apple a day keeps doctor away, An antitode for the corona is covax\"\n",
        "m = re.split(\"[A]\", s)\n",
        "print(m[2])"
      ],
      "metadata": {
        "colab": {
          "base_uri": "https://localhost:8080/"
        },
        "id": "wn6l26prD5Fi",
        "outputId": "aba09fa3-db5b-402c-93d7-5ac136fa07e2"
      },
      "execution_count": 49,
      "outputs": [
        {
          "output_type": "stream",
          "name": "stdout",
          "text": [
            "pple a day keeps doctor away, \n"
          ]
        }
      ]
    },
    {
      "cell_type": "code",
      "source": [
        "# Function to validate a email address\n",
        "\n",
        "\n",
        "# adamsmith123@gmail.com -> valid email\n",
        "\n",
        "# adam@gmail.c -> Invalid email\n",
        "\n",
        "# Adamgmail.com -> Invalid email\n",
        "\n",
        "# Adam@gmail,com -> Invalid email\n",
        "\n",
        "def validate_email(email):\n",
        "  pattern = \"[a-zA-Z0-9]*@[a-zA-Z0-9]*[.][a-zA-Z]{2,3}\"\n",
        "\n",
        "  m = re.fullmatch(pattern, email)\n",
        "\n",
        "  if m is not None:\n",
        "    print(\"Email is valid\")\n",
        "  else:\n",
        "    print(\"email is not valid\")\n",
        "\n",
        "\n",
        "\n"
      ],
      "metadata": {
        "id": "PtVj-__XEDwj"
      },
      "execution_count": 53,
      "outputs": []
    },
    {
      "cell_type": "code",
      "source": [
        "validate_email(\"my@gmail.in\")"
      ],
      "metadata": {
        "colab": {
          "base_uri": "https://localhost:8080/"
        },
        "id": "i0FpTSEAJOqL",
        "outputId": "6b9b6266-b53f-4720-bce8-285eddf0f934"
      },
      "execution_count": 58,
      "outputs": [
        {
          "output_type": "stream",
          "name": "stdout",
          "text": [
            "Email is valid\n"
          ]
        }
      ]
    },
    {
      "cell_type": "code",
      "source": [
        "# Function to find a ip address \n",
        "\n",
        "# 43.248.74.141 -> Valid\n",
        "# 192.169.0.1 -> valid\n",
        "\n",
        "# 1923.12.1.0 -> Invalid\n",
        "\n",
        "\n",
        "def find_ipaddress(str1):\n",
        "  pattern = \"[0-9]{1,3}[.][0-9]{1,3}[.][0-9]{1,3}[.][0-9]{1,3}\"\n",
        "\n",
        "  m = re.findall(pattern, str1)\n",
        "\n",
        "  for i in m:\n",
        "    print(i)\n",
        "\n",
        "\n",
        "\n",
        "\n",
        "str1 = \"192.168.0.1 -> hey how are you doing -> 43.248.74.141\"\n",
        "find_ipaddress(str1)\n",
        "\n"
      ],
      "metadata": {
        "colab": {
          "base_uri": "https://localhost:8080/"
        },
        "id": "hVntwfcsJTqa",
        "outputId": "d1e4ee89-8198-471f-e66e-338664d5222a"
      },
      "execution_count": 60,
      "outputs": [
        {
          "output_type": "stream",
          "name": "stdout",
          "text": [
            "192.168.0.1\n",
            "43.248.74.141\n"
          ]
        }
      ]
    },
    {
      "cell_type": "code",
      "source": [
        "# function to scrape the telephone numbers from the website\n",
        "\n",
        "import re\n",
        "import urllib.request \n",
        "\n",
        "url = \"https://www.summet.com/dmsi/html/codesamples/addresses.html\"\n",
        "\n",
        "response = urllib.request.urlopen(url)\n",
        "\n",
        "data = response.read()\n",
        "data_str = data.decode()\n",
        "\n",
        "\n",
        "pattern = \"\\(\\d{3}\\) \\d{3}-\\d{4}\"\n",
        "\n",
        "tele_data = re.findall(pattern, data_str)\n",
        "\n",
        "for i in tele_data:\n",
        "  print(i)\n"
      ],
      "metadata": {
        "colab": {
          "base_uri": "https://localhost:8080/"
        },
        "id": "YMSVi3-QMGY4",
        "outputId": "d3870375-5390-4370-bdce-56912eccac31"
      },
      "execution_count": 62,
      "outputs": [
        {
          "output_type": "stream",
          "name": "stdout",
          "text": [
            "(257) 563-7401\n",
            "(372) 587-2335\n",
            "(786) 713-8616\n",
            "(793) 151-6230\n",
            "(492) 709-6392\n",
            "(654) 393-5734\n",
            "(404) 960-3807\n",
            "(314) 244-6306\n",
            "(947) 278-5929\n",
            "(684) 579-1879\n",
            "(389) 737-2852\n",
            "(660) 663-4518\n",
            "(608) 265-2215\n",
            "(959) 119-8364\n",
            "(468) 353-2641\n",
            "(248) 675-4007\n",
            "(939) 353-1107\n",
            "(570) 873-7090\n",
            "(302) 259-2375\n",
            "(717) 450-4729\n",
            "(453) 391-4650\n",
            "(559) 104-5475\n",
            "(387) 142-9434\n",
            "(516) 745-4496\n",
            "(326) 677-3419\n",
            "(746) 679-2470\n",
            "(455) 430-0989\n",
            "(490) 936-4694\n",
            "(985) 834-8285\n",
            "(662) 661-1446\n",
            "(802) 668-8240\n",
            "(477) 768-9247\n",
            "(791) 239-9057\n",
            "(832) 109-0213\n",
            "(837) 196-3274\n",
            "(268) 442-2428\n",
            "(850) 676-5117\n",
            "(861) 546-5032\n",
            "(176) 805-4108\n",
            "(715) 912-6931\n",
            "(993) 554-0563\n",
            "(357) 616-5411\n",
            "(121) 347-0086\n",
            "(304) 506-6314\n",
            "(425) 288-2332\n",
            "(145) 987-4962\n",
            "(187) 582-9707\n",
            "(750) 558-3965\n",
            "(492) 467-3131\n",
            "(774) 914-2510\n",
            "(888) 106-8550\n",
            "(539) 567-3573\n",
            "(693) 337-2849\n",
            "(545) 604-9386\n",
            "(221) 156-5026\n",
            "(414) 876-0865\n",
            "(932) 726-8645\n",
            "(726) 710-9826\n",
            "(622) 594-1662\n",
            "(948) 600-8503\n",
            "(605) 900-7508\n",
            "(716) 977-5775\n",
            "(368) 239-8275\n",
            "(725) 342-0650\n",
            "(711) 993-5187\n",
            "(882) 399-5084\n",
            "(287) 755-9948\n",
            "(659) 551-3389\n",
            "(275) 730-6868\n",
            "(725) 757-4047\n",
            "(314) 882-1496\n",
            "(639) 360-7590\n",
            "(168) 222-1592\n",
            "(896) 303-1164\n",
            "(203) 982-6130\n",
            "(906) 217-1470\n",
            "(614) 514-1269\n",
            "(763) 409-5446\n",
            "(836) 292-5324\n",
            "(926) 709-3295\n",
            "(963) 356-9268\n",
            "(736) 522-8584\n",
            "(410) 483-0352\n",
            "(252) 204-1434\n",
            "(874) 886-4174\n",
            "(581) 379-7573\n",
            "(983) 632-8597\n",
            "(295) 983-3476\n",
            "(873) 392-8802\n",
            "(360) 669-3923\n",
            "(840) 987-9449\n",
            "(422) 517-6053\n",
            "(126) 940-2753\n",
            "(427) 930-5255\n",
            "(689) 721-5145\n",
            "(676) 334-2174\n",
            "(437) 994-5270\n",
            "(564) 908-6970\n",
            "(577) 333-6244\n",
            "(655) 840-6139\n"
          ]
        }
      ]
    },
    {
      "cell_type": "code",
      "source": [],
      "metadata": {
        "id": "CkvEwd8gOjHt"
      },
      "execution_count": null,
      "outputs": []
    }
  ]
}