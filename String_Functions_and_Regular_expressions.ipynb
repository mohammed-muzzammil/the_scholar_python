{
  "nbformat": 4,
  "nbformat_minor": 0,
  "metadata": {
    "colab": {
      "provenance": []
    },
    "kernelspec": {
      "name": "python3",
      "display_name": "Python 3"
    },
    "language_info": {
      "name": "python"
    }
  },
  "cells": [
    {
      "cell_type": "code",
      "execution_count": 1,
      "metadata": {
        "id": "7I0d8hHYwOQX"
      },
      "outputs": [],
      "source": [
        "# Python String Functions"
      ]
    },
    {
      "cell_type": "code",
      "source": [
        "# Lstrip() # Remove the white spaces from the left side of the string\n",
        "# Rstrip # Remove the white spaces from the right side\n",
        "\n",
        "str1 = \"    Hello\"\n",
        "print(str1.lstrip())"
      ],
      "metadata": {
        "colab": {
          "base_uri": "https://localhost:8080/"
        },
        "id": "QabU8qN1wWZi",
        "outputId": "e4d1e601-525a-4c91-a313-de11b62ed5a3"
      },
      "execution_count": 3,
      "outputs": [
        {
          "output_type": "stream",
          "name": "stdout",
          "text": [
            "Hello\n"
          ]
        }
      ]
    },
    {
      "cell_type": "code",
      "source": [
        "# Function to find the city is available using lstrip\n",
        "\n",
        "def find_city(city_name):\n",
        "  city_list = [\"Mumbai\", \"Delhi\", \"Banglore\", \"Chennai\"]\n",
        "\n",
        "  if city_name.lstrip() in city_list:\n",
        "    print(\"The city is available\")\n",
        "\n",
        "  else:\n",
        "    print(\"city is not available\")\n",
        "\n",
        "city_name = input(\"Please enter a city name\")\n",
        "find_city(city_name)"
      ],
      "metadata": {
        "colab": {
          "base_uri": "https://localhost:8080/"
        },
        "id": "nWG3JSFfyWp1",
        "outputId": "05b7557a-838f-47f8-e12a-e7417679e31b"
      },
      "execution_count": 6,
      "outputs": [
        {
          "output_type": "stream",
          "name": "stdout",
          "text": [
            "Please enter a city name        Mumbai\n",
            "The city is available\n"
          ]
        }
      ]
    },
    {
      "cell_type": "code",
      "source": [
        "# Function to find the city is available rstrip\n",
        "\n",
        "def find_city(city_name):\n",
        "  city_list = [\"Mumbai\", \"Delhi\", \"Banglore\", \"Chennai\"]\n",
        "\n",
        "  if city_name.rstrip() in city_list:\n",
        "    print(\"The city is available\")\n",
        "\n",
        "  else:\n",
        "    print(\"city is not available\")\n",
        "\n",
        "city_name = input(\"Please enter a city name\")\n",
        "find_city(city_name)"
      ],
      "metadata": {
        "colab": {
          "base_uri": "https://localhost:8080/"
        },
        "id": "wA5B7se4zHhs",
        "outputId": "c0289345-3dbe-4a39-aeaf-752a699c1aab"
      },
      "execution_count": 7,
      "outputs": [
        {
          "output_type": "stream",
          "name": "stdout",
          "text": [
            "Please enter a city nameMumbai  \n",
            "The city is available\n"
          ]
        }
      ]
    },
    {
      "cell_type": "code",
      "source": [
        "# Function to find the city is available using both\n",
        "\n",
        "def find_city(city_name):\n",
        "  city_list = [\"Mumbai\", \"Delhi\", \"Banglore\", \"Chennai\"]\n",
        "  city_name = city_name.lstrip() \n",
        "  city_name = city_name.rstrip()\n",
        "\n",
        "  if city_name in city_list:\n",
        "    print(\"The city is available\")\n",
        "\n",
        "  else:\n",
        "    print(\"city is not available\")\n",
        "\n",
        "city_name = input(\"Please enter a city name\")\n",
        "find_city(city_name)"
      ],
      "metadata": {
        "colab": {
          "base_uri": "https://localhost:8080/"
        },
        "id": "zOe2D0ZFz06o",
        "outputId": "d7f5d9f4-6b14-4483-e7ed-700b2e5b489f"
      },
      "execution_count": 8,
      "outputs": [
        {
          "output_type": "stream",
          "name": "stdout",
          "text": [
            "Please enter a city name     Mumbai  \n",
            "The city is available\n"
          ]
        }
      ]
    },
    {
      "cell_type": "code",
      "source": [
        "# Find Function\n",
        "\n",
        "\n",
        "str1 = \"Hello my name is Muzzammil\"\n",
        "\n",
        "str1.find('xml')"
      ],
      "metadata": {
        "colab": {
          "base_uri": "https://localhost:8080/"
        },
        "id": "Ukr2UvOt0Htc",
        "outputId": "040a9989-01b4-4fc9-ff2a-c710402ca20a"
      },
      "execution_count": 10,
      "outputs": [
        {
          "output_type": "execute_result",
          "data": {
            "text/plain": [
              "-1"
            ]
          },
          "metadata": {},
          "execution_count": 10
        }
      ]
    },
    {
      "cell_type": "code",
      "source": [
        "# Input: a4b3c2\n",
        "\n",
        "# Output: aaaabbbcc\n",
        "\n",
        "\n",
        "def generate_string(input_string):\n",
        "  number_list = []\n",
        "  alphabet_list = []\n",
        "  final_str = \"\"\n",
        "\n",
        "  for i in input_string:\n",
        "\n",
        "    if i.isdigit():\n",
        "\n",
        "      number_list.append(int(i))\n",
        "\n",
        "    elif i.isalpha():\n",
        "\n",
        "      alphabet_list.append(i)\n",
        "\n",
        "    \n",
        "  for num in range(len(number_list)):\n",
        "    final_str = final_str + (alphabet_list[num] * number_list[num])\n",
        "\n",
        "  print(final_str)\n",
        "    \n",
        "\n",
        "\n",
        "\n",
        "generate_string(\"a4b3c2\")"
      ],
      "metadata": {
        "colab": {
          "base_uri": "https://localhost:8080/"
        },
        "id": "SDPjle8f0rDJ",
        "outputId": "3199ea47-8bac-40de-a803-c4e48417648b"
      },
      "execution_count": 15,
      "outputs": [
        {
          "output_type": "stream",
          "name": "stdout",
          "text": [
            "aaaabbbcc\n"
          ]
        }
      ]
    },
    {
      "cell_type": "code",
      "source": [
        "# input: s1: john\n",
        "        #s2: Jame\n",
        "\n",
        "# Output: jjoahmne\n",
        "\n",
        "def func2(str1, str2):\n",
        "  final_str = \"\"\n",
        "  for i in range(len(str1)):\n",
        "    final_str += str1[i] + str2[i]\n",
        "\n",
        "  print(final_str)\n",
        "\n",
        "func2(\"john\", \"Jame\")\n",
        "\n",
        "\n",
        "\n",
        "\n"
      ],
      "metadata": {
        "colab": {
          "base_uri": "https://localhost:8080/"
        },
        "id": "oM0ngoQJ2lXg",
        "outputId": "559744d0-4ea3-4ad3-ea19-07bb8f3a90b6"
      },
      "execution_count": 20,
      "outputs": [
        {
          "output_type": "stream",
          "name": "stdout",
          "text": [
            "jJoahmne\n"
          ]
        }
      ]
    },
    {
      "cell_type": "code",
      "source": [
        "# Assgiment Questions\n",
        "\n",
        "# 1\n",
        "\n",
        "# input: Thescholar\n",
        "#.       0123456789\n",
        "# Output: # Even Character Index\n",
        "            # Tecoa\n",
        "\n",
        "          # Odd Character Index\n",
        "          # hshlr\n",
        "\n",
        "\n",
        "# 2 \n",
        "\n",
        "# Input: b4a1d3\n",
        "# output: abd134\n"
      ],
      "metadata": {
        "id": "OZqDWPB95x1I"
      },
      "execution_count": 22,
      "outputs": []
    },
    {
      "cell_type": "markdown",
      "source": [
        "# REGULAR EXPRESSION"
      ],
      "metadata": {
        "id": "m6QetAB27_qg"
      }
    },
    {
      "cell_type": "code",
      "source": [
        "# Installing the packages\n",
        "!pip install pandas"
      ],
      "metadata": {
        "colab": {
          "base_uri": "https://localhost:8080/"
        },
        "id": "aTvGreJG6tTU",
        "outputId": "9882cd05-3879-489b-ef6c-3cf76f893808"
      },
      "execution_count": 26,
      "outputs": [
        {
          "output_type": "stream",
          "name": "stdout",
          "text": [
            "Looking in indexes: https://pypi.org/simple, https://us-python.pkg.dev/colab-wheels/public/simple/\n",
            "\u001b[31mERROR: Could not find a version that satisfies the requirement re (from versions: none)\u001b[0m\n",
            "\u001b[31mERROR: No matching distribution found for re\u001b[0m\n"
          ]
        }
      ]
    },
    {
      "cell_type": "code",
      "source": [
        "import re\n",
        "\n",
        "count = 0\n",
        "pattern = re.compile(\"cd\")\n",
        "\n",
        "matcher = pattern.finditer(\"cdcdcdcdcdcdcdcdcdcdcdcdcdcdc\")\n",
        "\n",
        "for match in matcher:\n",
        "  print(\"The start index is \", match.start(), \"The end index is \", match.end(), match.group())"
      ],
      "metadata": {
        "colab": {
          "base_uri": "https://localhost:8080/"
        },
        "id": "Dl44jEXF9cwF",
        "outputId": "821fa6ed-c7ad-4406-829c-b245b05e5a92"
      },
      "execution_count": 28,
      "outputs": [
        {
          "output_type": "stream",
          "name": "stdout",
          "text": [
            "The start index is  0 The end index is  2 cd\n",
            "The start index is  2 The end index is  4 cd\n",
            "The start index is  4 The end index is  6 cd\n",
            "The start index is  6 The end index is  8 cd\n",
            "The start index is  8 The end index is  10 cd\n",
            "The start index is  10 The end index is  12 cd\n",
            "The start index is  12 The end index is  14 cd\n",
            "The start index is  14 The end index is  16 cd\n",
            "The start index is  16 The end index is  18 cd\n",
            "The start index is  18 The end index is  20 cd\n",
            "The start index is  20 The end index is  22 cd\n",
            "The start index is  22 The end index is  24 cd\n",
            "The start index is  24 The end index is  26 cd\n",
            "The start index is  26 The end index is  28 cd\n"
          ]
        }
      ]
    },
    {
      "cell_type": "code",
      "source": [
        "# Pattern \n",
        "\n",
        "# [abc] -> either a or b or c\n",
        "\n",
        "import re\n",
        "\n",
        "count = 0\n",
        "pattern = re.compile(\"[abc]\")\n",
        "\n",
        "matcher = pattern.finditer(\"cdcdcdcdcdcdcdcdcdcdcdcdcdcdcabababa\")\n",
        "\n",
        "for match in matcher:\n",
        "  print(\"The start index is \", match.start(), \"The end index is \", match.end(), match.group())"
      ],
      "metadata": {
        "colab": {
          "base_uri": "https://localhost:8080/"
        },
        "id": "7i4u-owB-Rjm",
        "outputId": "f462b225-2c8d-4f72-f08f-f13ee62e685e"
      },
      "execution_count": 30,
      "outputs": [
        {
          "output_type": "stream",
          "name": "stdout",
          "text": [
            "The start index is  0 The end index is  1 c\n",
            "The start index is  2 The end index is  3 c\n",
            "The start index is  4 The end index is  5 c\n",
            "The start index is  6 The end index is  7 c\n",
            "The start index is  8 The end index is  9 c\n",
            "The start index is  10 The end index is  11 c\n",
            "The start index is  12 The end index is  13 c\n",
            "The start index is  14 The end index is  15 c\n",
            "The start index is  16 The end index is  17 c\n",
            "The start index is  18 The end index is  19 c\n",
            "The start index is  20 The end index is  21 c\n",
            "The start index is  22 The end index is  23 c\n",
            "The start index is  24 The end index is  25 c\n",
            "The start index is  26 The end index is  27 c\n",
            "The start index is  28 The end index is  29 c\n",
            "The start index is  29 The end index is  30 a\n",
            "The start index is  30 The end index is  31 b\n",
            "The start index is  31 The end index is  32 a\n",
            "The start index is  32 The end index is  33 b\n",
            "The start index is  33 The end index is  34 a\n",
            "The start index is  34 The end index is  35 b\n",
            "The start index is  35 The end index is  36 a\n"
          ]
        }
      ]
    },
    {
      "cell_type": "code",
      "source": [
        "# [^abc] -> except a and b and c\n",
        "\n",
        "# [a-z] -> all the small letters from a-z\n",
        "# [A-Z] -> All the upper letters from A-Z\n",
        "# [0-9] -> ALL the digits from 0-9\n",
        "\n"
      ],
      "metadata": {
        "id": "uCGe3d1H_p3O"
      },
      "execution_count": 31,
      "outputs": []
    },
    {
      "cell_type": "code",
      "source": [
        "import re\n",
        "matcher = re.finditer('[acx]', \"a7b@#$%c*&^x\")\n",
        "for i in matcher:\n",
        "  print(i.start(), i.end(), i.group())\n",
        "\n",
        "  \n"
      ],
      "metadata": {
        "colab": {
          "base_uri": "https://localhost:8080/"
        },
        "id": "JSksFK3bAW3k",
        "outputId": "80cc3489-69f2-423f-ae3b-eddb78507f96"
      },
      "execution_count": 32,
      "outputs": [
        {
          "output_type": "stream",
          "name": "stdout",
          "text": [
            "0 1 a\n",
            "7 8 c\n",
            "11 12 x\n"
          ]
        }
      ]
    },
    {
      "cell_type": "code",
      "source": [
        "import re\n",
        "matcher = re.finditer('[a-z]', \"a7b@#$%c*&^x\")\n",
        "for i in matcher:\n",
        "  print(i.start(), i.end(), i.group())\n",
        "\n",
        "  \n"
      ],
      "metadata": {
        "colab": {
          "base_uri": "https://localhost:8080/"
        },
        "id": "ex-iTf4fAwkb",
        "outputId": "0d879fd0-c5be-4d09-e54b-18674faef3c8"
      },
      "execution_count": 33,
      "outputs": [
        {
          "output_type": "stream",
          "name": "stdout",
          "text": [
            "0 1 a\n",
            "2 3 b\n",
            "7 8 c\n",
            "11 12 x\n"
          ]
        }
      ]
    },
    {
      "cell_type": "code",
      "source": [
        "import re\n",
        "matcher = re.finditer('[a-zA-Z0-9]', \"a7b@#$%c*&^xA*&((BSDSD\")\n",
        "for i in matcher:\n",
        "  print(i.start(), i.end(), i.group())\n",
        "\n",
        "  \n"
      ],
      "metadata": {
        "colab": {
          "base_uri": "https://localhost:8080/"
        },
        "id": "Yv52oTKCBKUC",
        "outputId": "d80e2aa9-29c4-4d8a-c125-4bfcfce3f335"
      },
      "execution_count": 37,
      "outputs": [
        {
          "output_type": "stream",
          "name": "stdout",
          "text": [
            "0 1 a\n",
            "1 2 7\n",
            "2 3 b\n",
            "7 8 c\n",
            "11 12 x\n",
            "12 13 A\n",
            "17 18 B\n",
            "18 19 S\n",
            "19 20 D\n",
            "20 21 S\n",
            "21 22 D\n"
          ]
        }
      ]
    },
    {
      "cell_type": "code",
      "source": [
        "# \\s -> Search for space\n",
        "# \\S -> Except the space\n",
        "# \\d -> Search for digits\n",
        "# \\D -> Except for Digits\n",
        "# \\w -> any alphabet\n",
        "# \\W -> Any character except alphanumeric (special chars)\n",
        "\n"
      ],
      "metadata": {
        "id": "_awnwQ9lBOxf"
      },
      "execution_count": 38,
      "outputs": []
    },
    {
      "cell_type": "code",
      "source": [
        "import re\n",
        "\n",
        "matcher = re.finditer(\"\\s\", \"ASCSm.  ASAS.  SDSDSD\")\n",
        "for i in matcher:\n",
        "  print(i.start(), i.end(), i.group())"
      ],
      "metadata": {
        "colab": {
          "base_uri": "https://localhost:8080/"
        },
        "id": "PFzmWmDYC5zC",
        "outputId": "d7a0e86c-80bd-42a5-ea99-5f4997b587ff"
      },
      "execution_count": 39,
      "outputs": [
        {
          "output_type": "stream",
          "name": "stdout",
          "text": [
            "6 7  \n",
            "7 8  \n",
            "13 14  \n",
            "14 15  \n"
          ]
        }
      ]
    },
    {
      "cell_type": "code",
      "source": [
        "import re\n",
        "\n",
        "matcher = re.finditer(\"\\S\", \"ASCSm.  ASAS.  SDSDSD\")\n",
        "for i in matcher:\n",
        "  print(i.start(), i.end(), i.group())"
      ],
      "metadata": {
        "colab": {
          "base_uri": "https://localhost:8080/"
        },
        "id": "RY5CkXWyDKZv",
        "outputId": "e8b9a3c3-acb1-4d5c-c8a4-307529cdc07d"
      },
      "execution_count": 40,
      "outputs": [
        {
          "output_type": "stream",
          "name": "stdout",
          "text": [
            "0 1 A\n",
            "1 2 S\n",
            "2 3 C\n",
            "3 4 S\n",
            "4 5 m\n",
            "5 6 .\n",
            "8 9 A\n",
            "9 10 S\n",
            "10 11 A\n",
            "11 12 S\n",
            "12 13 .\n",
            "15 16 S\n",
            "16 17 D\n",
            "17 18 S\n",
            "18 19 D\n",
            "19 20 S\n",
            "20 21 D\n"
          ]
        }
      ]
    },
    {
      "cell_type": "code",
      "source": [
        "import re\n",
        "\n",
        "matcher = re.finditer(\"\\d\", \"ASCSm.  ASAS.  SDSDSD 232323 2323 2312\")\n",
        "for i in matcher:\n",
        "  print(i.start(), i.end(), i.group())"
      ],
      "metadata": {
        "colab": {
          "base_uri": "https://localhost:8080/"
        },
        "id": "nWXDuhO4DO_e",
        "outputId": "5aa2c422-16bc-4809-af0b-6103ea55ff2d"
      },
      "execution_count": 42,
      "outputs": [
        {
          "output_type": "stream",
          "name": "stdout",
          "text": [
            "22 23 2\n",
            "23 24 3\n",
            "24 25 2\n",
            "25 26 3\n",
            "26 27 2\n",
            "27 28 3\n",
            "29 30 2\n",
            "30 31 3\n",
            "31 32 2\n",
            "32 33 3\n",
            "34 35 2\n",
            "35 36 3\n",
            "36 37 1\n",
            "37 38 2\n"
          ]
        }
      ]
    },
    {
      "cell_type": "code",
      "source": [
        "import re\n",
        "\n",
        "matcher = re.finditer(\"\\W\", \"ASCSm.  ASAS.  SDSDSD 232323 2323 2312 $ % #$#$#(*\")\n",
        "for i in matcher:\n",
        "  print(i.start(), i.end(), i.group())"
      ],
      "metadata": {
        "colab": {
          "base_uri": "https://localhost:8080/"
        },
        "id": "tR09mB4GDXdL",
        "outputId": "53d226a6-fd21-4902-af0a-7d011ad513f0"
      },
      "execution_count": 45,
      "outputs": [
        {
          "output_type": "stream",
          "name": "stdout",
          "text": [
            "5 6 .\n",
            "6 7  \n",
            "7 8  \n",
            "12 13 .\n",
            "13 14  \n",
            "14 15  \n",
            "21 22  \n",
            "28 29  \n",
            "33 34  \n",
            "38 39  \n",
            "39 40 $\n",
            "40 41  \n",
            "41 42 %\n",
            "42 43  \n",
            "43 44 #\n",
            "44 45 $\n",
            "45 46 #\n",
            "46 47 $\n",
            "47 48 #\n",
            "48 49 (\n",
            "49 50 *\n"
          ]
        }
      ]
    },
    {
      "cell_type": "code",
      "source": [],
      "metadata": {
        "id": "osxNTzWODhri"
      },
      "execution_count": null,
      "outputs": []
    }
  ]
}