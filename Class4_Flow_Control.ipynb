{
  "nbformat": 4,
  "nbformat_minor": 0,
  "metadata": {
    "colab": {
      "name": "Class4 Flow Control.ipynb",
      "provenance": []
    },
    "kernelspec": {
      "name": "python3",
      "display_name": "Python 3"
    },
    "language_info": {
      "name": "python"
    }
  },
  "cells": [
    {
      "cell_type": "code",
      "execution_count": null,
      "metadata": {
        "id": "COYbbKI6sA3M"
      },
      "outputs": [],
      "source": [
        "# Flow Control\n",
        "\n",
        "# If and else condition\n",
        "\n",
        "\n",
        "# if (conditions):    if that condition is true\n",
        "  # Result or do something\n",
        "\n",
        "# else:    if that condition is not true\n",
        "  # Do something"
      ]
    },
    {
      "cell_type": "code",
      "source": [
        "a = 12\n",
        "\n",
        "if a == 10:\n",
        "  print(\"A value is 10\")\n",
        "else:\n",
        "  print(\"A values in not 10\")\n",
        "\n"
      ],
      "metadata": {
        "colab": {
          "base_uri": "https://localhost:8080/"
        },
        "id": "dItJR1ewvw4d",
        "outputId": "780b45f5-83c0-4491-e8ea-f0b472a80d64"
      },
      "execution_count": null,
      "outputs": [
        {
          "output_type": "stream",
          "name": "stdout",
          "text": [
            "A values in not 10\n"
          ]
        }
      ]
    },
    {
      "cell_type": "code",
      "source": [
        "# User input example\n",
        "\n",
        "a = int(input(\"Please enter one number\"))\n",
        "\n",
        "if a == 10:\n",
        "  print(\"You have entered the number 10\")\n",
        "\n",
        "else:\n",
        "  print(\"You have not entered the number 10\")\n"
      ],
      "metadata": {
        "colab": {
          "base_uri": "https://localhost:8080/"
        },
        "id": "Sxn2WB5vwAll",
        "outputId": "e533f8d3-c65c-48ee-d50f-79c564437dc5"
      },
      "execution_count": null,
      "outputs": [
        {
          "output_type": "stream",
          "name": "stdout",
          "text": [
            "Please enter one number100\n",
            "You have not entered the number 10\n"
          ]
        }
      ]
    },
    {
      "cell_type": "code",
      "source": [
        "designation = input(\"Please enter your designation\")\n",
        "\n",
        "if designation == \"CEO\":\n",
        "  print(\"Hey boss good evening\")\n",
        "\n",
        "else:\n",
        "  print(\"Good Evening\")"
      ],
      "metadata": {
        "colab": {
          "base_uri": "https://localhost:8080/"
        },
        "id": "n6RD4QE2wofi",
        "outputId": "91b0d56d-121d-44ce-ef44-32bfc9338f94"
      },
      "execution_count": null,
      "outputs": [
        {
          "output_type": "stream",
          "name": "stdout",
          "text": [
            "Please enter your designationManager\n",
            "Good Evening\n"
          ]
        }
      ]
    },
    {
      "cell_type": "code",
      "source": [
        "# Multiple If conditions\n",
        "\n",
        "\n",
        "# If - elif - elif - else\n",
        "\n",
        "\n",
        "# if Condition:\n",
        "  # Do something\n",
        "\n",
        "# elif condition:\n",
        "# Do something\n",
        "\n",
        "# elif condition:\n",
        "# Do something\n",
        "\n",
        "# Else:\n",
        "  # Do something\n",
        "\n",
        "\n",
        "\n",
        "\n",
        "# if - if - if - if - else\n",
        "\n",
        "\n",
        "# if condition:\n",
        "  # \n",
        "# if condition:\n",
        "  #\n",
        "\n",
        "# else:\n",
        "  #\n",
        "\n",
        "# # if - if - if - if - elif - else\n",
        "\n",
        "# if condition:\n",
        "  # \n",
        "\n",
        "# if condition:\n",
        " #\n",
        "# if condition:\n",
        "  #\n",
        "# elif condition:\n",
        "  #\n",
        "\n",
        "\n",
        "\n",
        "\n",
        "\n"
      ],
      "metadata": {
        "id": "_rtCqI_cxZ8G"
      },
      "execution_count": null,
      "outputs": []
    },
    {
      "cell_type": "code",
      "source": [
        "designation = input(\"Please enter your designation\")\n",
        "\n",
        "if designation == \"CEO\":\n",
        "  print(\"Hey boss good evening\")\n",
        "\n",
        "elif designation == \"MANAGER\":\n",
        "  print(\"hey manager Goood evening\")\n",
        "\n",
        "elif designation == \"Project lead\":\n",
        "  print(\"hey project lead Good evening\")\n",
        "\n",
        "elif designation == \"Team Lead\":\n",
        "  print(\"Hey team lead good evening\")\n",
        "\n",
        "else:\n",
        "  print(\"good evening\")\n",
        "\n",
        "  "
      ],
      "metadata": {
        "colab": {
          "base_uri": "https://localhost:8080/"
        },
        "id": "suOsrw6TzKee",
        "outputId": "fc5bad79-41a0-40fc-b1b1-b8476f4cc3cd"
      },
      "execution_count": null,
      "outputs": [
        {
          "output_type": "stream",
          "name": "stdout",
          "text": [
            "Please enter your designationTeam lead\n",
            "good evening\n"
          ]
        }
      ]
    },
    {
      "cell_type": "code",
      "source": [
        "# Even odd example\n",
        "\n",
        "number = int(input(\"Please enter the number\"))\n",
        "\n",
        "if number % 2 == 0:\n",
        "  print(\"The number is even\")\n",
        "\n",
        "if number % 2 == 1:\n",
        "  print(\"The number is odd\")\n",
        "\n",
        "elif number == 0:\n",
        "  print(\"The number is zero\")\n",
        "\n"
      ],
      "metadata": {
        "colab": {
          "base_uri": "https://localhost:8080/"
        },
        "id": "Vq4KOJSvzsCa",
        "outputId": "a4fc6445-1a0a-421b-e7e9-4f298ad9850c"
      },
      "execution_count": null,
      "outputs": [
        {
          "output_type": "stream",
          "name": "stdout",
          "text": [
            "Please enter the number5\n",
            "The number is 0dd\n"
          ]
        }
      ]
    },
    {
      "cell_type": "code",
      "source": [
        "# Pass Fail example\n",
        "\n",
        "\n",
        "percentage = float(input(\"Please enter your percentage\"))\n",
        "\n",
        "if percentage > 35:\n",
        "  print(\"You have passed the exam\")\n",
        "\n",
        "else:\n",
        "  print(\"You have failed the exam\")\n",
        "\n"
      ],
      "metadata": {
        "colab": {
          "base_uri": "https://localhost:8080/"
        },
        "id": "4ATOGQtT1ApE",
        "outputId": "d191e768-4d42-45ad-fc39-3459342af61c"
      },
      "execution_count": null,
      "outputs": [
        {
          "output_type": "stream",
          "name": "stdout",
          "text": [
            "Please enter your percentage34.8\n",
            "You have failed the exam\n"
          ]
        }
      ]
    },
    {
      "cell_type": "code",
      "source": [
        "#\n",
        "\n",
        "\n",
        "course_1 = input(\"Please enter the course name you have completed\")\n",
        "course_2 = input(\"Please enter the another course name you have completed\")\n",
        "\n",
        "if course_1 == \"SQL\" and course_2 == \"STATS\":\n",
        "  print(\"You are eligible for the python course\")\n",
        "\n",
        "elif course_1 == \"SQL\" or course_2 == \"STATS\":\n",
        "  print(\"You are eligible but please complete both the course\")\n",
        "\n",
        "else:\n",
        "  print(\"You are not eligible\")"
      ],
      "metadata": {
        "colab": {
          "base_uri": "https://localhost:8080/"
        },
        "id": "U51fQzjV2yBI",
        "outputId": "677527e9-7870-41d5-b76c-fe3b86a67d5f"
      },
      "execution_count": null,
      "outputs": [
        {
          "output_type": "stream",
          "name": "stdout",
          "text": [
            "Please enter the course name you have completedSTATS\n",
            "Please enter the another course name you have completedSQL\n",
            "You are not eligible\n"
          ]
        }
      ]
    },
    {
      "cell_type": "code",
      "source": [
        "# Very correct approach \n",
        "\n",
        "\n",
        "course_1 = input(\"Please enter the course name you have completed\")\n",
        "course_2 = input(\"Please enter the another course name you have completed\")\n",
        "\n",
        "course_list = [\"SQL\", \"STATS\"]\n",
        "\n",
        "if course_1 in course_list and course_2 in course_list:\n",
        "  print(\"You are eligible for the python course\")\n",
        "\n",
        "elif course_1 in course_list or course_2 in course_list:\n",
        "  print(\"You are eligible but please complete both the course\")\n",
        "\n",
        "else:\n",
        "  print(\"You are not eligible\")"
      ],
      "metadata": {
        "colab": {
          "base_uri": "https://localhost:8080/"
        },
        "id": "WsG17C0f3yn9",
        "outputId": "6264c812-2c69-486a-bfaf-eb82850c6875"
      },
      "execution_count": null,
      "outputs": [
        {
          "output_type": "stream",
          "name": "stdout",
          "text": [
            "Please enter the course name you have completedSTATS\n",
            "Please enter the another course name you have completedSQL\n",
            "You are eligible for the python course\n"
          ]
        }
      ]
    },
    {
      "cell_type": "code",
      "source": [
        "# Flow Control\n",
        "\n",
        "\n",
        "# For loop \n",
        "\n",
        "# Doing a single thing again and again for a specified number of time\n",
        "\n",
        "\n",
        "list_1 = [0, 1, 2, 3, 4, 5, 6, 7]\n",
        "\n",
        "for i in list_1:\n",
        "  print(i)\n",
        "\n",
        "# Syntax\n",
        "\n",
        "# for variable in iterable. \n",
        "\n",
        "\n",
        "\n"
      ],
      "metadata": {
        "colab": {
          "base_uri": "https://localhost:8080/"
        },
        "id": "SIQXCLm-4kwq",
        "outputId": "22442214-f019-4cd2-b365-90435b1c8ca1"
      },
      "execution_count": null,
      "outputs": [
        {
          "output_type": "stream",
          "name": "stdout",
          "text": [
            "0\n",
            "1\n",
            "2\n",
            "3\n",
            "4\n",
            "5\n",
            "6\n",
            "7\n"
          ]
        }
      ]
    },
    {
      "cell_type": "code",
      "source": [
        "# for i in range(10, 20):\n",
        "#   print(i)\n",
        "\n",
        "\n",
        "for i in range(1, 21, 2):\n",
        "  print(i)"
      ],
      "metadata": {
        "colab": {
          "base_uri": "https://localhost:8080/"
        },
        "id": "HpLoUgHm6ual",
        "outputId": "e6f7dcc6-9b7a-4d3a-e596-33cc17eb401c"
      },
      "execution_count": null,
      "outputs": [
        {
          "output_type": "stream",
          "name": "stdout",
          "text": [
            "1\n",
            "3\n",
            "5\n",
            "7\n",
            "9\n",
            "11\n",
            "13\n",
            "15\n",
            "17\n",
            "19\n"
          ]
        }
      ]
    },
    {
      "cell_type": "code",
      "source": [
        "for i in range(10):\n",
        "  if i == 5:\n",
        "    print(\"Five\")\n",
        "  else:\n",
        "    print(i)\n",
        "\n"
      ],
      "metadata": {
        "colab": {
          "base_uri": "https://localhost:8080/"
        },
        "id": "jozJG4s37SVA",
        "outputId": "d2481519-f6be-46ba-883d-4d758a99cae2"
      },
      "execution_count": null,
      "outputs": [
        {
          "output_type": "stream",
          "name": "stdout",
          "text": [
            "0\n",
            "1\n",
            "2\n",
            "3\n",
            "4\n",
            "Five\n",
            "6\n",
            "7\n",
            "8\n",
            "9\n"
          ]
        }
      ]
    },
    {
      "cell_type": "code",
      "source": [
        "list_1 = [0, 1, 2, 2, 3, 4, 5, 4]\n",
        "\n",
        "list_1.count(2)\n",
        "\n"
      ],
      "metadata": {
        "colab": {
          "base_uri": "https://localhost:8080/"
        },
        "id": "ETwsPYyf8KE3",
        "outputId": "ad8a014b-ed27-435b-8705-6bca14f73293"
      },
      "execution_count": null,
      "outputs": [
        {
          "output_type": "execute_result",
          "data": {
            "text/plain": [
              "2"
            ]
          },
          "metadata": {},
          "execution_count": 50
        }
      ]
    },
    {
      "cell_type": "code",
      "source": [
        "list_1 = [0, 1, 2, 2, 3, 4, 5, 4, 4]\n",
        "\n",
        "for i in list_1:\n",
        "  if list_1.count(i) > 1:\n",
        "    print(i, \"This is a duplicate\", \"and it is repeating \" , list_1.count(i), \"number of times\")\n"
      ],
      "metadata": {
        "colab": {
          "base_uri": "https://localhost:8080/"
        },
        "id": "YZ_sT-iu9v1x",
        "outputId": "53317e00-bbbb-4ae8-be6e-9ab73c2e33c3"
      },
      "execution_count": null,
      "outputs": [
        {
          "output_type": "stream",
          "name": "stdout",
          "text": [
            "2 This is a duplicate and it is repeating  2 number of times\n",
            "2 This is a duplicate and it is repeating  2 number of times\n",
            "4 This is a duplicate and it is repeating  3 number of times\n",
            "4 This is a duplicate and it is repeating  3 number of times\n",
            "4 This is a duplicate and it is repeating  3 number of times\n"
          ]
        }
      ]
    },
    {
      "cell_type": "code",
      "source": [
        "str_1 = \"This is a string\"\n",
        "\n",
        "for i in str_1:\n",
        "  print(i)\n",
        "\n"
      ],
      "metadata": {
        "colab": {
          "base_uri": "https://localhost:8080/"
        },
        "id": "u4pMjVKP_8kX",
        "outputId": "99f56dc0-7da0-48fe-e16d-04145862ce83"
      },
      "execution_count": null,
      "outputs": [
        {
          "output_type": "stream",
          "name": "stdout",
          "text": [
            "T\n",
            "h\n",
            "i\n",
            "s\n",
            " \n",
            "i\n",
            "s\n",
            " \n",
            "a\n",
            " \n",
            "s\n",
            "t\n",
            "r\n",
            "i\n",
            "n\n",
            "g\n"
          ]
        }
      ]
    },
    {
      "cell_type": "code",
      "source": [
        "str_1 = \"This is a string\"\n",
        "\n",
        "\n",
        "count = 0\n",
        "\n",
        "for i in str_1:\n",
        "  count = count + 1\n",
        "\n",
        "print(count)"
      ],
      "metadata": {
        "colab": {
          "base_uri": "https://localhost:8080/"
        },
        "id": "JLzQVjUfAwYY",
        "outputId": "9b922ee4-1c64-4f78-c60d-ecdfa0bc0d6b"
      },
      "execution_count": null,
      "outputs": [
        {
          "output_type": "stream",
          "name": "stdout",
          "text": [
            "16\n"
          ]
        }
      ]
    },
    {
      "cell_type": "code",
      "source": [
        "list_1 = [0, 100, 34, 45, 23, 54, 42]\n",
        "\n",
        "for i in range(len(list_1)):\n",
        "  print(i)\n",
        "\n",
        "print(\"\\n\")\n",
        "\n",
        "for i in list_1:\n",
        "  print(i)\n"
      ],
      "metadata": {
        "colab": {
          "base_uri": "https://localhost:8080/"
        },
        "id": "zhbxZzT2BMsc",
        "outputId": "0f8e9e39-18d0-41e3-c81a-e2d2d7c7153d"
      },
      "execution_count": null,
      "outputs": [
        {
          "output_type": "stream",
          "name": "stdout",
          "text": [
            "0\n",
            "1\n",
            "2\n",
            "3\n",
            "4\n",
            "5\n",
            "6\n",
            "\n",
            "\n",
            "0\n",
            "100\n",
            "34\n",
            "45\n",
            "23\n",
            "54\n",
            "42\n"
          ]
        }
      ]
    },
    {
      "cell_type": "code",
      "source": [
        "# While Loop\n",
        "\n",
        "# Iterate until a condition is met\n",
        "\n",
        "# While (condition):\n",
        "# Do something\n",
        "\n",
        "# it will run until the condition is true\n",
        "\n",
        "\n",
        "x = 0\n",
        "\n",
        "while(x<10):\n",
        "  print(x)\n",
        "  x = x + 1\n",
        "\n"
      ],
      "metadata": {
        "colab": {
          "base_uri": "https://localhost:8080/"
        },
        "id": "2Ja1UymvCEkZ",
        "outputId": "4aa8434b-9e04-404b-9790-48a7261cd163"
      },
      "execution_count": null,
      "outputs": [
        {
          "output_type": "stream",
          "name": "stdout",
          "text": [
            "0\n",
            "1\n",
            "2\n",
            "3\n",
            "4\n",
            "5\n",
            "6\n",
            "7\n",
            "8\n",
            "9\n"
          ]
        }
      ]
    },
    {
      "cell_type": "code",
      "source": [
        "\n",
        "coupon = 5\n",
        "\n",
        "utilized = 0\n",
        "\n",
        "while utilized <= 5:\n",
        "  print(\"Total coupon left are\", coupon - utilized)\n",
        "\n",
        "  utilized = utilized + 1\n",
        "\n",
        "print(\"No coupon left\")\n",
        "\n"
      ],
      "metadata": {
        "colab": {
          "base_uri": "https://localhost:8080/"
        },
        "id": "5RTldAIpDmjU",
        "outputId": "031b08c3-b7d0-494e-cb3e-bd5c8fe0618c"
      },
      "execution_count": null,
      "outputs": [
        {
          "output_type": "stream",
          "name": "stdout",
          "text": [
            "Total coupon left are 5\n",
            "Total coupon left are 4\n",
            "Total coupon left are 3\n",
            "Total coupon left are 2\n",
            "Total coupon left are 1\n",
            "Total coupon left are 0\n",
            "No coupon left\n"
          ]
        }
      ]
    },
    {
      "cell_type": "code",
      "source": [
        "# ONE more method to solve the duplicate problem\n",
        "list_1 = [1, 2, 2, 3, 4, 5, 4, 4]\n",
        "\n",
        "count = 0\n",
        "value = 2\n",
        "\n",
        "for i in list_1:\n",
        "\n",
        "  if value == i:\n",
        "    count = count + 1\n",
        "\n",
        "if count>1:\n",
        "  print(value, \"is a duplicate\")\n",
        "\n",
        "\n",
        "\n",
        "\n",
        "\n"
      ],
      "metadata": {
        "colab": {
          "base_uri": "https://localhost:8080/"
        },
        "id": "CWAQqMqEESBl",
        "outputId": "49d8bc55-a08d-4c6b-b694-b66e038f0323"
      },
      "execution_count": null,
      "outputs": [
        {
          "output_type": "stream",
          "name": "stdout",
          "text": [
            "2 is a duplicate\n"
          ]
        }
      ]
    },
    {
      "cell_type": "code",
      "source": [],
      "metadata": {
        "id": "2rMM9OKzG0mh"
      },
      "execution_count": null,
      "outputs": []
    }
  ]
}