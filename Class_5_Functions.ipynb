{
  "nbformat": 4,
  "nbformat_minor": 0,
  "metadata": {
    "colab": {
      "name": "Class 5 Functions.ipynb",
      "provenance": [],
      "collapsed_sections": []
    },
    "kernelspec": {
      "name": "python3",
      "display_name": "Python 3"
    },
    "language_info": {
      "name": "python"
    }
  },
  "cells": [
    {
      "cell_type": "code",
      "execution_count": 1,
      "metadata": {
        "id": "2PIiUGvK1a7F"
      },
      "outputs": [],
      "source": [
        "# Functions\n"
      ]
    },
    {
      "cell_type": "code",
      "source": [
        "# When we are writing a big program and we want to reuse it again and again then instead of copy pasting the same code we can create a function \n",
        "# out of it and call it.\n",
        "\n",
        "# Code resuablity is the biggest advantage\n",
        "\n"
      ],
      "metadata": {
        "id": "1DB7QsUk1s3r"
      },
      "execution_count": 2,
      "outputs": []
    },
    {
      "cell_type": "code",
      "source": [
        "print(\"Hello Good evening\")"
      ],
      "metadata": {
        "colab": {
          "base_uri": "https://localhost:8080/"
        },
        "id": "o3VKlsyO5FKf",
        "outputId": "b677f823-284c-40ff-c0e2-4989b98a39f9"
      },
      "execution_count": 3,
      "outputs": [
        {
          "output_type": "stream",
          "name": "stdout",
          "text": [
            "Hello Good evening\n"
          ]
        }
      ]
    },
    {
      "cell_type": "code",
      "source": [
        "# User defined functions\n",
        "def greeting():\n",
        "  print(\"Hello good evening\")\n",
        "\n"
      ],
      "metadata": {
        "id": "QZgduF_-5Q2t"
      },
      "execution_count": 4,
      "outputs": []
    },
    {
      "cell_type": "code",
      "source": [
        "greeting()"
      ],
      "metadata": {
        "colab": {
          "base_uri": "https://localhost:8080/"
        },
        "id": "w0GQpFYa5qv7",
        "outputId": "9f970ac1-3568-473a-d571-04d0a51ebe6c"
      },
      "execution_count": 5,
      "outputs": [
        {
          "output_type": "stream",
          "name": "stdout",
          "text": [
            "Hello good evening\n"
          ]
        }
      ]
    },
    {
      "cell_type": "code",
      "source": [
        "greeting()"
      ],
      "metadata": {
        "colab": {
          "base_uri": "https://localhost:8080/"
        },
        "id": "AOcBbh245xu-",
        "outputId": "29a5b499-ef9b-4d88-f696-76da831f4bbd"
      },
      "execution_count": 6,
      "outputs": [
        {
          "output_type": "stream",
          "name": "stdout",
          "text": [
            "Hello good evening\n"
          ]
        }
      ]
    },
    {
      "cell_type": "code",
      "source": [
        "# Inbuilt Functions\n",
        "\n",
        "# print()\n",
        "# len()\n",
        "# count()\n",
        "# id()\n",
        "# input()\n",
        "# map()\n"
      ],
      "metadata": {
        "id": "xpcvNQaA5zsu"
      },
      "execution_count": 7,
      "outputs": []
    },
    {
      "cell_type": "code",
      "source": [
        "# name - is a parameter or argument \n",
        "# the process is called as paramter passing\n",
        "def greeting(name):\n",
        "  print(\"hello \", name)\n",
        "\n",
        "\n",
        "greeting(input(\"please enter your name\"))\n"
      ],
      "metadata": {
        "colab": {
          "base_uri": "https://localhost:8080/"
        },
        "id": "WwfPSaAj6-oe",
        "outputId": "c08f52dc-c9f4-425c-bcac-31496c972113"
      },
      "execution_count": 19,
      "outputs": [
        {
          "output_type": "stream",
          "name": "stdout",
          "text": [
            "please enter your nameAmit\n",
            "hello  Amit\n"
          ]
        }
      ]
    },
    {
      "cell_type": "code",
      "source": [
        "# square of a value function\n",
        "\n",
        "\n",
        "# it will take a value as a argument and it will print the square of that value\n",
        "\n",
        "def square(x):\n",
        "  return x * x\n",
        "\n",
        "\n"
      ],
      "metadata": {
        "id": "jISM4ATj7nwj"
      },
      "execution_count": 30,
      "outputs": []
    },
    {
      "cell_type": "code",
      "source": [
        "square(10)"
      ],
      "metadata": {
        "colab": {
          "base_uri": "https://localhost:8080/"
        },
        "id": "8qXwa3YP9RmX",
        "outputId": "f94543ca-8798-4628-cd8c-013c471db5f0"
      },
      "execution_count": 23,
      "outputs": [
        {
          "output_type": "stream",
          "name": "stdout",
          "text": [
            "The square of the value is 100\n"
          ]
        }
      ]
    },
    {
      "cell_type": "code",
      "source": [
        "# A function to add 2 numbers\n",
        "\n",
        "\n",
        "def add(a, b):\n",
        "  c = a + b\n",
        "  return c\n",
        "\n",
        "result = add(10, 10)"
      ],
      "metadata": {
        "id": "RW04ik7t9V-P"
      },
      "execution_count": 27,
      "outputs": []
    },
    {
      "cell_type": "code",
      "source": [
        "result_square = square(result)"
      ],
      "metadata": {
        "id": "WGFHNJxP-Qd7"
      },
      "execution_count": 32,
      "outputs": []
    },
    {
      "cell_type": "code",
      "source": [
        "# Types of Argument\n",
        "# Positional Argument\n",
        "# Keyword Argument\n",
        "# Defualt Argument"
      ],
      "metadata": {
        "id": "rXzlB2K0_OX6"
      },
      "execution_count": null,
      "outputs": []
    },
    {
      "cell_type": "code",
      "source": [
        "# Positional Argument\n",
        "def ex(a, b):\n",
        "  print(a)\n",
        "  print(b)\n",
        "\n",
        "ex(10, 20)\n",
        "\n"
      ],
      "metadata": {
        "colab": {
          "base_uri": "https://localhost:8080/"
        },
        "id": "YrwZoEs8-5r6",
        "outputId": "ede1af6e-0532-4a91-c5d0-5c7d526f37cd"
      },
      "execution_count": 35,
      "outputs": [
        {
          "output_type": "stream",
          "name": "stdout",
          "text": [
            "10\n",
            "20\n"
          ]
        }
      ]
    },
    {
      "cell_type": "code",
      "source": [
        "# Keyword Argument\n",
        "\n",
        "\n",
        "def ex_key(a, b):\n",
        "  print(a)\n",
        "  print(b)\n",
        "\n",
        "ex(b=10, a=20)"
      ],
      "metadata": {
        "colab": {
          "base_uri": "https://localhost:8080/"
        },
        "id": "d6AT-NcZAIln",
        "outputId": "dd0c24fa-fc1e-4cbc-bf5b-34bf752858fe"
      },
      "execution_count": 37,
      "outputs": [
        {
          "output_type": "stream",
          "name": "stdout",
          "text": [
            "20\n",
            "10\n"
          ]
        }
      ]
    },
    {
      "cell_type": "code",
      "source": [
        "def ex_def(a, b=None):\n",
        "  print(a)\n",
        "  print(b)\n",
        "\n",
        "ex_def(10, 30)"
      ],
      "metadata": {
        "colab": {
          "base_uri": "https://localhost:8080/"
        },
        "id": "ZvovmNDQAhc3",
        "outputId": "f0cbb90f-16a8-4c57-b836-9645f7021f8e"
      },
      "execution_count": 40,
      "outputs": [
        {
          "output_type": "stream",
          "name": "stdout",
          "text": [
            "10\n",
            "30\n"
          ]
        }
      ]
    },
    {
      "cell_type": "code",
      "source": [
        "def fact(n):\n",
        "  result = 1\n",
        "  while n>=1:\n",
        "    result = result * n\n",
        "    n = n - 1\n",
        "\n",
        "  return result\n",
        "\n"
      ],
      "metadata": {
        "id": "xAGP9dkvA-D0"
      },
      "execution_count": 41,
      "outputs": []
    },
    {
      "cell_type": "code",
      "source": [
        "fact(5)"
      ],
      "metadata": {
        "colab": {
          "base_uri": "https://localhost:8080/"
        },
        "id": "T863h7N5CoOu",
        "outputId": "2f2587a9-8a9b-4d03-bbc9-67633ad78d55"
      },
      "execution_count": 42,
      "outputs": [
        {
          "output_type": "execute_result",
          "data": {
            "text/plain": [
              "120"
            ]
          },
          "metadata": {},
          "execution_count": 42
        }
      ]
    },
    {
      "cell_type": "code",
      "source": [
        "# Types of variables\n",
        "\n",
        "# Global variable\n",
        "# Local Variable"
      ],
      "metadata": {
        "id": "Xuxd6wAACp1z"
      },
      "execution_count": 43,
      "outputs": []
    },
    {
      "cell_type": "code",
      "source": [
        "b = 5  # Global Variable\n",
        "\n",
        "def func_1(a):\n",
        "  b = 7 # Local Variable\n",
        "  print(a * b)\n",
        "\n",
        "# Local Varibles always overrides the global variable\n"
      ],
      "metadata": {
        "id": "oaTENNxSDnWn"
      },
      "execution_count": 49,
      "outputs": []
    },
    {
      "cell_type": "code",
      "source": [
        "func_1(5)"
      ],
      "metadata": {
        "colab": {
          "base_uri": "https://localhost:8080/"
        },
        "id": "us6kKCKnDsWl",
        "outputId": "ea29cccc-d058-4347-ac9e-e0a407f053cc"
      },
      "execution_count": 50,
      "outputs": [
        {
          "output_type": "stream",
          "name": "stdout",
          "text": [
            "35\n"
          ]
        }
      ]
    },
    {
      "cell_type": "code",
      "source": [
        "def func_2():\n",
        "  print(\"defining a local variable\")\n",
        "  v = 10 # Local variable\n",
        "  print(v)\n",
        "\n"
      ],
      "metadata": {
        "id": "rOWC0gabDute"
      },
      "execution_count": 51,
      "outputs": []
    },
    {
      "cell_type": "code",
      "source": [
        "func_2()"
      ],
      "metadata": {
        "colab": {
          "base_uri": "https://localhost:8080/"
        },
        "id": "Z-xSTyY7EfpV",
        "outputId": "1b7b09b3-18ed-48f3-b10f-70774f9ec8de"
      },
      "execution_count": 55,
      "outputs": [
        {
          "output_type": "stream",
          "name": "stdout",
          "text": [
            "defining a local variable\n"
          ]
        }
      ]
    },
    {
      "cell_type": "code",
      "source": [
        "def func_3():\n",
        "  print(\"defining a local variable\")\n",
        "  v = 10\n",
        "  global p\n",
        "  p = 20\n",
        "  print(v)\n",
        "\n"
      ],
      "metadata": {
        "id": "jm6yPLnxEjAt"
      },
      "execution_count": 59,
      "outputs": []
    },
    {
      "cell_type": "code",
      "source": [
        "func_3()\n",
        "\n",
        "print(p)"
      ],
      "metadata": {
        "colab": {
          "base_uri": "https://localhost:8080/"
        },
        "id": "zpG5e2qrFPMM",
        "outputId": "1cf57f4e-2772-48e7-a937-684f1434ac14"
      },
      "execution_count": 60,
      "outputs": [
        {
          "output_type": "stream",
          "name": "stdout",
          "text": [
            "defining a local variable\n",
            "10\n",
            "20\n"
          ]
        }
      ]
    },
    {
      "cell_type": "code",
      "source": [
        "# Lambda Function - one line function\n",
        "\n",
        "\n",
        "def square(n):\n",
        "  return n * n\n",
        "\n",
        "\n",
        "square(10)\n",
        "\n"
      ],
      "metadata": {
        "colab": {
          "base_uri": "https://localhost:8080/"
        },
        "id": "LkQQ80GmFRQi",
        "outputId": "6a0e00eb-3c0f-4e52-d968-f50376b258f1"
      },
      "execution_count": 61,
      "outputs": [
        {
          "output_type": "execute_result",
          "data": {
            "text/plain": [
              "100"
            ]
          },
          "metadata": {},
          "execution_count": 61
        }
      ]
    },
    {
      "cell_type": "code",
      "source": [
        "sq = lambda n: n*n\n"
      ],
      "metadata": {
        "id": "FQqss-t2GVqM"
      },
      "execution_count": 62,
      "outputs": []
    },
    {
      "cell_type": "code",
      "source": [
        "sq(10)"
      ],
      "metadata": {
        "colab": {
          "base_uri": "https://localhost:8080/"
        },
        "id": "JptlbFIBGp-W",
        "outputId": "f4e9d1e4-67eb-4cc5-87c7-e974fa67a203"
      },
      "execution_count": 65,
      "outputs": [
        {
          "output_type": "execute_result",
          "data": {
            "text/plain": [
              "100"
            ]
          },
          "metadata": {},
          "execution_count": 65
        }
      ]
    },
    {
      "cell_type": "code",
      "source": [
        "sum_1 = lambda a,b: a+b\n",
        "\n"
      ],
      "metadata": {
        "id": "0kk6qksmGrV-"
      },
      "execution_count": 69,
      "outputs": []
    },
    {
      "cell_type": "code",
      "source": [
        "sum_1(10,20)"
      ],
      "metadata": {
        "colab": {
          "base_uri": "https://localhost:8080/"
        },
        "id": "1KPqgAJYHFzD",
        "outputId": "5ed150a5-dc02-4bdc-f9a4-1618f4f67e8c"
      },
      "execution_count": 70,
      "outputs": [
        {
          "output_type": "execute_result",
          "data": {
            "text/plain": [
              "30"
            ]
          },
          "metadata": {},
          "execution_count": 70
        }
      ]
    },
    {
      "cell_type": "code",
      "source": [
        "# Filter function\n",
        "# in build function\n",
        "\n",
        "\n",
        "# filter(func, iterable)"
      ],
      "metadata": {
        "id": "JgkMvOlYHHVM"
      },
      "execution_count": 71,
      "outputs": []
    },
    {
      "cell_type": "code",
      "source": [
        "def is_even(x):\n",
        "  if x % 2 == 0:\n",
        "    return True\n",
        "  else:\n",
        "    return False\n",
        "\n"
      ],
      "metadata": {
        "id": "WWmW3ZqXHlUn"
      },
      "execution_count": 72,
      "outputs": []
    },
    {
      "cell_type": "code",
      "source": [
        "l = [2,3,4,5,6,7,8,9,12,3434,655,346454]"
      ],
      "metadata": {
        "id": "j2V63A2DHybo"
      },
      "execution_count": 75,
      "outputs": []
    },
    {
      "cell_type": "code",
      "source": [
        "list_even = filter(is_even, l)"
      ],
      "metadata": {
        "id": "bRlux09iH0MK"
      },
      "execution_count": 76,
      "outputs": []
    },
    {
      "cell_type": "code",
      "source": [
        "print(list(list_even))"
      ],
      "metadata": {
        "colab": {
          "base_uri": "https://localhost:8080/"
        },
        "id": "Etut8UO2ISIy",
        "outputId": "8e8785fa-a75e-4166-ad98-4957e7ad2790"
      },
      "execution_count": 78,
      "outputs": [
        {
          "output_type": "stream",
          "name": "stdout",
          "text": [
            "[2, 4, 6, 8, 12, 3434, 346454]\n"
          ]
        }
      ]
    },
    {
      "cell_type": "code",
      "source": [
        "# Nested Functions\n",
        "\n",
        "def outer():\n",
        "\n",
        "  print(\"Outer function is running\")\n",
        "\n",
        "  def inner():\n",
        "\n",
        "    print(\"Inner function is running\")\n",
        "\n",
        "  inner()\n",
        "\n"
      ],
      "metadata": {
        "id": "hICBmeDlIUd4"
      },
      "execution_count": 89,
      "outputs": []
    },
    {
      "cell_type": "code",
      "source": [
        "def f2(list_1):\n",
        "  print(list_1)\n",
        "\n",
        "\n",
        "list_2 = [10, 20, 30, 40]\n",
        "f2(list_2)"
      ],
      "metadata": {
        "colab": {
          "base_uri": "https://localhost:8080/"
        },
        "id": "znkgAeACI3WY",
        "outputId": "c2160cee-6ee1-4f30-af11-b17081c62fc8"
      },
      "execution_count": 90,
      "outputs": [
        {
          "output_type": "stream",
          "name": "stdout",
          "text": [
            "[10, 20, 30, 40]\n"
          ]
        }
      ]
    },
    {
      "cell_type": "code",
      "source": [
        "# To Create a function\n",
        "\n",
        "# The function will take a list as a parameter\n",
        "\n",
        "# you need to print all the even values from that list using the for loop\n",
        "\n",
        "\n",
        "\n"
      ],
      "metadata": {
        "id": "lA68Acd9JUJU"
      },
      "execution_count": 91,
      "outputs": []
    },
    {
      "cell_type": "code",
      "source": [
        "def func_3(list_1):\n",
        "  for i in list_1:\n",
        "    if i % 2 == 0:\n",
        "      print(i)\n",
        "\n",
        "func_3([12,23,45,23,543,23,565,7565,53, 44,32,78])"
      ],
      "metadata": {
        "colab": {
          "base_uri": "https://localhost:8080/"
        },
        "id": "R1-DIIGpN_KP",
        "outputId": "e184149b-dec5-4cdb-e779-53675dafa179"
      },
      "execution_count": 94,
      "outputs": [
        {
          "output_type": "stream",
          "name": "stdout",
          "text": [
            "12\n",
            "44\n",
            "32\n",
            "78\n"
          ]
        }
      ]
    },
    {
      "cell_type": "code",
      "source": [],
      "metadata": {
        "id": "yKcTRkCsOTTr"
      },
      "execution_count": null,
      "outputs": []
    }
  ]
}