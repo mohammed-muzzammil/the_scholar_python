{
  "nbformat": 4,
  "nbformat_minor": 0,
  "metadata": {
    "colab": {
      "provenance": []
    },
    "kernelspec": {
      "name": "python3",
      "display_name": "Python 3"
    },
    "language_info": {
      "name": "python"
    }
  },
  "cells": [
    {
      "cell_type": "code",
      "execution_count": null,
      "metadata": {
        "id": "uptEMGk_57fw"
      },
      "outputs": [],
      "source": [
        "# Types of variable in OOPS\n",
        "  # Instance Variable\n",
        "  # Static Variable\n",
        "\n",
        "# Static Variable \n",
        "\n",
        "# When we have a variable in which the values are not changing(static) then it is a good idea to make it as a static variable\n",
        "# The same copy of the variable is used across all the instances(objects) of the class, new copies are not created\n",
        "\n",
        "class Test: \n",
        "  a = 20\n",
        "  def __init__(self): \n",
        "    pass\n"
      ]
    },
    {
      "cell_type": "code",
      "source": [
        "Test.a # This is how you can use a static variable"
      ],
      "metadata": {
        "colab": {
          "base_uri": "https://localhost:8080/"
        },
        "id": "QpaCKioa6wc8",
        "outputId": "b0f26f36-166d-4e6e-81af-90f006da20d4"
      },
      "execution_count": null,
      "outputs": [
        {
          "output_type": "execute_result",
          "data": {
            "text/plain": [
              "20"
            ]
          },
          "metadata": {},
          "execution_count": 8
        }
      ]
    },
    {
      "cell_type": "code",
      "source": [
        "obj_1 = Test()\n",
        "obj_1.a"
      ],
      "metadata": {
        "colab": {
          "base_uri": "https://localhost:8080/"
        },
        "id": "vb99bf-c60ew",
        "outputId": "831cbe8c-d3c6-432b-9062-6dc7ab147ea0"
      },
      "execution_count": null,
      "outputs": [
        {
          "output_type": "execute_result",
          "data": {
            "text/plain": [
              "10"
            ]
          },
          "metadata": {},
          "execution_count": 6
        }
      ]
    },
    {
      "cell_type": "code",
      "source": [
        "# How to modify the value of static variable\n",
        "\n",
        "Test.a = 30"
      ],
      "metadata": {
        "id": "yHX9rylM7sRs"
      },
      "execution_count": null,
      "outputs": []
    },
    {
      "cell_type": "code",
      "source": [
        "Test.a\n"
      ],
      "metadata": {
        "colab": {
          "base_uri": "https://localhost:8080/"
        },
        "id": "2Xgk6pin8Vep",
        "outputId": "b0345497-96ac-4754-f7e6-1d9c4648d15d"
      },
      "execution_count": null,
      "outputs": [
        {
          "output_type": "execute_result",
          "data": {
            "text/plain": [
              "30"
            ]
          },
          "metadata": {},
          "execution_count": 10
        }
      ]
    },
    {
      "cell_type": "code",
      "source": [
        "# Types of Functions/Methods in OOPS\n",
        "  # Instance Method (Object Related method)\n",
        "  # Static Method\n",
        "  # Class Method"
      ],
      "metadata": {
        "id": "4j9f0ZmG8W_g"
      },
      "execution_count": null,
      "outputs": []
    },
    {
      "cell_type": "code",
      "source": [
        "# Instance Method\n",
        "# Setter Method - to set the values\n",
        "# Getter Method -  to get the values\n",
        "\n",
        "class Student:\n",
        "  def SetName(self, name):\n",
        "    self.name = name\n",
        "\n",
        "  def GetName(self):\n",
        "    return self.name\n",
        "\n",
        "  def SetMarks(self, marks):\n",
        "    self.marks = marks\n",
        "\n",
        "  def GetMarks(self):\n",
        "    return self.marks\n",
        "\n",
        "\n",
        "\n",
        "object_list = []\n",
        "for i in range(3):\n",
        "  s = Student()\n",
        "  name = input(\"Please enter the name of the student \")\n",
        "  marks = input(\"Please enter the marks of the student \")\n",
        "\n",
        "  s.SetName(name)\n",
        "  s.SetMarks(marks)\n",
        "  object_list.append(s)\n",
        "\n",
        "for i in object_list:\n",
        "  print(\"Student Name \", i.GetName())\n",
        "  print(\"Student Marks \", i.GetMarks())\n",
        "\n"
      ],
      "metadata": {
        "colab": {
          "base_uri": "https://localhost:8080/"
        },
        "id": "RhqkgMj39J0v",
        "outputId": "af30c2bf-ba0a-472f-d275-2585dadfac41"
      },
      "execution_count": null,
      "outputs": [
        {
          "output_type": "stream",
          "name": "stdout",
          "text": [
            "Please enter the name of the student ABC\n",
            "Please enter the marks of the student 96\n",
            "Please enter the name of the student DEF\n",
            "Please enter the marks of the student 89\n",
            "Please enter the name of the student XYZ\n",
            "Please enter the marks of the student 78\n",
            "Student Name  ABC\n",
            "Student Marks  96\n",
            "Student Name  DEF\n",
            "Student Marks  89\n",
            "Student Name  XYZ\n",
            "Student Marks  78\n"
          ]
        }
      ]
    },
    {
      "cell_type": "code",
      "source": [
        "# Class Method\n",
        "\n",
        "# When we have a method in which we are only defining and using the static variables then it is a good idea to declare the method as class method \n",
        "\n",
        "# Atleast one instance variable in method (Instance Method)\n",
        "# Only static variables (Class Method)\n",
        "\n",
        "# TO define class method we use @classmethod decorator on top on the method\n",
        "# to call the class method we use the class name\n",
        "\n",
        "\n"
      ],
      "metadata": {
        "id": "QxXrqnjh-4To"
      },
      "execution_count": null,
      "outputs": []
    },
    {
      "cell_type": "code",
      "source": [
        "class Employee:\n",
        "  total_emp = 10\n",
        "\n",
        "  @classmethod\n",
        "  def tot_emp(cls, comp_name):\n",
        "    print(\"{} company has {} number of employees\".format(comp_name, cls.total_emp))\n",
        "\n"
      ],
      "metadata": {
        "id": "LSeOjkL4AZS1"
      },
      "execution_count": null,
      "outputs": []
    },
    {
      "cell_type": "code",
      "source": [],
      "metadata": {
        "id": "lc7DHw_yC9KY"
      },
      "execution_count": null,
      "outputs": []
    },
    {
      "cell_type": "code",
      "source": [
        "Employee.tot_emp('The Scholar')"
      ],
      "metadata": {
        "colab": {
          "base_uri": "https://localhost:8080/"
        },
        "id": "n8wPrDDZA64S",
        "outputId": "83fe4997-12b0-443a-d735-38722ab6658b"
      },
      "execution_count": null,
      "outputs": [
        {
          "output_type": "stream",
          "name": "stdout",
          "text": [
            "The Scholar company has 10 number of employees\n"
          ]
        }
      ]
    },
    {
      "cell_type": "code",
      "source": [
        "# Static Method\n",
        "# It is a general utility method\n",
        "# If we are not using any static variable or any instance varible then it a static method\n",
        "\n",
        "# @staticmethod (optional)\n",
        "\n",
        "\n",
        "\n"
      ],
      "metadata": {
        "id": "lkFp4vyUC-FK"
      },
      "execution_count": null,
      "outputs": []
    },
    {
      "cell_type": "code",
      "source": [
        "class Maths:\n",
        "  \n",
        "  def add(x,y):\n",
        "    return x+y\n",
        "\n",
        "  def sub(x,y):\n",
        "    return x-y\n",
        "\n",
        "  def mul(x,y):\n",
        "    return x*y\n",
        "\n"
      ],
      "metadata": {
        "id": "D-5hKgCMB_Dn"
      },
      "execution_count": null,
      "outputs": []
    },
    {
      "cell_type": "code",
      "source": [
        "Maths.add(10,10)"
      ],
      "metadata": {
        "colab": {
          "base_uri": "https://localhost:8080/"
        },
        "id": "03cstPPQCNhf",
        "outputId": "3ae2ed63-4812-462c-d90e-56fd7afb93ce"
      },
      "execution_count": null,
      "outputs": [
        {
          "output_type": "execute_result",
          "data": {
            "text/plain": [
              "20"
            ]
          },
          "metadata": {},
          "execution_count": 21
        }
      ]
    },
    {
      "cell_type": "code",
      "source": [
        "# Inheritance"
      ],
      "metadata": {
        "id": "uXkfcijfCP8w"
      },
      "execution_count": null,
      "outputs": []
    },
    {
      "cell_type": "code",
      "source": [
        "# Single Level Inheritance\n",
        "\n",
        "\n",
        "class Engine:  # Parent class # Base Class\n",
        "\n",
        "  def print_engine_cc(self, engine_cc):\n",
        "    self.engine_cc = engine_cc\n",
        "    print(\"The Engine CC is {}\".format(self.engine_cc))\n",
        "\n",
        "class Car(Engine): # Child class # Derived Class\n",
        "  def __init__(self, color, mileage):\n",
        "    self.color = color\n",
        "    self.mileage = mileage\n",
        "\n",
        "  def print_car_details(self):\n",
        "    print(\"Color of the car is {} and the mileage is {}\".format(self.color, self.mileage))\n",
        "\n",
        "\n"
      ],
      "metadata": {
        "id": "PiG7Z5lqDckI"
      },
      "execution_count": null,
      "outputs": []
    },
    {
      "cell_type": "code",
      "source": [
        "c = Car(\"red\", 12)\n",
        "c.print_car_details()\n",
        "c.print_engine_cc(1200)"
      ],
      "metadata": {
        "colab": {
          "base_uri": "https://localhost:8080/"
        },
        "id": "uA2HLjVdEmoG",
        "outputId": "8099a509-0b14-447f-d029-45c8aeedeb5b"
      },
      "execution_count": null,
      "outputs": [
        {
          "output_type": "stream",
          "name": "stdout",
          "text": [
            "Color of the car is red and the mileage is 12\n",
            "The Engine CC is 1200\n"
          ]
        }
      ]
    },
    {
      "cell_type": "code",
      "source": [
        "class Animal:\n",
        "  def speak(self):\n",
        "    print(\"Animal is speaking\")"
      ],
      "metadata": {
        "id": "t6S6GkMOEvqh"
      },
      "execution_count": null,
      "outputs": []
    },
    {
      "cell_type": "code",
      "source": [
        "class Dog(Animal): # A child class methods gets priority over the parent class methods\n",
        "  def speak(self):\n",
        "    print(\"A Dog in barking\")"
      ],
      "metadata": {
        "id": "bqYHNZT7E4nv"
      },
      "execution_count": null,
      "outputs": []
    },
    {
      "cell_type": "code",
      "source": [
        "dog_1 = Dog()"
      ],
      "metadata": {
        "id": "1YOmpatzIjjo"
      },
      "execution_count": null,
      "outputs": []
    },
    {
      "cell_type": "code",
      "source": [
        "dog_1.speak()"
      ],
      "metadata": {
        "colab": {
          "base_uri": "https://localhost:8080/"
        },
        "id": "vdyg7ykTIonA",
        "outputId": "cdd028be-6eb5-4c47-9dd0-694b0c53d871"
      },
      "execution_count": null,
      "outputs": [
        {
          "output_type": "stream",
          "name": "stdout",
          "text": [
            "A Dog in barking\n"
          ]
        }
      ]
    },
    {
      "cell_type": "code",
      "source": [
        "# Multi level inheritance \n",
        "\n",
        "#   Class 1\n",
        "#.   | \n",
        "#.  Class 2(Class 1)\n",
        "#.   |\n",
        "#   Class 3(Class 2). (Class 1 and Class 2)\n"
      ],
      "metadata": {
        "id": "nP6k3zElIq02"
      },
      "execution_count": null,
      "outputs": []
    },
    {
      "cell_type": "code",
      "source": [
        "class Animal:\n",
        "  def speak(self):\n",
        "    print(\"Animal is speaking\")\n",
        "\n",
        "class Dog(Animal):\n",
        "  def bark(self):\n",
        "    print(\"Dog is barking\")\n",
        "\n",
        "class DogChild(Dog):\n",
        "  def eat(self):\n",
        "    print(\"Dog Child is eating\")\n",
        "\n"
      ],
      "metadata": {
        "id": "bRo7E0dgItmb"
      },
      "execution_count": null,
      "outputs": []
    },
    {
      "cell_type": "code",
      "source": [
        "d = DogChild()"
      ],
      "metadata": {
        "id": "3SWAUtM-Kbrl"
      },
      "execution_count": null,
      "outputs": []
    },
    {
      "cell_type": "code",
      "source": [
        "d.eat()"
      ],
      "metadata": {
        "colab": {
          "base_uri": "https://localhost:8080/"
        },
        "id": "xdWsiwppKfRO",
        "outputId": "6b6087fc-2d9b-4bc6-813d-593a6fde30d4"
      },
      "execution_count": null,
      "outputs": [
        {
          "output_type": "stream",
          "name": "stdout",
          "text": [
            "Dog Child is eating\n"
          ]
        }
      ]
    },
    {
      "cell_type": "code",
      "source": [
        "d.bark()"
      ],
      "metadata": {
        "id": "ZK8yxuQsKiy2",
        "outputId": "1452715a-1642-43b4-efcf-60bf2a08a862",
        "colab": {
          "base_uri": "https://localhost:8080/"
        }
      },
      "execution_count": null,
      "outputs": [
        {
          "output_type": "stream",
          "name": "stdout",
          "text": [
            "Dog is barking\n"
          ]
        }
      ]
    },
    {
      "cell_type": "code",
      "source": [
        "d.speak()"
      ],
      "metadata": {
        "id": "-rbUaE2EKklB",
        "outputId": "62de0c06-29c4-4a79-8bf5-13649b53a15a",
        "colab": {
          "base_uri": "https://localhost:8080/"
        }
      },
      "execution_count": null,
      "outputs": [
        {
          "output_type": "stream",
          "name": "stdout",
          "text": [
            "Animal is speaking\n"
          ]
        }
      ]
    },
    {
      "cell_type": "code",
      "source": [],
      "metadata": {
        "id": "gb6YnP6XKn55"
      },
      "execution_count": null,
      "outputs": []
    }
  ]
}