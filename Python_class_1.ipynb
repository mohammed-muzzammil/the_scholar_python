{
  "nbformat": 4,
  "nbformat_minor": 0,
  "metadata": {
    "colab": {
      "name": "Python_class_1.ipynb",
      "provenance": [],
      "collapsed_sections": []
    },
    "kernelspec": {
      "name": "python3",
      "display_name": "Python 3"
    },
    "language_info": {
      "name": "python"
    }
  },
  "cells": [
    {
      "cell_type": "code",
      "execution_count": null,
      "metadata": {
        "id": "ZoEiNwZbj3VV"
      },
      "outputs": [],
      "source": [
        "# How to install Python"
      ]
    },
    {
      "cell_type": "code",
      "source": [
        "# Python Identifiers / Variables\n",
        "# Variables or identifiers are nothing but a name given to the values in python\n",
        "x = 10\n",
        "name = \"Muzzammil\"\n",
        "NAME = \"MUZZAMMIL\"\n",
        "n123 = \"Digits with alpha\"\n",
        "_my_name = \"Muzzammil\"\n",
        "\n",
        "\n",
        "\n",
        "print(NAME)\n"
      ],
      "metadata": {
        "colab": {
          "base_uri": "https://localhost:8080/"
        },
        "id": "LRqoSluzkEfR",
        "outputId": "07794ee4-fe32-440b-9ddb-1e0821aae425"
      },
      "execution_count": null,
      "outputs": [
        {
          "output_type": "stream",
          "name": "stdout",
          "text": [
            "MUZZAMMIL\n",
            "10\n"
          ]
        }
      ]
    },
    {
      "cell_type": "code",
      "source": [
        "# Rules to follow while defining an identifier\n",
        "\n",
        "# Alphabets ( both or upper or lower case)\n",
        "# Digits (identifer name should always start with a alphabet, Then digits are followed)\n",
        "# Underscores are allowed \"_\""
      ],
      "metadata": {
        "id": "UwlKNClZkQdN"
      },
      "execution_count": null,
      "outputs": []
    },
    {
      "cell_type": "code",
      "source": [
        "# DATA TYPES\n",
        "\n",
        "# 10 - Integer or int\n",
        "# \"Muzzammil\" - String or str\n",
        "# True or False - Boolean bool\n",
        "# 10.35 - Float or float\n",
        "\n"
      ],
      "metadata": {
        "id": "6evy-6m3wV5K"
      },
      "execution_count": null,
      "outputs": []
    },
    {
      "cell_type": "code",
      "source": [
        "x = 10\n",
        "name = \"Muzzammil\"\n",
        "boolean_data_type = True\n",
        "floating_data_type = 10.30"
      ],
      "metadata": {
        "id": "v6t4d1csxIoV"
      },
      "execution_count": null,
      "outputs": []
    },
    {
      "cell_type": "code",
      "source": [
        "# Date\n",
        "\n",
        "date = \"13/08/2022\"\n",
        "print(date)"
      ],
      "metadata": {
        "colab": {
          "base_uri": "https://localhost:8080/"
        },
        "id": "liqiLkTHxZd-",
        "outputId": "8d5068ad-a4cd-47c8-d5cf-b7605603b77b"
      },
      "execution_count": null,
      "outputs": [
        {
          "output_type": "stream",
          "name": "stdout",
          "text": [
            "13/08/2022\n"
          ]
        }
      ]
    },
    {
      "cell_type": "code",
      "source": [
        "# Collection Data Types\n",
        "# Collecting all the data in a single place\n",
        "\n",
        "# List\n",
        "\n",
        "l = [10, 20, 30, \"Muzzammil\", True, 10.78]\n",
        "print(l)\n",
        "\n",
        "grocery_list = [\"Onion\", \"Dals\", \"Dhaniya\", \"Detergent Powder\", 10, 20]\n",
        "print(type(grocery_list))\n",
        "\n",
        "duplicated_list = [10,10,10,10]\n",
        "print(duplicated_list)\n",
        "\n",
        "# Attributes of lists\n",
        "\n",
        "# insertion order is preserved\n",
        "# Duplicates are allowed\n",
        "# Hetrogeneous data types are allowed\n",
        "# Growable in nature"
      ],
      "metadata": {
        "colab": {
          "base_uri": "https://localhost:8080/"
        },
        "id": "GocvF0V7xmmf",
        "outputId": "70ad0b48-5b4b-4afb-c8d6-7ae53d8ae229"
      },
      "execution_count": null,
      "outputs": [
        {
          "output_type": "stream",
          "name": "stdout",
          "text": [
            "[10, 20, 30, 'Muzzammil', True, 10.78]\n",
            "<class 'list'>\n",
            "[10, 10, 10, 10]\n"
          ]
        }
      ]
    },
    {
      "cell_type": "code",
      "source": [
        "# Features of list\n",
        "# Indexing - indexing always start with 0, so for example is you want to access first element then you have to give 0.\n",
        "# print(l[3])\n",
        "\n",
        "# Reverse Indexing\n",
        "\n",
        "#print(l[-2])\n",
        "\n",
        "# For Range indexing you have to add 1 to the upper range always and lower range you have to substract it by 1\n",
        "\n",
        "print(l[1:5])\n",
        "\n",
        "\n"
      ],
      "metadata": {
        "colab": {
          "base_uri": "https://localhost:8080/"
        },
        "id": "dZUOE4ygzSo1",
        "outputId": "51f1f505-b3c8-4acf-8c01-4c996175bc17"
      },
      "execution_count": null,
      "outputs": [
        {
          "output_type": "stream",
          "name": "stdout",
          "text": [
            "[20, 30, 'Muzzammil', True]\n"
          ]
        }
      ]
    },
    {
      "cell_type": "code",
      "source": [
        "# Features or functions that comes with the string data type\n",
        "string = \"Muzzammil123\""
      ],
      "metadata": {
        "id": "qvjgBFDc3KCP"
      },
      "execution_count": 28,
      "outputs": []
    },
    {
      "cell_type": "code",
      "source": [
        "print(string.find('s'))"
      ],
      "metadata": {
        "colab": {
          "base_uri": "https://localhost:8080/"
        },
        "id": "JpbHVSiczAkj",
        "outputId": "71cfee37-7c59-4bfa-d7c1-5a50419b5bc4"
      },
      "execution_count": 15,
      "outputs": [
        {
          "output_type": "stream",
          "name": "stdout",
          "text": [
            "-1\n"
          ]
        }
      ]
    },
    {
      "cell_type": "code",
      "source": [
        "print(string.count('M'))"
      ],
      "metadata": {
        "colab": {
          "base_uri": "https://localhost:8080/"
        },
        "id": "_J3K19hozJnS",
        "outputId": "21829bda-fbc4-4299-d1df-3f7d7eaee52e"
      },
      "execution_count": 17,
      "outputs": [
        {
          "output_type": "stream",
          "name": "stdout",
          "text": [
            "1\n"
          ]
        }
      ]
    },
    {
      "cell_type": "code",
      "source": [
        "print(string.capitalize())"
      ],
      "metadata": {
        "colab": {
          "base_uri": "https://localhost:8080/"
        },
        "id": "4xT9ragG1U66",
        "outputId": "8aa2b05e-01fe-4364-ae38-5197b10d0ec0"
      },
      "execution_count": 21,
      "outputs": [
        {
          "output_type": "stream",
          "name": "stdout",
          "text": [
            "Muzzammil\n"
          ]
        }
      ]
    },
    {
      "cell_type": "code",
      "source": [
        "string.isalnum()"
      ],
      "metadata": {
        "colab": {
          "base_uri": "https://localhost:8080/"
        },
        "id": "8XuaqNTW2v_X",
        "outputId": "b64102fc-58f5-4c26-97f8-13d1d8135258"
      },
      "execution_count": 30,
      "outputs": [
        {
          "output_type": "execute_result",
          "data": {
            "text/plain": [
              "True"
            ]
          },
          "metadata": {},
          "execution_count": 30
        }
      ]
    },
    {
      "cell_type": "code",
      "source": [
        "list_1 = [10, 20, 30, 5, 6]"
      ],
      "metadata": {
        "id": "am1SejMM3IkU"
      },
      "execution_count": 42,
      "outputs": []
    },
    {
      "cell_type": "code",
      "source": [
        "list_1.append(50)"
      ],
      "metadata": {
        "id": "Qe90UYQA3Yoh"
      },
      "execution_count": 35,
      "outputs": []
    },
    {
      "cell_type": "code",
      "source": [
        "print(list_1)"
      ],
      "metadata": {
        "colab": {
          "base_uri": "https://localhost:8080/"
        },
        "id": "ipZR2Xet5hNB",
        "outputId": "06eef86a-7913-4356-d286-88ff8b055325"
      },
      "execution_count": 36,
      "outputs": [
        {
          "output_type": "stream",
          "name": "stdout",
          "text": [
            "[10, 20, 30, 'Name', 'Region', True, 'Appended Value', 50]\n"
          ]
        }
      ]
    },
    {
      "cell_type": "code",
      "source": [
        "print(list_1.sort())"
      ],
      "metadata": {
        "colab": {
          "base_uri": "https://localhost:8080/"
        },
        "id": "PnKZ7UTU5jQp",
        "outputId": "e68c865d-a3b2-4c8f-ba35-70481b545479"
      },
      "execution_count": 50,
      "outputs": [
        {
          "output_type": "stream",
          "name": "stdout",
          "text": [
            "None\n"
          ]
        }
      ]
    },
    {
      "cell_type": "code",
      "source": [
        "print(list_1)"
      ],
      "metadata": {
        "colab": {
          "base_uri": "https://localhost:8080/"
        },
        "id": "mNtP66S759JL",
        "outputId": "f450d83a-97df-4fdf-9fc3-f7f18b8ae94e"
      },
      "execution_count": 51,
      "outputs": [
        {
          "output_type": "stream",
          "name": "stdout",
          "text": [
            "[5, 6, 10, 20, 30]\n"
          ]
        }
      ]
    },
    {
      "cell_type": "code",
      "source": [
        "list_1.insert(3, 11)"
      ],
      "metadata": {
        "id": "9mnMnSpp6QYI"
      },
      "execution_count": 54,
      "outputs": []
    },
    {
      "cell_type": "code",
      "source": [
        "print(list_1)"
      ],
      "metadata": {
        "colab": {
          "base_uri": "https://localhost:8080/"
        },
        "id": "DoLv7zqh7LGq",
        "outputId": "4a0646fd-8a2e-4856-e15f-2ffd4ddbf13d"
      },
      "execution_count": 55,
      "outputs": [
        {
          "output_type": "stream",
          "name": "stdout",
          "text": [
            "[9, 5, 6, 11, 10, 20, 30]\n"
          ]
        }
      ]
    },
    {
      "cell_type": "code",
      "source": [
        "list_1.remove(6)"
      ],
      "metadata": {
        "id": "z8J2fvGZ7MuY"
      },
      "execution_count": 62,
      "outputs": []
    },
    {
      "cell_type": "code",
      "source": [
        "print(list_1)"
      ],
      "metadata": {
        "colab": {
          "base_uri": "https://localhost:8080/"
        },
        "id": "1lbVx1Nn7tOQ",
        "outputId": "981bf413-d662-4bb6-918e-c7b33d024b2f"
      },
      "execution_count": 63,
      "outputs": [
        {
          "output_type": "stream",
          "name": "stdout",
          "text": [
            "[5, 10, 20, 30]\n"
          ]
        }
      ]
    },
    {
      "cell_type": "code",
      "source": [
        "list_1.pop()"
      ],
      "metadata": {
        "colab": {
          "base_uri": "https://localhost:8080/"
        },
        "id": "0OTp9ENa73AR",
        "outputId": "e50fdc04-16de-4d76-b705-bc5796e687c4"
      },
      "execution_count": 66,
      "outputs": [
        {
          "output_type": "execute_result",
          "data": {
            "text/plain": [
              "20"
            ]
          },
          "metadata": {},
          "execution_count": 66
        }
      ]
    },
    {
      "cell_type": "code",
      "source": [
        "print(list_1)"
      ],
      "metadata": {
        "colab": {
          "base_uri": "https://localhost:8080/"
        },
        "id": "i-8ifJTw8OTK",
        "outputId": "470be4af-5521-47df-ade5-ad208926d302"
      },
      "execution_count": 67,
      "outputs": [
        {
          "output_type": "stream",
          "name": "stdout",
          "text": [
            "[5, 10]\n"
          ]
        }
      ]
    },
    {
      "cell_type": "code",
      "source": [
        "list_2 = [10,20, 10]\n"
      ],
      "metadata": {
        "id": "JLDQPzZw8Q5M"
      },
      "execution_count": 71,
      "outputs": []
    },
    {
      "cell_type": "code",
      "source": [
        "list_2.remove(10)"
      ],
      "metadata": {
        "id": "BtfeF-dZ8yYq"
      },
      "execution_count": 72,
      "outputs": []
    },
    {
      "cell_type": "code",
      "source": [
        "print(list_2)"
      ],
      "metadata": {
        "colab": {
          "base_uri": "https://localhost:8080/"
        },
        "id": "mFMwhwfP810P",
        "outputId": "50862d8e-6b36-4811-de64-6b736cb8d1d9"
      },
      "execution_count": 73,
      "outputs": [
        {
          "output_type": "stream",
          "name": "stdout",
          "text": [
            "[20, 10]\n"
          ]
        }
      ]
    },
    {
      "cell_type": "code",
      "source": [
        "# Collection Data Type - Tuple\n",
        "\n",
        "# Tuple is a collection data type which is immutable - immutable meaning that it cannot be changed once defined\n"
      ],
      "metadata": {
        "id": "byQQln46839u"
      },
      "execution_count": 74,
      "outputs": []
    },
    {
      "cell_type": "code",
      "source": [
        "my_tuple = (10,10,20,30,40, \"MyString\")"
      ],
      "metadata": {
        "id": "rNLEX4FW9XN1"
      },
      "execution_count": 82,
      "outputs": []
    },
    {
      "cell_type": "code",
      "source": [
        "my_tuple"
      ],
      "metadata": {
        "colab": {
          "base_uri": "https://localhost:8080/"
        },
        "id": "CbAKslff9gJw",
        "outputId": "d3d13717-fbaa-413c-ddf8-bb6e02924916"
      },
      "execution_count": 84,
      "outputs": [
        {
          "output_type": "execute_result",
          "data": {
            "text/plain": [
              "(10, 10, 20, 30, 40, 'MyString')"
            ]
          },
          "metadata": {},
          "execution_count": 84
        }
      ]
    },
    {
      "cell_type": "code",
      "source": [
        "# Sets\n",
        "# Insertion order is not preserved\n",
        "# Duplicates are not allowed in set\n",
        "# Mutable\n",
        "# Indexing and slicing are not possible\n",
        "# Hetrogenous data is allowed\n",
        "\n",
        "set_1 = {10, 20, 30, 10, 20}"
      ],
      "metadata": {
        "id": "SweSYaeW9jBy"
      },
      "execution_count": 92,
      "outputs": []
    },
    {
      "cell_type": "code",
      "source": [
        "# Features of set\n",
        "set_2 = {23, 34, 453, 23}\n",
        "print(set_1.difference(set_2))"
      ],
      "metadata": {
        "colab": {
          "base_uri": "https://localhost:8080/"
        },
        "id": "O4hCTC8D_KY-",
        "outputId": "2fb49c6e-cb90-425f-ca2e-3585c668d3cf"
      },
      "execution_count": 102,
      "outputs": [
        {
          "output_type": "stream",
          "name": "stdout",
          "text": [
            "{10, 20, 30}\n"
          ]
        }
      ]
    },
    {
      "cell_type": "code",
      "source": [
        "print(set_1)"
      ],
      "metadata": {
        "colab": {
          "base_uri": "https://localhost:8080/"
        },
        "id": "NVjy2Zo__Mfg",
        "outputId": "620592e5-5a2a-4ae6-9625-8a2ccf67cac1"
      },
      "execution_count": 97,
      "outputs": [
        {
          "output_type": "stream",
          "name": "stdout",
          "text": [
            "{10, 20, 30}\n"
          ]
        }
      ]
    },
    {
      "cell_type": "code",
      "source": [
        "print(set_2)"
      ],
      "metadata": {
        "colab": {
          "base_uri": "https://localhost:8080/"
        },
        "id": "hUrx4KlSAoD4",
        "outputId": "5321e79a-35a7-4c5b-88ab-f0a69abfdd02"
      },
      "execution_count": 98,
      "outputs": [
        {
          "output_type": "stream",
          "name": "stdout",
          "text": [
            "{40, 10, 20, 30}\n"
          ]
        }
      ]
    },
    {
      "cell_type": "code",
      "source": [
        "set_3 = set_1.difference(set_2)"
      ],
      "metadata": {
        "id": "visAGybrAqB9"
      },
      "execution_count": 103,
      "outputs": []
    },
    {
      "cell_type": "code",
      "source": [
        "print(set_3)"
      ],
      "metadata": {
        "colab": {
          "base_uri": "https://localhost:8080/"
        },
        "id": "u34D2JJ8Av0G",
        "outputId": "94c81d36-db19-4175-b744-1cec5536c6d7"
      },
      "execution_count": 104,
      "outputs": [
        {
          "output_type": "stream",
          "name": "stdout",
          "text": [
            "{10, 20, 30}\n"
          ]
        }
      ]
    },
    {
      "cell_type": "code",
      "source": [
        "print(set_1.add(90))"
      ],
      "metadata": {
        "colab": {
          "base_uri": "https://localhost:8080/"
        },
        "id": "qFT4bdqdAyxO",
        "outputId": "85eac59d-ca53-40f0-fd6f-2bda24b41054"
      },
      "execution_count": 106,
      "outputs": [
        {
          "output_type": "stream",
          "name": "stdout",
          "text": [
            "None\n"
          ]
        }
      ]
    },
    {
      "cell_type": "code",
      "source": [
        "set_1 = {10,20,30}\n",
        "set_2 = {10, 40, 50}\n",
        "print(set_1.intersection(set_2))"
      ],
      "metadata": {
        "colab": {
          "base_uri": "https://localhost:8080/"
        },
        "id": "65X1bBwWBQwO",
        "outputId": "5fcf230a-be03-4b29-df5a-9d8796c4a81f"
      },
      "execution_count": 109,
      "outputs": [
        {
          "output_type": "stream",
          "name": "stdout",
          "text": [
            "{10}\n"
          ]
        }
      ]
    },
    {
      "cell_type": "code",
      "source": [
        "# Dictionaries \n",
        "# Dictionaries are a key-value pair data type\n",
        "\n",
        "my_dict = {\"key\": \"value\"}"
      ],
      "metadata": {
        "id": "jtMbgk_-BV6W"
      },
      "execution_count": 110,
      "outputs": []
    },
    {
      "cell_type": "code",
      "source": [
        "house_hold_item = {\"groceries_list\": [\"Salt\", \"Sugar\", \"Milk\"],\n",
        "                   \"furniture_list\": [\"Bed\", \"Closet\", \"Sofa\"],\n",
        "                   \"house_bills\": [\"Electric bill\", \"water bill\", \"internet bill\"]}"
      ],
      "metadata": {
        "id": "LfbA66BoCMoX"
      },
      "execution_count": 115,
      "outputs": []
    },
    {
      "cell_type": "code",
      "source": [
        "house_hold_item.keys()"
      ],
      "metadata": {
        "colab": {
          "base_uri": "https://localhost:8080/"
        },
        "id": "6JcL4z_OCOm5",
        "outputId": "11544fe2-6515-49ff-cb56-7ccd0b7e6386"
      },
      "execution_count": 120,
      "outputs": [
        {
          "output_type": "execute_result",
          "data": {
            "text/plain": [
              "dict_keys(['groceries_list', 'furniture_list', 'house_bills'])"
            ]
          },
          "metadata": {},
          "execution_count": 120
        }
      ]
    },
    {
      "cell_type": "code",
      "source": [
        "house_hold_item.values()"
      ],
      "metadata": {
        "colab": {
          "base_uri": "https://localhost:8080/"
        },
        "id": "YwaHJ-yWC7qt",
        "outputId": "b070497a-10d4-4714-8e8d-e070156ad073"
      },
      "execution_count": 121,
      "outputs": [
        {
          "output_type": "execute_result",
          "data": {
            "text/plain": [
              "dict_values([['Salt', 'Sugar', 'Milk'], ['Bed', 'Closet', 'Sofa'], ['Electric bill', 'water bill', 'internet bill']])"
            ]
          },
          "metadata": {},
          "execution_count": 121
        }
      ]
    },
    {
      "cell_type": "code",
      "source": [
        "house_hold_item[\"new_key\"] = \"New value\""
      ],
      "metadata": {
        "id": "uQxibq8WD62X"
      },
      "execution_count": 122,
      "outputs": []
    },
    {
      "cell_type": "code",
      "source": [
        "print(house_hold_item.get(\"new_key\"))"
      ],
      "metadata": {
        "colab": {
          "base_uri": "https://localhost:8080/"
        },
        "id": "UguVLR57EN7e",
        "outputId": "c8e6bff3-2c12-4064-c47d-3a4c3e86605a"
      },
      "execution_count": 126,
      "outputs": [
        {
          "output_type": "stream",
          "name": "stdout",
          "text": [
            "[10, 30, 40]\n"
          ]
        }
      ]
    },
    {
      "cell_type": "code",
      "source": [
        "house_hold_item[\"new_key\"] = [10, 30, 40]"
      ],
      "metadata": {
        "id": "o4tw4pvLEQRd"
      },
      "execution_count": 131,
      "outputs": []
    },
    {
      "cell_type": "code",
      "source": [
        "house_hold_item.update({\"new_key\": \"value\"})"
      ],
      "metadata": {
        "id": "9lGhUrVQEi6r"
      },
      "execution_count": 129,
      "outputs": []
    },
    {
      "cell_type": "code",
      "source": [
        "list_1 = house_hold_item.get(\"new_key\")"
      ],
      "metadata": {
        "id": "-7m1J9DsFHoM"
      },
      "execution_count": 140,
      "outputs": []
    },
    {
      "cell_type": "code",
      "source": [
        "list_1.append(50)"
      ],
      "metadata": {
        "id": "p763RuQoFKD9"
      },
      "execution_count": 137,
      "outputs": []
    },
    {
      "cell_type": "code",
      "source": [
        "list_1"
      ],
      "metadata": {
        "colab": {
          "base_uri": "https://localhost:8080/"
        },
        "id": "9vTumI2ZFm5Y",
        "outputId": "1a1502c2-ecb3-4a91-ea82-701bcb4fdaea"
      },
      "execution_count": 138,
      "outputs": [
        {
          "output_type": "execute_result",
          "data": {
            "text/plain": [
              "[10, 30, 40, 50]"
            ]
          },
          "metadata": {},
          "execution_count": 138
        }
      ]
    },
    {
      "cell_type": "code",
      "source": [
        "house_hold_item['new_key'] = list_1"
      ],
      "metadata": {
        "id": "W0EBxzgAFqUN"
      },
      "execution_count": 139,
      "outputs": []
    },
    {
      "cell_type": "code",
      "source": [
        "print(house_hold_item.get(\"new_key\"))"
      ],
      "metadata": {
        "colab": {
          "base_uri": "https://localhost:8080/"
        },
        "id": "z8SiK-niFwWo",
        "outputId": "06f6b8c6-9e37-4c4c-a293-c924ca215939"
      },
      "execution_count": 141,
      "outputs": [
        {
          "output_type": "stream",
          "name": "stdout",
          "text": [
            "[10, 30, 40, 50]\n"
          ]
        }
      ]
    },
    {
      "cell_type": "code",
      "source": [
        "# Exercise for the coming week\n",
        "# Go over the functions of list, set and tuple\n",
        "# Create a list with values as 10,50,60,70\n",
        "# Append value 100 to the above to the list\n",
        "# Define a dictionary of students and add name, marks, region as keys and values"
      ],
      "metadata": {
        "id": "mECcYyfHF4WB"
      },
      "execution_count": 142,
      "outputs": []
    },
    {
      "cell_type": "code",
      "source": [
        ""
      ],
      "metadata": {
        "id": "4NdLQ61qG5qD"
      },
      "execution_count": null,
      "outputs": []
    }
  ]
}