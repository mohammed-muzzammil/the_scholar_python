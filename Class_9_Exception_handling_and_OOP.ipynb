{
  "nbformat": 4,
  "nbformat_minor": 0,
  "metadata": {
    "colab": {
      "provenance": []
    },
    "kernelspec": {
      "name": "python3",
      "display_name": "Python 3"
    },
    "language_info": {
      "name": "python"
    }
  },
  "cells": [
    {
      "cell_type": "code",
      "execution_count": 12,
      "metadata": {
        "colab": {
          "base_uri": "https://localhost:8080/",
          "height": 201
        },
        "id": "fTMeygazAqQQ",
        "outputId": "26c78710-862a-4a5a-ad40-f26cb986e210"
      },
      "outputs": [
        {
          "output_type": "error",
          "ename": "IndexError",
          "evalue": "ignored",
          "traceback": [
            "\u001b[0;31m---------------------------------------------------------------------------\u001b[0m",
            "\u001b[0;31mIndexError\u001b[0m                                Traceback (most recent call last)",
            "\u001b[0;32m<ipython-input-12-00f5beb071bd>\u001b[0m in \u001b[0;36m<module>\u001b[0;34m\u001b[0m\n\u001b[1;32m      2\u001b[0m \u001b[0;34m\u001b[0m\u001b[0m\n\u001b[1;32m      3\u001b[0m \u001b[0ml\u001b[0m \u001b[0;34m=\u001b[0m \u001b[0;34m[\u001b[0m\u001b[0;36m0\u001b[0m\u001b[0;34m,\u001b[0m\u001b[0;36m1\u001b[0m\u001b[0;34m,\u001b[0m\u001b[0;36m2\u001b[0m\u001b[0;34m]\u001b[0m\u001b[0;34m\u001b[0m\u001b[0;34m\u001b[0m\u001b[0m\n\u001b[0;32m----> 4\u001b[0;31m \u001b[0mprint\u001b[0m\u001b[0;34m(\u001b[0m\u001b[0ml\u001b[0m\u001b[0;34m[\u001b[0m\u001b[0;36m3\u001b[0m\u001b[0;34m]\u001b[0m\u001b[0;34m)\u001b[0m\u001b[0;34m\u001b[0m\u001b[0;34m\u001b[0m\u001b[0m\n\u001b[0m",
            "\u001b[0;31mIndexError\u001b[0m: list index out of range"
          ]
        }
      ],
      "source": [
        "# Exception Handling\n",
        "\n",
        "l = [0,1,2]\n",
        "print(l[3])"
      ]
    },
    {
      "cell_type": "code",
      "source": [
        "# Compilation or compile time error\n",
        "\n",
        "l = [0,1,3]\n",
        "print(l[4]\n",
        "      \n",
        "\n",
        "\n"
      ],
      "metadata": {
        "colab": {
          "base_uri": "https://localhost:8080/",
          "height": 131
        },
        "id": "rvy_6CU3BTq4",
        "outputId": "3891a485-c0e6-4d28-f60d-d2753e01580c"
      },
      "execution_count": 5,
      "outputs": [
        {
          "output_type": "error",
          "ename": "SyntaxError",
          "evalue": "ignored",
          "traceback": [
            "\u001b[0;36m  File \u001b[0;32m\"<ipython-input-5-3b9b6f7892f4>\"\u001b[0;36m, line \u001b[0;32m4\u001b[0m\n\u001b[0;31m    print(l[4]\u001b[0m\n\u001b[0m              ^\u001b[0m\n\u001b[0;31mSyntaxError\u001b[0m\u001b[0;31m:\u001b[0m unexpected EOF while parsing\n"
          ]
        }
      ]
    },
    {
      "cell_type": "code",
      "source": [
        "# Run time error also known as exception\n",
        "\n",
        "n = int(input(\"Please enter a number to divide 10 \"))\n",
        "\n",
        "print(10/n)\n"
      ],
      "metadata": {
        "colab": {
          "base_uri": "https://localhost:8080/",
          "height": 218
        },
        "id": "GIU6LqCCBz0G",
        "outputId": "75a2fbd7-5160-48f3-e731-9424afc18e35"
      },
      "execution_count": 7,
      "outputs": [
        {
          "name": "stdout",
          "output_type": "stream",
          "text": [
            "Please enter a number to divide 10 0\n"
          ]
        },
        {
          "output_type": "error",
          "ename": "ZeroDivisionError",
          "evalue": "ignored",
          "traceback": [
            "\u001b[0;31m---------------------------------------------------------------------------\u001b[0m",
            "\u001b[0;31mZeroDivisionError\u001b[0m                         Traceback (most recent call last)",
            "\u001b[0;32m<ipython-input-7-bea3057f810c>\u001b[0m in \u001b[0;36m<module>\u001b[0;34m\u001b[0m\n\u001b[1;32m      3\u001b[0m \u001b[0mn\u001b[0m \u001b[0;34m=\u001b[0m \u001b[0mint\u001b[0m\u001b[0;34m(\u001b[0m\u001b[0minput\u001b[0m\u001b[0;34m(\u001b[0m\u001b[0;34m\"Please enter a number to divide 10 \"\u001b[0m\u001b[0;34m)\u001b[0m\u001b[0;34m)\u001b[0m\u001b[0;34m\u001b[0m\u001b[0;34m\u001b[0m\u001b[0m\n\u001b[1;32m      4\u001b[0m \u001b[0;34m\u001b[0m\u001b[0m\n\u001b[0;32m----> 5\u001b[0;31m \u001b[0mprint\u001b[0m\u001b[0;34m(\u001b[0m\u001b[0;36m10\u001b[0m\u001b[0;34m/\u001b[0m\u001b[0mn\u001b[0m\u001b[0;34m)\u001b[0m\u001b[0;34m\u001b[0m\u001b[0;34m\u001b[0m\u001b[0m\n\u001b[0m",
            "\u001b[0;31mZeroDivisionError\u001b[0m: division by zero"
          ]
        }
      ]
    },
    {
      "cell_type": "code",
      "source": [
        "# Exception Handling - is a way to handle the run time errors\n",
        "\n",
        "# try block \n",
        "# except block\n",
        "\n",
        "try:\n",
        "  n = int(input(\"Please enter a number to divide 10 \"))\n",
        "  print(10/n)\n",
        "\n",
        "except Exception:\n",
        "  print(\"Please dont divide the number by 0\")\n",
        "\n",
        "\n",
        "\n"
      ],
      "metadata": {
        "colab": {
          "base_uri": "https://localhost:8080/",
          "height": 131
        },
        "id": "5N5z32JCCTjK",
        "outputId": "fad09ba2-37ba-4045-f1de-17329afaba23"
      },
      "execution_count": 10,
      "outputs": [
        {
          "output_type": "error",
          "ename": "SyntaxError",
          "evalue": "ignored",
          "traceback": [
            "\u001b[0;36m  File \u001b[0;32m\"<ipython-input-10-5b32d507107d>\"\u001b[0;36m, line \u001b[0;32m13\u001b[0m\n\u001b[0;31m    \u001b[0m\n\u001b[0m    ^\u001b[0m\n\u001b[0;31mSyntaxError\u001b[0m\u001b[0;31m:\u001b[0m unexpected EOF while parsing\n"
          ]
        }
      ]
    },
    {
      "cell_type": "code",
      "source": [
        "l = [0,1,2]\n",
        "\n",
        "try:\n",
        "  print(l[4])\n",
        "\n",
        "except Exception:\n",
        "  print(\"An Error occured\")"
      ],
      "metadata": {
        "colab": {
          "base_uri": "https://localhost:8080/"
        },
        "id": "LYyNwHyuDLcE",
        "outputId": "2ddc1ca5-fbb6-449b-a00d-a2d98bfe4813"
      },
      "execution_count": 15,
      "outputs": [
        {
          "output_type": "stream",
          "name": "stdout",
          "text": [
            "An Error occured\n"
          ]
        }
      ]
    },
    {
      "cell_type": "code",
      "source": [
        "def func_1():\n",
        "  try:\n",
        "    print(1/0)\n",
        "\n",
        "  except Exception:\n",
        "    print(\"Error occured\")"
      ],
      "metadata": {
        "id": "UVsZGQXeEImQ"
      },
      "execution_count": 13,
      "outputs": []
    },
    {
      "cell_type": "code",
      "source": [
        "func_1()"
      ],
      "metadata": {
        "colab": {
          "base_uri": "https://localhost:8080/"
        },
        "id": "Fe1AtsJvEVvh",
        "outputId": "015ec093-1051-43b9-c9fe-6e8a1903940a"
      },
      "execution_count": 14,
      "outputs": [
        {
          "output_type": "stream",
          "name": "stdout",
          "text": [
            "Error occured\n"
          ]
        }
      ]
    },
    {
      "cell_type": "code",
      "source": [
        "try:\n",
        "  print(l[4])\n",
        "  print(1/0)\n",
        "\n",
        "except ZeroDivisionError:\n",
        "  print(\"You cannot divide number by zero\")\n",
        "\n",
        "except IndexError:\n",
        "  print(\"List index out of range\")\n",
        "\n"
      ],
      "metadata": {
        "colab": {
          "base_uri": "https://localhost:8080/"
        },
        "id": "P9yYX0MTEXjJ",
        "outputId": "ebb21f7b-cee9-4d84-8f09-0095a708d5ef"
      },
      "execution_count": 20,
      "outputs": [
        {
          "output_type": "stream",
          "name": "stdout",
          "text": [
            "List index out of range\n"
          ]
        }
      ]
    },
    {
      "cell_type": "code",
      "source": [
        "print(1/0)"
      ],
      "metadata": {
        "colab": {
          "base_uri": "https://localhost:8080/",
          "height": 166
        },
        "id": "98D6r77uEk1N",
        "outputId": "4df8041d-42b2-461e-caea-ebf18fb43b77"
      },
      "execution_count": 17,
      "outputs": [
        {
          "output_type": "error",
          "ename": "ZeroDivisionError",
          "evalue": "ignored",
          "traceback": [
            "\u001b[0;31m---------------------------------------------------------------------------\u001b[0m",
            "\u001b[0;31mZeroDivisionError\u001b[0m                         Traceback (most recent call last)",
            "\u001b[0;32m<ipython-input-17-2fc232d1511a>\u001b[0m in \u001b[0;36m<module>\u001b[0;34m\u001b[0m\n\u001b[0;32m----> 1\u001b[0;31m \u001b[0mprint\u001b[0m\u001b[0;34m(\u001b[0m\u001b[0;36m1\u001b[0m\u001b[0;34m/\u001b[0m\u001b[0;36m0\u001b[0m\u001b[0;34m)\u001b[0m\u001b[0;34m\u001b[0m\u001b[0;34m\u001b[0m\u001b[0m\n\u001b[0m",
            "\u001b[0;31mZeroDivisionError\u001b[0m: division by zero"
          ]
        }
      ]
    },
    {
      "cell_type": "code",
      "source": [
        "# Nested Exception Handling\n",
        "\n",
        "try:\n",
        "  print(\"Here on line 1\")\n",
        "  print(1/1)\n",
        "  print(\"Here on line 2\")\n",
        "  try:\n",
        "    print(l[2])\n",
        "\n",
        "  except Exception:\n",
        "    print(\"Error occured in the inner try block\")\n",
        "\n",
        "except Exception:\n",
        "  print(\"Error occured in the outer try block\")\n",
        "\n",
        "\n"
      ],
      "metadata": {
        "colab": {
          "base_uri": "https://localhost:8080/"
        },
        "id": "nE7leg15FD14",
        "outputId": "40e266af-5d48-4f5a-e125-0e3613b84b4e"
      },
      "execution_count": 26,
      "outputs": [
        {
          "output_type": "stream",
          "name": "stdout",
          "text": [
            "Here on line 1\n",
            "1.0\n",
            "Here on line 2\n",
            "2\n"
          ]
        }
      ]
    },
    {
      "cell_type": "code",
      "source": [
        "# OOP - Object Oriented Programming \n",
        "\n",
        "# Class\n",
        "\n",
        "# A collection of similar variables and function\n",
        "\n",
        "\n",
        "# Objects\n",
        "\n",
        "# An object is a instance of a class\n",
        "\n"
      ],
      "metadata": {
        "id": "kKuU-E3YF_V0"
      },
      "execution_count": 27,
      "outputs": []
    },
    {
      "cell_type": "code",
      "source": [
        "# Defining a class\n",
        "class sample_class:\n",
        "  pass"
      ],
      "metadata": {
        "id": "f5mO8GjPJRft"
      },
      "execution_count": 31,
      "outputs": []
    },
    {
      "cell_type": "code",
      "source": [
        "# Defining a object\n",
        "obj_a = sample_class()\n",
        "obj_b = sample_class()\n",
        "obj_c = sample_class()"
      ],
      "metadata": {
        "id": "qgVm12NjJW61"
      },
      "execution_count": 32,
      "outputs": []
    },
    {
      "cell_type": "code",
      "source": [
        "class Car:\n",
        "  def __init__(self):\n",
        "    self.model = \"Sedan\"\n",
        "    self.fuel_type = \"diesel\"\n",
        "    self.color = \"Red\"\n",
        "\n",
        "  def give_details(self):\n",
        "    print(\"Model is \", self.model)\n",
        "    print(\"fuel type is \", self.fuel_type)\n",
        "    print(\"Color is \", self.color)\n",
        "\n",
        "\n"
      ],
      "metadata": {
        "id": "qhJHVcZcJgrp"
      },
      "execution_count": 42,
      "outputs": []
    },
    {
      "cell_type": "code",
      "source": [
        "obj_a = Car()"
      ],
      "metadata": {
        "id": "j0rX8DveKfma"
      },
      "execution_count": 43,
      "outputs": []
    },
    {
      "cell_type": "code",
      "source": [
        "obj_a.give_details()"
      ],
      "metadata": {
        "colab": {
          "base_uri": "https://localhost:8080/"
        },
        "id": "iTn9dqwHKmEc",
        "outputId": "5206109a-928a-4565-c2c8-3e3bb7b65aba"
      },
      "execution_count": 44,
      "outputs": [
        {
          "output_type": "stream",
          "name": "stdout",
          "text": [
            "Model is  Sedan\n",
            "fuel type is  diesel\n",
            "Color is  Red\n"
          ]
        }
      ]
    },
    {
      "cell_type": "code",
      "source": [
        "# Constructor \n",
        "\n",
        "# A special function in python\n",
        "# the name of this function should always be __init__()\n",
        "# It will be executed automatically when we create a object\n",
        "# The objective is to perform initialization \n",
        "# It is optional if we dont define a default constructor will be used"
      ],
      "metadata": {
        "id": "RDbbH6FhKqiL"
      },
      "execution_count": 45,
      "outputs": []
    },
    {
      "cell_type": "code",
      "source": [
        "# Self\n",
        "\n",
        "# By using self we can access all the variables and functions of a class"
      ],
      "metadata": {
        "id": "BiHB_vUwM7Q6"
      },
      "execution_count": 46,
      "outputs": []
    },
    {
      "cell_type": "code",
      "source": [
        "class Car:\n",
        "  def __init__(self, model, fuel_type, color):\n",
        "    self.model = model\n",
        "    self.fuel_type = fuel_type\n",
        "    self.color = color\n",
        "\n",
        "  def give_details(self):\n",
        "    print(\"Model is \", self.model)\n",
        "    print(\"fuel type is \", self.fuel_type)\n",
        "    print(\"Color is \", self.color)\n",
        "\n",
        "\n"
      ],
      "metadata": {
        "id": "B0L6rqxANFR5"
      },
      "execution_count": 47,
      "outputs": []
    },
    {
      "cell_type": "code",
      "source": [
        "obj_a = Car(\"Sedan\", \"Diesel\", \"Red\")"
      ],
      "metadata": {
        "id": "TuuZQleBNpLg"
      },
      "execution_count": 48,
      "outputs": []
    },
    {
      "cell_type": "code",
      "source": [
        "obj_a.give_details()"
      ],
      "metadata": {
        "colab": {
          "base_uri": "https://localhost:8080/"
        },
        "id": "OLUxytUCN4hk",
        "outputId": "43d6cded-48d2-4581-9d2a-12d2778d313a"
      },
      "execution_count": 49,
      "outputs": [
        {
          "output_type": "stream",
          "name": "stdout",
          "text": [
            "Model is  Sedan\n",
            "fuel type is  Diesel\n",
            "Color is  Red\n"
          ]
        }
      ]
    },
    {
      "cell_type": "code",
      "source": [
        "obj_b = Car(\"HatchBack\", \"Petrol\", \"White\")"
      ],
      "metadata": {
        "id": "YirCbf9ZN7dC"
      },
      "execution_count": 50,
      "outputs": []
    },
    {
      "cell_type": "code",
      "source": [
        "obj_b.give_details()"
      ],
      "metadata": {
        "colab": {
          "base_uri": "https://localhost:8080/"
        },
        "id": "bHmWajZLOEvW",
        "outputId": "00519324-6d6c-4b35-cba3-24ddcd3be0af"
      },
      "execution_count": 51,
      "outputs": [
        {
          "output_type": "stream",
          "name": "stdout",
          "text": [
            "Model is  HatchBack\n",
            "fuel type is  Petrol\n",
            "Color is  White\n"
          ]
        }
      ]
    },
    {
      "cell_type": "code",
      "source": [
        "class Employee:\n",
        "  def __init__(self, name, id, salary):\n",
        "    self.name = name\n",
        "    self.id = id\n",
        "    self.salary = salary\n",
        "    print(\"The constructor is executing\")\n",
        "\n",
        "  def give_employee_name_1(self):\n",
        "    self.name = \"Rahul\"\n",
        "    print(\"The employee name is \", self.name)\n",
        "\n",
        "  def give_employee_name_2(self):\n",
        "    self.name = \"Mayank\"\n",
        "    print(\"The Employee name is \", self.name)\n",
        "\n",
        "  def give_employee_name_3(self):\n",
        "    print(\"The Employee name is \", self.name)\n",
        "\n",
        "\n",
        "\n"
      ],
      "metadata": {
        "id": "wryWSoHxOH2R"
      },
      "execution_count": 70,
      "outputs": []
    },
    {
      "cell_type": "code",
      "source": [],
      "metadata": {
        "id": "EJSQ9l10PcbA"
      },
      "execution_count": 74,
      "outputs": []
    },
    {
      "cell_type": "code",
      "source": [],
      "metadata": {
        "id": "LAyN83BMPlKf"
      },
      "execution_count": 74,
      "outputs": []
    },
    {
      "cell_type": "code",
      "source": [],
      "metadata": {
        "id": "ELGv41A8PpBw"
      },
      "execution_count": 74,
      "outputs": []
    },
    {
      "cell_type": "code",
      "source": [
        "obj_3 = Employee(\"C\", 2, 300)"
      ],
      "metadata": {
        "colab": {
          "base_uri": "https://localhost:8080/"
        },
        "id": "GSmpG6CcPzrC",
        "outputId": "5f23a073-74e5-4676-93fc-0ae4524cf1ac"
      },
      "execution_count": 75,
      "outputs": [
        {
          "output_type": "stream",
          "name": "stdout",
          "text": [
            "The constructor is executing\n"
          ]
        }
      ]
    },
    {
      "cell_type": "code",
      "source": [
        "obj_3.give_employee_name_1()"
      ],
      "metadata": {
        "colab": {
          "base_uri": "https://localhost:8080/"
        },
        "id": "2HkpWFNeQRct",
        "outputId": "85c04a32-68b4-4d67-b246-8b299c951543"
      },
      "execution_count": 77,
      "outputs": [
        {
          "output_type": "stream",
          "name": "stdout",
          "text": [
            "The employee name is  Rahul\n"
          ]
        }
      ]
    },
    {
      "cell_type": "code",
      "source": [],
      "metadata": {
        "id": "tb-XY1hUQg3h"
      },
      "execution_count": 71,
      "outputs": []
    },
    {
      "cell_type": "code",
      "source": [
        "obj_3.give_employee_name_3()"
      ],
      "metadata": {
        "colab": {
          "base_uri": "https://localhost:8080/"
        },
        "id": "l9CXwNMrQuSw",
        "outputId": "79d84b67-b1f1-41ae-a965-49119c2756fe"
      },
      "execution_count": 78,
      "outputs": [
        {
          "output_type": "stream",
          "name": "stdout",
          "text": [
            "The Employee name is  Rahul\n"
          ]
        }
      ]
    },
    {
      "cell_type": "code",
      "source": [
        "class A:\n",
        "  def __init__(self, name):\n",
        "    self.name = name\n",
        "\n",
        "\n",
        "  def func_1(self):\n",
        "    self.name = \"Muzz\"\n",
        "    print(self.name)\n",
        "\n",
        "  def func_2(self):\n",
        "    print(self.name)"
      ],
      "metadata": {
        "id": "CUBo4obCRa5Y"
      },
      "execution_count": 83,
      "outputs": []
    },
    {
      "cell_type": "code",
      "source": [
        "a = A(\"Rahul\")\n"
      ],
      "metadata": {
        "id": "60ZnHWhdSi7t"
      },
      "execution_count": 86,
      "outputs": []
    },
    {
      "cell_type": "code",
      "source": [
        "a.func_2()"
      ],
      "metadata": {
        "colab": {
          "base_uri": "https://localhost:8080/"
        },
        "id": "s_hHhHVBSl7H",
        "outputId": "1d40c740-adfc-4507-c703-df15d4fcfa00"
      },
      "execution_count": 89,
      "outputs": [
        {
          "output_type": "stream",
          "name": "stdout",
          "text": [
            "Muzz\n"
          ]
        }
      ]
    },
    {
      "cell_type": "code",
      "source": [
        "a.func_1()"
      ],
      "metadata": {
        "colab": {
          "base_uri": "https://localhost:8080/"
        },
        "id": "qPeyZ4qyS280",
        "outputId": "9d187861-fea7-4a5e-e7be-eeb06597a9b8"
      },
      "execution_count": 88,
      "outputs": [
        {
          "output_type": "stream",
          "name": "stdout",
          "text": [
            "Muzz\n"
          ]
        }
      ]
    },
    {
      "cell_type": "code",
      "source": [],
      "metadata": {
        "id": "0qInZn4QTGWX"
      },
      "execution_count": null,
      "outputs": []
    },
    {
      "cell_type": "code",
      "source": [],
      "metadata": {
        "id": "hUQpB289TFTX"
      },
      "execution_count": null,
      "outputs": []
    }
  ]
}